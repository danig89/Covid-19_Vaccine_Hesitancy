{
  "nbformat": 4,
  "nbformat_minor": 0,
  "metadata": {
    "kernelspec": {
      "display_name": "mlenv",
      "language": "python",
      "name": "mlenv"
    },
    "language_info": {
      "codemirror_mode": {
        "name": "ipython",
        "version": 3
      },
      "file_extension": ".py",
      "mimetype": "text/x-python",
      "name": "python",
      "nbconvert_exporter": "python",
      "pygments_lexer": "ipython3",
      "version": "3.8.3"
    },
    "colab": {
      "name": "logistic_regression_model_testing_feature_selection.ipynb",
      "provenance": [],
      "collapsed_sections": [],
      "toc_visible": true
    }
  },
  "cells": [
    {
      "cell_type": "code",
      "metadata": {
        "id": "2yMNNyrTpTIA"
      },
      "source": [
        "# Import dependencies\n",
        "import pandas as pd\n",
        "import numpy as np\n",
        "\n",
        "from pathlib import Path\n",
        "from collections import Counter\n",
        "\n",
        "import matplotlib.pyplot as plt"
      ],
      "execution_count": 50,
      "outputs": []
    },
    {
      "cell_type": "markdown",
      "metadata": {
        "id": "4n4jrfPhpTID"
      },
      "source": [
        "# Import Data File"
      ]
    },
    {
      "cell_type": "code",
      "metadata": {
        "colab": {
          "base_uri": "https://localhost:8080/",
          "height": 482
        },
        "id": "SN1C5cSCpTIE",
        "outputId": "5c76bb67-8f58-451d-ec71-225cb876f2cb"
      },
      "source": [
        "# Import data file\n",
        "county_data_df = pd.read_csv(\"/content/complete_county_data.csv\")\n",
        "\n",
        "county_data_df.head()"
      ],
      "execution_count": 51,
      "outputs": [
        {
          "output_type": "execute_result",
          "data": {
            "text/html": [
              "<div>\n",
              "<style scoped>\n",
              "    .dataframe tbody tr th:only-of-type {\n",
              "        vertical-align: middle;\n",
              "    }\n",
              "\n",
              "    .dataframe tbody tr th {\n",
              "        vertical-align: top;\n",
              "    }\n",
              "\n",
              "    .dataframe thead th {\n",
              "        text-align: right;\n",
              "    }\n",
              "</style>\n",
              "<table border=\"1\" class=\"dataframe\">\n",
              "  <thead>\n",
              "    <tr style=\"text-align: right;\">\n",
              "      <th></th>\n",
              "      <th>fips_code</th>\n",
              "      <th>est_hesitant</th>\n",
              "      <th>est_strongly_hesitant</th>\n",
              "      <th>svi</th>\n",
              "      <th>svi_category</th>\n",
              "      <th>cvac</th>\n",
              "      <th>cvac_category</th>\n",
              "      <th>percent_hispanic</th>\n",
              "      <th>percent_american_indian_alaska_native</th>\n",
              "      <th>percent_asian</th>\n",
              "      <th>percent_black</th>\n",
              "      <th>percent_hawaiian_pacific</th>\n",
              "      <th>percent_white</th>\n",
              "      <th>geographical_point</th>\n",
              "      <th>state_code</th>\n",
              "      <th>county_boundary</th>\n",
              "      <th>state_boundary</th>\n",
              "      <th>State</th>\n",
              "      <th>County</th>\n",
              "      <th>TotalPop</th>\n",
              "      <th>Men</th>\n",
              "      <th>Women</th>\n",
              "      <th>Hispanic</th>\n",
              "      <th>White</th>\n",
              "      <th>Black</th>\n",
              "      <th>Native</th>\n",
              "      <th>Asian</th>\n",
              "      <th>Pacific</th>\n",
              "      <th>VotingAgeCitizen</th>\n",
              "      <th>Income</th>\n",
              "      <th>IncomeErr</th>\n",
              "      <th>IncomePerCap</th>\n",
              "      <th>IncomePerCapErr</th>\n",
              "      <th>Poverty</th>\n",
              "      <th>ChildPoverty</th>\n",
              "      <th>Professional</th>\n",
              "      <th>Service</th>\n",
              "      <th>Office</th>\n",
              "      <th>Construction</th>\n",
              "      <th>Production</th>\n",
              "      <th>Drive</th>\n",
              "      <th>Carpool</th>\n",
              "      <th>Transit</th>\n",
              "      <th>Walk</th>\n",
              "      <th>OtherTransp</th>\n",
              "      <th>WorkAtHome</th>\n",
              "      <th>MeanCommute</th>\n",
              "      <th>Employed</th>\n",
              "      <th>PrivateWork</th>\n",
              "      <th>PublicWork</th>\n",
              "      <th>SelfEmployed</th>\n",
              "      <th>FamilyWork</th>\n",
              "      <th>Unemployment</th>\n",
              "      <th>percentage20_Donald_Trump</th>\n",
              "      <th>percentage20_Joe_Biden</th>\n",
              "      <th>county_y</th>\n",
              "      <th>state_y</th>\n",
              "      <th>population</th>\n",
              "      <th>density</th>\n",
              "      <th>hesitancy</th>\n",
              "      <th>population_scaled</th>\n",
              "      <th>Winning_candidate_2020</th>\n",
              "    </tr>\n",
              "  </thead>\n",
              "  <tbody>\n",
              "    <tr>\n",
              "      <th>0</th>\n",
              "      <td>1001</td>\n",
              "      <td>0.22</td>\n",
              "      <td>0.10</td>\n",
              "      <td>0.44</td>\n",
              "      <td>Moderate Vulnerability</td>\n",
              "      <td>0.61</td>\n",
              "      <td>High Vulnerability</td>\n",
              "      <td>0.0283</td>\n",
              "      <td>0.0025</td>\n",
              "      <td>0.0103</td>\n",
              "      <td>0.1900</td>\n",
              "      <td>0.0001</td>\n",
              "      <td>0.7460</td>\n",
              "      <td>POINT (-86.844516 32.756889)</td>\n",
              "      <td>AL</td>\n",
              "      <td>MULTIPOLYGON (((-86.90309599999999 32.54062599...</td>\n",
              "      <td>MULTIPOLYGON (((-88.139988 34.581703, -88.1352...</td>\n",
              "      <td>Alabama</td>\n",
              "      <td>Autauga County</td>\n",
              "      <td>55036</td>\n",
              "      <td>26899</td>\n",
              "      <td>28137</td>\n",
              "      <td>2.7</td>\n",
              "      <td>75.4</td>\n",
              "      <td>18.9</td>\n",
              "      <td>0.3</td>\n",
              "      <td>0.9</td>\n",
              "      <td>0.0</td>\n",
              "      <td>41016</td>\n",
              "      <td>55317</td>\n",
              "      <td>2838</td>\n",
              "      <td>27824</td>\n",
              "      <td>2024</td>\n",
              "      <td>13.7</td>\n",
              "      <td>20.1</td>\n",
              "      <td>35.3</td>\n",
              "      <td>18.0</td>\n",
              "      <td>23.2</td>\n",
              "      <td>8.1</td>\n",
              "      <td>15.4</td>\n",
              "      <td>86.0</td>\n",
              "      <td>9.6</td>\n",
              "      <td>0.1</td>\n",
              "      <td>0.6</td>\n",
              "      <td>1.3</td>\n",
              "      <td>2.5</td>\n",
              "      <td>25.8</td>\n",
              "      <td>24112</td>\n",
              "      <td>74.1</td>\n",
              "      <td>20.2</td>\n",
              "      <td>5.6</td>\n",
              "      <td>0.1</td>\n",
              "      <td>5.2</td>\n",
              "      <td>0.715</td>\n",
              "      <td>0.270</td>\n",
              "      <td>Autauga County</td>\n",
              "      <td>AL</td>\n",
              "      <td>55514</td>\n",
              "      <td>urban</td>\n",
              "      <td>moderate hesitancy</td>\n",
              "      <td>5.5514</td>\n",
              "      <td>Trump</td>\n",
              "    </tr>\n",
              "    <tr>\n",
              "      <th>1</th>\n",
              "      <td>1003</td>\n",
              "      <td>0.20</td>\n",
              "      <td>0.10</td>\n",
              "      <td>0.22</td>\n",
              "      <td>Low Vulnerability</td>\n",
              "      <td>0.23</td>\n",
              "      <td>Low Vulnerability</td>\n",
              "      <td>0.0456</td>\n",
              "      <td>0.0065</td>\n",
              "      <td>0.0092</td>\n",
              "      <td>0.0917</td>\n",
              "      <td>0.0000</td>\n",
              "      <td>0.8307</td>\n",
              "      <td>POINT (-86.844516 32.756889)</td>\n",
              "      <td>AL</td>\n",
              "      <td>MULTIPOLYGON (((-87.990684 30.55549, -87.98783...</td>\n",
              "      <td>MULTIPOLYGON (((-88.139988 34.581703, -88.1352...</td>\n",
              "      <td>Alabama</td>\n",
              "      <td>Baldwin County</td>\n",
              "      <td>203360</td>\n",
              "      <td>99527</td>\n",
              "      <td>103833</td>\n",
              "      <td>4.4</td>\n",
              "      <td>83.1</td>\n",
              "      <td>9.5</td>\n",
              "      <td>0.8</td>\n",
              "      <td>0.7</td>\n",
              "      <td>0.0</td>\n",
              "      <td>155376</td>\n",
              "      <td>52562</td>\n",
              "      <td>1348</td>\n",
              "      <td>29364</td>\n",
              "      <td>735</td>\n",
              "      <td>11.8</td>\n",
              "      <td>16.1</td>\n",
              "      <td>35.7</td>\n",
              "      <td>18.2</td>\n",
              "      <td>25.6</td>\n",
              "      <td>9.7</td>\n",
              "      <td>10.8</td>\n",
              "      <td>84.7</td>\n",
              "      <td>7.6</td>\n",
              "      <td>0.1</td>\n",
              "      <td>0.8</td>\n",
              "      <td>1.1</td>\n",
              "      <td>5.6</td>\n",
              "      <td>27.0</td>\n",
              "      <td>89527</td>\n",
              "      <td>80.7</td>\n",
              "      <td>12.9</td>\n",
              "      <td>6.3</td>\n",
              "      <td>0.1</td>\n",
              "      <td>5.5</td>\n",
              "      <td>0.762</td>\n",
              "      <td>0.223</td>\n",
              "      <td>Baldwin County</td>\n",
              "      <td>AL</td>\n",
              "      <td>190790</td>\n",
              "      <td>urban</td>\n",
              "      <td>moderate hesitancy</td>\n",
              "      <td>19.0790</td>\n",
              "      <td>Trump</td>\n",
              "    </tr>\n",
              "    <tr>\n",
              "      <th>2</th>\n",
              "      <td>1005</td>\n",
              "      <td>0.23</td>\n",
              "      <td>0.11</td>\n",
              "      <td>1.00</td>\n",
              "      <td>Very High Vulnerability</td>\n",
              "      <td>0.89</td>\n",
              "      <td>Very High Vulnerability</td>\n",
              "      <td>0.0436</td>\n",
              "      <td>0.0029</td>\n",
              "      <td>0.0048</td>\n",
              "      <td>0.4744</td>\n",
              "      <td>0.0000</td>\n",
              "      <td>0.4581</td>\n",
              "      <td>POINT (-86.844516 32.756889)</td>\n",
              "      <td>AL</td>\n",
              "      <td>MULTIPOLYGON (((-85.429819 32.045983, -85.4303...</td>\n",
              "      <td>MULTIPOLYGON (((-88.139988 34.581703, -88.1352...</td>\n",
              "      <td>Alabama</td>\n",
              "      <td>Barbour County</td>\n",
              "      <td>26201</td>\n",
              "      <td>13976</td>\n",
              "      <td>12225</td>\n",
              "      <td>4.2</td>\n",
              "      <td>45.7</td>\n",
              "      <td>47.8</td>\n",
              "      <td>0.2</td>\n",
              "      <td>0.6</td>\n",
              "      <td>0.0</td>\n",
              "      <td>20269</td>\n",
              "      <td>33368</td>\n",
              "      <td>2551</td>\n",
              "      <td>17561</td>\n",
              "      <td>798</td>\n",
              "      <td>27.2</td>\n",
              "      <td>44.9</td>\n",
              "      <td>25.0</td>\n",
              "      <td>16.8</td>\n",
              "      <td>22.6</td>\n",
              "      <td>11.5</td>\n",
              "      <td>24.1</td>\n",
              "      <td>83.4</td>\n",
              "      <td>11.1</td>\n",
              "      <td>0.3</td>\n",
              "      <td>2.2</td>\n",
              "      <td>1.7</td>\n",
              "      <td>1.3</td>\n",
              "      <td>23.4</td>\n",
              "      <td>8878</td>\n",
              "      <td>74.1</td>\n",
              "      <td>19.1</td>\n",
              "      <td>6.5</td>\n",
              "      <td>0.3</td>\n",
              "      <td>12.4</td>\n",
              "      <td>0.536</td>\n",
              "      <td>0.456</td>\n",
              "      <td>Barbour County</td>\n",
              "      <td>AL</td>\n",
              "      <td>27201</td>\n",
              "      <td>rural</td>\n",
              "      <td>moderate hesitancy</td>\n",
              "      <td>2.7201</td>\n",
              "      <td>Trump</td>\n",
              "    </tr>\n",
              "    <tr>\n",
              "      <th>3</th>\n",
              "      <td>1007</td>\n",
              "      <td>0.24</td>\n",
              "      <td>0.12</td>\n",
              "      <td>0.60</td>\n",
              "      <td>High Vulnerability</td>\n",
              "      <td>0.76</td>\n",
              "      <td>High Vulnerability</td>\n",
              "      <td>0.0257</td>\n",
              "      <td>0.0013</td>\n",
              "      <td>0.0012</td>\n",
              "      <td>0.2214</td>\n",
              "      <td>0.0000</td>\n",
              "      <td>0.7453</td>\n",
              "      <td>POINT (-86.844516 32.756889)</td>\n",
              "      <td>AL</td>\n",
              "      <td>MULTIPOLYGON (((-87.312265 33.086219, -87.3121...</td>\n",
              "      <td>MULTIPOLYGON (((-88.139988 34.581703, -88.1352...</td>\n",
              "      <td>Alabama</td>\n",
              "      <td>Bibb County</td>\n",
              "      <td>22580</td>\n",
              "      <td>12251</td>\n",
              "      <td>10329</td>\n",
              "      <td>2.4</td>\n",
              "      <td>74.6</td>\n",
              "      <td>22.0</td>\n",
              "      <td>0.4</td>\n",
              "      <td>0.0</td>\n",
              "      <td>0.0</td>\n",
              "      <td>17662</td>\n",
              "      <td>43404</td>\n",
              "      <td>3431</td>\n",
              "      <td>20911</td>\n",
              "      <td>1889</td>\n",
              "      <td>15.2</td>\n",
              "      <td>26.6</td>\n",
              "      <td>24.4</td>\n",
              "      <td>17.6</td>\n",
              "      <td>19.7</td>\n",
              "      <td>15.9</td>\n",
              "      <td>22.4</td>\n",
              "      <td>86.4</td>\n",
              "      <td>9.5</td>\n",
              "      <td>0.7</td>\n",
              "      <td>0.3</td>\n",
              "      <td>1.7</td>\n",
              "      <td>1.5</td>\n",
              "      <td>30.0</td>\n",
              "      <td>8171</td>\n",
              "      <td>76.0</td>\n",
              "      <td>17.4</td>\n",
              "      <td>6.3</td>\n",
              "      <td>0.3</td>\n",
              "      <td>8.2</td>\n",
              "      <td>0.784</td>\n",
              "      <td>0.207</td>\n",
              "      <td>Bibb County</td>\n",
              "      <td>AL</td>\n",
              "      <td>22597</td>\n",
              "      <td>urban</td>\n",
              "      <td>moderate hesitancy</td>\n",
              "      <td>2.2597</td>\n",
              "      <td>Trump</td>\n",
              "    </tr>\n",
              "    <tr>\n",
              "      <th>4</th>\n",
              "      <td>1009</td>\n",
              "      <td>0.23</td>\n",
              "      <td>0.11</td>\n",
              "      <td>0.42</td>\n",
              "      <td>Moderate Vulnerability</td>\n",
              "      <td>0.80</td>\n",
              "      <td>High Vulnerability</td>\n",
              "      <td>0.0926</td>\n",
              "      <td>0.0007</td>\n",
              "      <td>0.0037</td>\n",
              "      <td>0.0153</td>\n",
              "      <td>0.0004</td>\n",
              "      <td>0.8689</td>\n",
              "      <td>POINT (-86.844516 32.756889)</td>\n",
              "      <td>AL</td>\n",
              "      <td>MULTIPOLYGON (((-86.74918799999999 33.997596, ...</td>\n",
              "      <td>MULTIPOLYGON (((-88.139988 34.581703, -88.1352...</td>\n",
              "      <td>Alabama</td>\n",
              "      <td>Blount County</td>\n",
              "      <td>57667</td>\n",
              "      <td>28490</td>\n",
              "      <td>29177</td>\n",
              "      <td>9.0</td>\n",
              "      <td>87.4</td>\n",
              "      <td>1.5</td>\n",
              "      <td>0.3</td>\n",
              "      <td>0.1</td>\n",
              "      <td>0.0</td>\n",
              "      <td>42513</td>\n",
              "      <td>47412</td>\n",
              "      <td>2630</td>\n",
              "      <td>22021</td>\n",
              "      <td>850</td>\n",
              "      <td>15.6</td>\n",
              "      <td>25.4</td>\n",
              "      <td>28.5</td>\n",
              "      <td>12.9</td>\n",
              "      <td>23.3</td>\n",
              "      <td>15.8</td>\n",
              "      <td>19.5</td>\n",
              "      <td>86.8</td>\n",
              "      <td>10.2</td>\n",
              "      <td>0.1</td>\n",
              "      <td>0.4</td>\n",
              "      <td>0.4</td>\n",
              "      <td>2.1</td>\n",
              "      <td>35.0</td>\n",
              "      <td>21380</td>\n",
              "      <td>83.9</td>\n",
              "      <td>11.9</td>\n",
              "      <td>4.0</td>\n",
              "      <td>0.1</td>\n",
              "      <td>4.9</td>\n",
              "      <td>0.896</td>\n",
              "      <td>0.096</td>\n",
              "      <td>Blount County</td>\n",
              "      <td>AL</td>\n",
              "      <td>57826</td>\n",
              "      <td>urban</td>\n",
              "      <td>moderate hesitancy</td>\n",
              "      <td>5.7826</td>\n",
              "      <td>Trump</td>\n",
              "    </tr>\n",
              "  </tbody>\n",
              "</table>\n",
              "</div>"
            ],
            "text/plain": [
              "   fips_code  est_hesitant  ...  population_scaled  Winning_candidate_2020\n",
              "0       1001          0.22  ...             5.5514                   Trump\n",
              "1       1003          0.20  ...            19.0790                   Trump\n",
              "2       1005          0.23  ...             2.7201                   Trump\n",
              "3       1007          0.24  ...             2.2597                   Trump\n",
              "4       1009          0.23  ...             5.7826                   Trump\n",
              "\n",
              "[5 rows x 62 columns]"
            ]
          },
          "metadata": {
            "tags": []
          },
          "execution_count": 51
        }
      ]
    },
    {
      "cell_type": "code",
      "metadata": {
        "colab": {
          "base_uri": "https://localhost:8080/",
          "height": 309
        },
        "id": "-tBUDI7QpTIH",
        "outputId": "fa862777-e5f0-4bf1-db94-33cd6ccc5b44"
      },
      "source": [
        "filtered_county_data_df = county_data_df.drop(columns={\"svi_category\", \"cvac\", \"cvac_category\", \"svi\", \"est_strongly_hesitant\", \"est_hesitant\", \"geographical_point\", \"state_code\", \"county_boundary\", \"state_boundary\", \"State\", \"County\"})\n",
        "filtered_county_data_df.head()"
      ],
      "execution_count": 52,
      "outputs": [
        {
          "output_type": "execute_result",
          "data": {
            "text/html": [
              "<div>\n",
              "<style scoped>\n",
              "    .dataframe tbody tr th:only-of-type {\n",
              "        vertical-align: middle;\n",
              "    }\n",
              "\n",
              "    .dataframe tbody tr th {\n",
              "        vertical-align: top;\n",
              "    }\n",
              "\n",
              "    .dataframe thead th {\n",
              "        text-align: right;\n",
              "    }\n",
              "</style>\n",
              "<table border=\"1\" class=\"dataframe\">\n",
              "  <thead>\n",
              "    <tr style=\"text-align: right;\">\n",
              "      <th></th>\n",
              "      <th>fips_code</th>\n",
              "      <th>percent_hispanic</th>\n",
              "      <th>percent_american_indian_alaska_native</th>\n",
              "      <th>percent_asian</th>\n",
              "      <th>percent_black</th>\n",
              "      <th>percent_hawaiian_pacific</th>\n",
              "      <th>percent_white</th>\n",
              "      <th>TotalPop</th>\n",
              "      <th>Men</th>\n",
              "      <th>Women</th>\n",
              "      <th>Hispanic</th>\n",
              "      <th>White</th>\n",
              "      <th>Black</th>\n",
              "      <th>Native</th>\n",
              "      <th>Asian</th>\n",
              "      <th>Pacific</th>\n",
              "      <th>VotingAgeCitizen</th>\n",
              "      <th>Income</th>\n",
              "      <th>IncomeErr</th>\n",
              "      <th>IncomePerCap</th>\n",
              "      <th>IncomePerCapErr</th>\n",
              "      <th>Poverty</th>\n",
              "      <th>ChildPoverty</th>\n",
              "      <th>Professional</th>\n",
              "      <th>Service</th>\n",
              "      <th>Office</th>\n",
              "      <th>Construction</th>\n",
              "      <th>Production</th>\n",
              "      <th>Drive</th>\n",
              "      <th>Carpool</th>\n",
              "      <th>Transit</th>\n",
              "      <th>Walk</th>\n",
              "      <th>OtherTransp</th>\n",
              "      <th>WorkAtHome</th>\n",
              "      <th>MeanCommute</th>\n",
              "      <th>Employed</th>\n",
              "      <th>PrivateWork</th>\n",
              "      <th>PublicWork</th>\n",
              "      <th>SelfEmployed</th>\n",
              "      <th>FamilyWork</th>\n",
              "      <th>Unemployment</th>\n",
              "      <th>percentage20_Donald_Trump</th>\n",
              "      <th>percentage20_Joe_Biden</th>\n",
              "      <th>county_y</th>\n",
              "      <th>state_y</th>\n",
              "      <th>population</th>\n",
              "      <th>density</th>\n",
              "      <th>hesitancy</th>\n",
              "      <th>population_scaled</th>\n",
              "      <th>Winning_candidate_2020</th>\n",
              "    </tr>\n",
              "  </thead>\n",
              "  <tbody>\n",
              "    <tr>\n",
              "      <th>0</th>\n",
              "      <td>1001</td>\n",
              "      <td>0.0283</td>\n",
              "      <td>0.0025</td>\n",
              "      <td>0.0103</td>\n",
              "      <td>0.1900</td>\n",
              "      <td>0.0001</td>\n",
              "      <td>0.7460</td>\n",
              "      <td>55036</td>\n",
              "      <td>26899</td>\n",
              "      <td>28137</td>\n",
              "      <td>2.7</td>\n",
              "      <td>75.4</td>\n",
              "      <td>18.9</td>\n",
              "      <td>0.3</td>\n",
              "      <td>0.9</td>\n",
              "      <td>0.0</td>\n",
              "      <td>41016</td>\n",
              "      <td>55317</td>\n",
              "      <td>2838</td>\n",
              "      <td>27824</td>\n",
              "      <td>2024</td>\n",
              "      <td>13.7</td>\n",
              "      <td>20.1</td>\n",
              "      <td>35.3</td>\n",
              "      <td>18.0</td>\n",
              "      <td>23.2</td>\n",
              "      <td>8.1</td>\n",
              "      <td>15.4</td>\n",
              "      <td>86.0</td>\n",
              "      <td>9.6</td>\n",
              "      <td>0.1</td>\n",
              "      <td>0.6</td>\n",
              "      <td>1.3</td>\n",
              "      <td>2.5</td>\n",
              "      <td>25.8</td>\n",
              "      <td>24112</td>\n",
              "      <td>74.1</td>\n",
              "      <td>20.2</td>\n",
              "      <td>5.6</td>\n",
              "      <td>0.1</td>\n",
              "      <td>5.2</td>\n",
              "      <td>0.715</td>\n",
              "      <td>0.270</td>\n",
              "      <td>Autauga County</td>\n",
              "      <td>AL</td>\n",
              "      <td>55514</td>\n",
              "      <td>urban</td>\n",
              "      <td>moderate hesitancy</td>\n",
              "      <td>5.5514</td>\n",
              "      <td>Trump</td>\n",
              "    </tr>\n",
              "    <tr>\n",
              "      <th>1</th>\n",
              "      <td>1003</td>\n",
              "      <td>0.0456</td>\n",
              "      <td>0.0065</td>\n",
              "      <td>0.0092</td>\n",
              "      <td>0.0917</td>\n",
              "      <td>0.0000</td>\n",
              "      <td>0.8307</td>\n",
              "      <td>203360</td>\n",
              "      <td>99527</td>\n",
              "      <td>103833</td>\n",
              "      <td>4.4</td>\n",
              "      <td>83.1</td>\n",
              "      <td>9.5</td>\n",
              "      <td>0.8</td>\n",
              "      <td>0.7</td>\n",
              "      <td>0.0</td>\n",
              "      <td>155376</td>\n",
              "      <td>52562</td>\n",
              "      <td>1348</td>\n",
              "      <td>29364</td>\n",
              "      <td>735</td>\n",
              "      <td>11.8</td>\n",
              "      <td>16.1</td>\n",
              "      <td>35.7</td>\n",
              "      <td>18.2</td>\n",
              "      <td>25.6</td>\n",
              "      <td>9.7</td>\n",
              "      <td>10.8</td>\n",
              "      <td>84.7</td>\n",
              "      <td>7.6</td>\n",
              "      <td>0.1</td>\n",
              "      <td>0.8</td>\n",
              "      <td>1.1</td>\n",
              "      <td>5.6</td>\n",
              "      <td>27.0</td>\n",
              "      <td>89527</td>\n",
              "      <td>80.7</td>\n",
              "      <td>12.9</td>\n",
              "      <td>6.3</td>\n",
              "      <td>0.1</td>\n",
              "      <td>5.5</td>\n",
              "      <td>0.762</td>\n",
              "      <td>0.223</td>\n",
              "      <td>Baldwin County</td>\n",
              "      <td>AL</td>\n",
              "      <td>190790</td>\n",
              "      <td>urban</td>\n",
              "      <td>moderate hesitancy</td>\n",
              "      <td>19.0790</td>\n",
              "      <td>Trump</td>\n",
              "    </tr>\n",
              "    <tr>\n",
              "      <th>2</th>\n",
              "      <td>1005</td>\n",
              "      <td>0.0436</td>\n",
              "      <td>0.0029</td>\n",
              "      <td>0.0048</td>\n",
              "      <td>0.4744</td>\n",
              "      <td>0.0000</td>\n",
              "      <td>0.4581</td>\n",
              "      <td>26201</td>\n",
              "      <td>13976</td>\n",
              "      <td>12225</td>\n",
              "      <td>4.2</td>\n",
              "      <td>45.7</td>\n",
              "      <td>47.8</td>\n",
              "      <td>0.2</td>\n",
              "      <td>0.6</td>\n",
              "      <td>0.0</td>\n",
              "      <td>20269</td>\n",
              "      <td>33368</td>\n",
              "      <td>2551</td>\n",
              "      <td>17561</td>\n",
              "      <td>798</td>\n",
              "      <td>27.2</td>\n",
              "      <td>44.9</td>\n",
              "      <td>25.0</td>\n",
              "      <td>16.8</td>\n",
              "      <td>22.6</td>\n",
              "      <td>11.5</td>\n",
              "      <td>24.1</td>\n",
              "      <td>83.4</td>\n",
              "      <td>11.1</td>\n",
              "      <td>0.3</td>\n",
              "      <td>2.2</td>\n",
              "      <td>1.7</td>\n",
              "      <td>1.3</td>\n",
              "      <td>23.4</td>\n",
              "      <td>8878</td>\n",
              "      <td>74.1</td>\n",
              "      <td>19.1</td>\n",
              "      <td>6.5</td>\n",
              "      <td>0.3</td>\n",
              "      <td>12.4</td>\n",
              "      <td>0.536</td>\n",
              "      <td>0.456</td>\n",
              "      <td>Barbour County</td>\n",
              "      <td>AL</td>\n",
              "      <td>27201</td>\n",
              "      <td>rural</td>\n",
              "      <td>moderate hesitancy</td>\n",
              "      <td>2.7201</td>\n",
              "      <td>Trump</td>\n",
              "    </tr>\n",
              "    <tr>\n",
              "      <th>3</th>\n",
              "      <td>1007</td>\n",
              "      <td>0.0257</td>\n",
              "      <td>0.0013</td>\n",
              "      <td>0.0012</td>\n",
              "      <td>0.2214</td>\n",
              "      <td>0.0000</td>\n",
              "      <td>0.7453</td>\n",
              "      <td>22580</td>\n",
              "      <td>12251</td>\n",
              "      <td>10329</td>\n",
              "      <td>2.4</td>\n",
              "      <td>74.6</td>\n",
              "      <td>22.0</td>\n",
              "      <td>0.4</td>\n",
              "      <td>0.0</td>\n",
              "      <td>0.0</td>\n",
              "      <td>17662</td>\n",
              "      <td>43404</td>\n",
              "      <td>3431</td>\n",
              "      <td>20911</td>\n",
              "      <td>1889</td>\n",
              "      <td>15.2</td>\n",
              "      <td>26.6</td>\n",
              "      <td>24.4</td>\n",
              "      <td>17.6</td>\n",
              "      <td>19.7</td>\n",
              "      <td>15.9</td>\n",
              "      <td>22.4</td>\n",
              "      <td>86.4</td>\n",
              "      <td>9.5</td>\n",
              "      <td>0.7</td>\n",
              "      <td>0.3</td>\n",
              "      <td>1.7</td>\n",
              "      <td>1.5</td>\n",
              "      <td>30.0</td>\n",
              "      <td>8171</td>\n",
              "      <td>76.0</td>\n",
              "      <td>17.4</td>\n",
              "      <td>6.3</td>\n",
              "      <td>0.3</td>\n",
              "      <td>8.2</td>\n",
              "      <td>0.784</td>\n",
              "      <td>0.207</td>\n",
              "      <td>Bibb County</td>\n",
              "      <td>AL</td>\n",
              "      <td>22597</td>\n",
              "      <td>urban</td>\n",
              "      <td>moderate hesitancy</td>\n",
              "      <td>2.2597</td>\n",
              "      <td>Trump</td>\n",
              "    </tr>\n",
              "    <tr>\n",
              "      <th>4</th>\n",
              "      <td>1009</td>\n",
              "      <td>0.0926</td>\n",
              "      <td>0.0007</td>\n",
              "      <td>0.0037</td>\n",
              "      <td>0.0153</td>\n",
              "      <td>0.0004</td>\n",
              "      <td>0.8689</td>\n",
              "      <td>57667</td>\n",
              "      <td>28490</td>\n",
              "      <td>29177</td>\n",
              "      <td>9.0</td>\n",
              "      <td>87.4</td>\n",
              "      <td>1.5</td>\n",
              "      <td>0.3</td>\n",
              "      <td>0.1</td>\n",
              "      <td>0.0</td>\n",
              "      <td>42513</td>\n",
              "      <td>47412</td>\n",
              "      <td>2630</td>\n",
              "      <td>22021</td>\n",
              "      <td>850</td>\n",
              "      <td>15.6</td>\n",
              "      <td>25.4</td>\n",
              "      <td>28.5</td>\n",
              "      <td>12.9</td>\n",
              "      <td>23.3</td>\n",
              "      <td>15.8</td>\n",
              "      <td>19.5</td>\n",
              "      <td>86.8</td>\n",
              "      <td>10.2</td>\n",
              "      <td>0.1</td>\n",
              "      <td>0.4</td>\n",
              "      <td>0.4</td>\n",
              "      <td>2.1</td>\n",
              "      <td>35.0</td>\n",
              "      <td>21380</td>\n",
              "      <td>83.9</td>\n",
              "      <td>11.9</td>\n",
              "      <td>4.0</td>\n",
              "      <td>0.1</td>\n",
              "      <td>4.9</td>\n",
              "      <td>0.896</td>\n",
              "      <td>0.096</td>\n",
              "      <td>Blount County</td>\n",
              "      <td>AL</td>\n",
              "      <td>57826</td>\n",
              "      <td>urban</td>\n",
              "      <td>moderate hesitancy</td>\n",
              "      <td>5.7826</td>\n",
              "      <td>Trump</td>\n",
              "    </tr>\n",
              "  </tbody>\n",
              "</table>\n",
              "</div>"
            ],
            "text/plain": [
              "   fips_code  percent_hispanic  ...  population_scaled  Winning_candidate_2020\n",
              "0       1001            0.0283  ...             5.5514                   Trump\n",
              "1       1003            0.0456  ...            19.0790                   Trump\n",
              "2       1005            0.0436  ...             2.7201                   Trump\n",
              "3       1007            0.0257  ...             2.2597                   Trump\n",
              "4       1009            0.0926  ...             5.7826                   Trump\n",
              "\n",
              "[5 rows x 50 columns]"
            ]
          },
          "metadata": {
            "tags": []
          },
          "execution_count": 52
        }
      ]
    },
    {
      "cell_type": "markdown",
      "metadata": {
        "id": "JbGMTHW7pTIH"
      },
      "source": [
        "# Split the Data into Training and Testing"
      ]
    },
    {
      "cell_type": "code",
      "metadata": {
        "colab": {
          "base_uri": "https://localhost:8080/",
          "height": 314
        },
        "id": "azgcS2KopTIH",
        "outputId": "d508f62a-ced3-45dd-f387-32f82d36290b"
      },
      "source": [
        "# Choose Independent variables\n",
        "X = county_data_df[[\"percent_white\",\"percent_hispanic\", \"percent_american_indian_alaska_native\",\n",
        "                        \"percent_asian\", \"percent_black\", \"percent_hawaiian_pacific\", \"Poverty\", \n",
        "                        \"ChildPoverty\", \"Drive\",\"Carpool\", \"Transit\", \"Walk\", \"OtherTransp\",\n",
        "                        \"WorkAtHome\", \"PrivateWork\", \"PublicWork\", \"SelfEmployed\", \"FamilyWork\", \"Unemployment\", \n",
        "                        \"percentage20_Donald_Trump\", \"percentage20_Joe_Biden\", \"population_scaled\"]]\n",
        "\n",
        "# Create our target\n",
        "y = county_data_df['hesitancy']\n",
        "\n",
        "X.describe()"
      ],
      "execution_count": 53,
      "outputs": [
        {
          "output_type": "execute_result",
          "data": {
            "text/html": [
              "<div>\n",
              "<style scoped>\n",
              "    .dataframe tbody tr th:only-of-type {\n",
              "        vertical-align: middle;\n",
              "    }\n",
              "\n",
              "    .dataframe tbody tr th {\n",
              "        vertical-align: top;\n",
              "    }\n",
              "\n",
              "    .dataframe thead th {\n",
              "        text-align: right;\n",
              "    }\n",
              "</style>\n",
              "<table border=\"1\" class=\"dataframe\">\n",
              "  <thead>\n",
              "    <tr style=\"text-align: right;\">\n",
              "      <th></th>\n",
              "      <th>percent_white</th>\n",
              "      <th>percent_hispanic</th>\n",
              "      <th>percent_american_indian_alaska_native</th>\n",
              "      <th>percent_asian</th>\n",
              "      <th>percent_black</th>\n",
              "      <th>percent_hawaiian_pacific</th>\n",
              "      <th>Poverty</th>\n",
              "      <th>ChildPoverty</th>\n",
              "      <th>Drive</th>\n",
              "      <th>Carpool</th>\n",
              "      <th>Transit</th>\n",
              "      <th>Walk</th>\n",
              "      <th>OtherTransp</th>\n",
              "      <th>WorkAtHome</th>\n",
              "      <th>PrivateWork</th>\n",
              "      <th>PublicWork</th>\n",
              "      <th>SelfEmployed</th>\n",
              "      <th>FamilyWork</th>\n",
              "      <th>Unemployment</th>\n",
              "      <th>percentage20_Donald_Trump</th>\n",
              "      <th>percentage20_Joe_Biden</th>\n",
              "      <th>population_scaled</th>\n",
              "    </tr>\n",
              "  </thead>\n",
              "  <tbody>\n",
              "    <tr>\n",
              "      <th>count</th>\n",
              "      <td>3075.000000</td>\n",
              "      <td>3075.000000</td>\n",
              "      <td>3075.000000</td>\n",
              "      <td>3075.000000</td>\n",
              "      <td>3075.000000</td>\n",
              "      <td>3075.000000</td>\n",
              "      <td>3075.000000</td>\n",
              "      <td>3075.000000</td>\n",
              "      <td>3075.000000</td>\n",
              "      <td>3075.000000</td>\n",
              "      <td>3075.000000</td>\n",
              "      <td>3075.000000</td>\n",
              "      <td>3075.000000</td>\n",
              "      <td>3075.000000</td>\n",
              "      <td>3075.000000</td>\n",
              "      <td>3075.000000</td>\n",
              "      <td>3075.000000</td>\n",
              "      <td>3075.000000</td>\n",
              "      <td>3075.000000</td>\n",
              "      <td>3075.000000</td>\n",
              "      <td>3075.000000</td>\n",
              "      <td>3075.000000</td>\n",
              "    </tr>\n",
              "    <tr>\n",
              "      <th>mean</th>\n",
              "      <td>0.765595</td>\n",
              "      <td>0.094774</td>\n",
              "      <td>0.015703</td>\n",
              "      <td>0.013121</td>\n",
              "      <td>0.089487</td>\n",
              "      <td>0.000797</td>\n",
              "      <td>16.016878</td>\n",
              "      <td>22.153821</td>\n",
              "      <td>79.857333</td>\n",
              "      <td>9.895642</td>\n",
              "      <td>0.909626</td>\n",
              "      <td>3.018959</td>\n",
              "      <td>1.521854</td>\n",
              "      <td>4.798081</td>\n",
              "      <td>75.203187</td>\n",
              "      <td>16.743545</td>\n",
              "      <td>7.771089</td>\n",
              "      <td>0.283447</td>\n",
              "      <td>6.326407</td>\n",
              "      <td>0.653608</td>\n",
              "      <td>0.329154</td>\n",
              "      <td>9.977227</td>\n",
              "    </tr>\n",
              "    <tr>\n",
              "      <th>std</th>\n",
              "      <td>0.199056</td>\n",
              "      <td>0.139029</td>\n",
              "      <td>0.065532</td>\n",
              "      <td>0.026105</td>\n",
              "      <td>0.144267</td>\n",
              "      <td>0.003888</td>\n",
              "      <td>6.547258</td>\n",
              "      <td>10.308046</td>\n",
              "      <td>6.661486</td>\n",
              "      <td>2.901009</td>\n",
              "      <td>3.003669</td>\n",
              "      <td>2.875258</td>\n",
              "      <td>1.141899</td>\n",
              "      <td>3.088986</td>\n",
              "      <td>7.343466</td>\n",
              "      <td>5.963499</td>\n",
              "      <td>3.875747</td>\n",
              "      <td>0.453048</td>\n",
              "      <td>2.992911</td>\n",
              "      <td>0.159027</td>\n",
              "      <td>0.157901</td>\n",
              "      <td>32.134315</td>\n",
              "    </tr>\n",
              "    <tr>\n",
              "      <th>min</th>\n",
              "      <td>0.006900</td>\n",
              "      <td>0.000000</td>\n",
              "      <td>0.000000</td>\n",
              "      <td>0.000000</td>\n",
              "      <td>0.000000</td>\n",
              "      <td>0.000000</td>\n",
              "      <td>2.400000</td>\n",
              "      <td>0.000000</td>\n",
              "      <td>6.000000</td>\n",
              "      <td>0.000000</td>\n",
              "      <td>0.000000</td>\n",
              "      <td>0.000000</td>\n",
              "      <td>0.000000</td>\n",
              "      <td>0.000000</td>\n",
              "      <td>31.100000</td>\n",
              "      <td>4.400000</td>\n",
              "      <td>0.000000</td>\n",
              "      <td>0.000000</td>\n",
              "      <td>0.000000</td>\n",
              "      <td>0.088000</td>\n",
              "      <td>0.031000</td>\n",
              "      <td>0.007100</td>\n",
              "    </tr>\n",
              "    <tr>\n",
              "      <th>25%</th>\n",
              "      <td>0.648300</td>\n",
              "      <td>0.022200</td>\n",
              "      <td>0.001200</td>\n",
              "      <td>0.002800</td>\n",
              "      <td>0.006450</td>\n",
              "      <td>0.000000</td>\n",
              "      <td>11.400000</td>\n",
              "      <td>14.900000</td>\n",
              "      <td>77.400000</td>\n",
              "      <td>8.100000</td>\n",
              "      <td>0.100000</td>\n",
              "      <td>1.400000</td>\n",
              "      <td>0.800000</td>\n",
              "      <td>2.900000</td>\n",
              "      <td>71.800000</td>\n",
              "      <td>12.600000</td>\n",
              "      <td>5.200000</td>\n",
              "      <td>0.100000</td>\n",
              "      <td>4.400000</td>\n",
              "      <td>0.565000</td>\n",
              "      <td>0.208000</td>\n",
              "      <td>1.115350</td>\n",
              "    </tr>\n",
              "    <tr>\n",
              "      <th>50%</th>\n",
              "      <td>0.838500</td>\n",
              "      <td>0.042400</td>\n",
              "      <td>0.002800</td>\n",
              "      <td>0.006100</td>\n",
              "      <td>0.022000</td>\n",
              "      <td>0.000100</td>\n",
              "      <td>15.200000</td>\n",
              "      <td>21.200000</td>\n",
              "      <td>81.000000</td>\n",
              "      <td>9.500000</td>\n",
              "      <td>0.300000</td>\n",
              "      <td>2.200000</td>\n",
              "      <td>1.300000</td>\n",
              "      <td>4.100000</td>\n",
              "      <td>76.300000</td>\n",
              "      <td>15.700000</td>\n",
              "      <td>6.800000</td>\n",
              "      <td>0.200000</td>\n",
              "      <td>6.000000</td>\n",
              "      <td>0.686000</td>\n",
              "      <td>0.297000</td>\n",
              "      <td>2.581500</td>\n",
              "    </tr>\n",
              "    <tr>\n",
              "      <th>75%</th>\n",
              "      <td>0.925200</td>\n",
              "      <td>0.097950</td>\n",
              "      <td>0.006600</td>\n",
              "      <td>0.012600</td>\n",
              "      <td>0.099450</td>\n",
              "      <td>0.000600</td>\n",
              "      <td>19.450000</td>\n",
              "      <td>27.800000</td>\n",
              "      <td>84.000000</td>\n",
              "      <td>11.300000</td>\n",
              "      <td>0.700000</td>\n",
              "      <td>3.800000</td>\n",
              "      <td>1.900000</td>\n",
              "      <td>5.800000</td>\n",
              "      <td>80.300000</td>\n",
              "      <td>19.400000</td>\n",
              "      <td>9.200000</td>\n",
              "      <td>0.300000</td>\n",
              "      <td>7.800000</td>\n",
              "      <td>0.775500</td>\n",
              "      <td>0.418000</td>\n",
              "      <td>6.660800</td>\n",
              "    </tr>\n",
              "    <tr>\n",
              "      <th>max</th>\n",
              "      <td>1.000000</td>\n",
              "      <td>0.991700</td>\n",
              "      <td>0.901900</td>\n",
              "      <td>0.417300</td>\n",
              "      <td>0.872300</td>\n",
              "      <td>0.110800</td>\n",
              "      <td>52.000000</td>\n",
              "      <td>76.500000</td>\n",
              "      <td>97.200000</td>\n",
              "      <td>29.300000</td>\n",
              "      <td>61.800000</td>\n",
              "      <td>42.400000</td>\n",
              "      <td>13.800000</td>\n",
              "      <td>33.000000</td>\n",
              "      <td>88.800000</td>\n",
              "      <td>64.800000</td>\n",
              "      <td>38.000000</td>\n",
              "      <td>8.000000</td>\n",
              "      <td>28.700000</td>\n",
              "      <td>0.962000</td>\n",
              "      <td>0.896000</td>\n",
              "      <td>996.278900</td>\n",
              "    </tr>\n",
              "  </tbody>\n",
              "</table>\n",
              "</div>"
            ],
            "text/plain": [
              "       percent_white  ...  population_scaled\n",
              "count    3075.000000  ...        3075.000000\n",
              "mean        0.765595  ...           9.977227\n",
              "std         0.199056  ...          32.134315\n",
              "min         0.006900  ...           0.007100\n",
              "25%         0.648300  ...           1.115350\n",
              "50%         0.838500  ...           2.581500\n",
              "75%         0.925200  ...           6.660800\n",
              "max         1.000000  ...         996.278900\n",
              "\n",
              "[8 rows x 22 columns]"
            ]
          },
          "metadata": {
            "tags": []
          },
          "execution_count": 53
        }
      ]
    },
    {
      "cell_type": "code",
      "metadata": {
        "colab": {
          "base_uri": "https://localhost:8080/"
        },
        "id": "OT1yQCh-pTII",
        "outputId": "b46f1683-7542-4c59-d5c7-a373e47034d9"
      },
      "source": [
        "from sklearn.model_selection import train_test_split\n",
        "\n",
        "# Data normalization with sklearn\n",
        "from sklearn.preprocessing import MinMaxScaler\n",
        "\n",
        "# Fit scaler on training data\n",
        "#norm = MinMaxScaler().fit(X)\n",
        "\n",
        "X_train, X_test, y_train, y_test = train_test_split(X, y, random_state=1)\n",
        "min_max_scaler = MinMaxScaler()\n",
        "X_train_scaled = min_max_scaler.fit_transform(X_train)\n",
        "X_test_scaled = min_max_scaler.fit_transform(X_test)\n",
        "\n",
        "print(Counter(y_train))\n",
        "print(Counter(y_test))"
      ],
      "execution_count": 54,
      "outputs": [
        {
          "output_type": "stream",
          "text": [
            "Counter({'moderate hesitancy': 1641, 'low hesitancy': 380, 'high hesitancy': 285})\n",
            "Counter({'moderate hesitancy': 558, 'low hesitancy': 119, 'high hesitancy': 92})\n"
          ],
          "name": "stdout"
        }
      ]
    },
    {
      "cell_type": "markdown",
      "metadata": {
        "id": "GecP6PrZpTII"
      },
      "source": [
        "# Logistic Regression Model"
      ]
    },
    {
      "cell_type": "code",
      "metadata": {
        "colab": {
          "base_uri": "https://localhost:8080/"
        },
        "id": "064rjOWWpTIJ",
        "outputId": "43fe3329-107a-411c-dae4-43495195a03e"
      },
      "source": [
        "# Import regression model\n",
        "from sklearn.linear_model import LogisticRegression\n",
        "\n",
        "# Instantiate the model (using the default parameters)\n",
        "logreg = LogisticRegression(solver='saga', random_state=1)\n",
        "\n",
        "# Fit the model with data\n",
        "logreg.fit(X_train_scaled, y_train)\n",
        "\n",
        "y_pred = logreg.predict(X_test_scaled)\n",
        "\n",
        "print(y_pred.shape)"
      ],
      "execution_count": 55,
      "outputs": [
        {
          "output_type": "stream",
          "text": [
            "(769,)\n"
          ],
          "name": "stdout"
        }
      ]
    },
    {
      "cell_type": "code",
      "metadata": {
        "colab": {
          "base_uri": "https://localhost:8080/"
        },
        "id": "E5f_WCzppTIJ",
        "outputId": "603a0c0f-990c-46ea-bc42-ee47c3f8c44b"
      },
      "source": [
        "# Print coefficients\n",
        "print(logreg.coef_)"
      ],
      "execution_count": 56,
      "outputs": [
        {
          "output_type": "stream",
          "text": [
            "[[-1.46116916 -2.71613215  2.3557057  -0.82048813  3.44350512  0.12201343\n",
            "   2.40099358  0.21221037 -0.25618851 -0.03447955 -0.20576052  1.06750116\n",
            "   0.36998106 -0.48515967 -0.7451212  -0.04763786  1.04031555  0.82378446\n",
            "  -0.78715138  2.08258652 -2.66222262 -0.37468956]\n",
            " [ 0.85540673  1.27813883 -0.72966382  1.87757294 -3.0443312   0.5887336\n",
            "  -3.24053367 -0.83468015 -0.53588843  0.14563458  1.06780697 -1.43757283\n",
            "  -0.52564742  1.26891504 -0.0067022   0.6164534  -0.81629471 -0.82744478\n",
            "  -0.06506592 -2.92425815  2.61269498  0.03250821]\n",
            " [ 0.60576242  1.43799332 -1.62604188 -1.05708482 -0.39917392 -0.71074703\n",
            "   0.83954008  0.62246978  0.79207693 -0.11115503 -0.86204645  0.37007167\n",
            "   0.15566636 -0.78375537  0.7518234  -0.56881553 -0.22402084  0.00366031\n",
            "   0.8522173   0.84167163  0.04952764  0.34218135]]\n"
          ],
          "name": "stdout"
        }
      ]
    },
    {
      "cell_type": "code",
      "metadata": {
        "colab": {
          "base_uri": "https://localhost:8080/"
        },
        "id": "yLJeOWT8pTIK",
        "outputId": "87615e3c-f0d1-4620-a6a2-0d7d7ee41c33"
      },
      "source": [
        "# Print intercept values\n",
        "print(logreg.intercept_)"
      ],
      "execution_count": 57,
      "outputs": [
        {
          "output_type": "stream",
          "text": [
            "[-0.26469261  1.3820545  -1.11736189]\n"
          ],
          "name": "stdout"
        }
      ]
    },
    {
      "cell_type": "code",
      "metadata": {
        "colab": {
          "base_uri": "https://localhost:8080/",
          "height": 282
        },
        "id": "oUmudK3qpTIK",
        "outputId": "1a2db647-80f6-4ca8-9993-7543939f0eb2"
      },
      "source": [
        "# Test model with predictions\n",
        "import matplotlib.pyplot as plt\n",
        "%matplotlib inline\n",
        "\n",
        "plt.scatter(y_test, y_pred)"
      ],
      "execution_count": 58,
      "outputs": [
        {
          "output_type": "execute_result",
          "data": {
            "text/plain": [
              "<matplotlib.collections.PathCollection at 0x7fb95c15a690>"
            ]
          },
          "metadata": {
            "tags": []
          },
          "execution_count": 58
        },
        {
          "output_type": "display_data",
          "data": {
            "image/png": "[encoded data removed]",
            "text/plain": [
              "<Figure size 432x288 with 1 Axes>"
            ]
          },
          "metadata": {
            "tags": [],
            "needs_background": "light"
          }
        }
      ]
    },
    {
      "cell_type": "code",
      "metadata": {
        "colab": {
          "base_uri": "https://localhost:8080/"
        },
        "id": "R1zfZsSvfSWL",
        "outputId": "ff319cc6-f07e-4444-e90c-22876e2744a0"
      },
      "source": [
        "# Import the metrics class\n",
        "from sklearn import metrics\n",
        "cnf1 = metrics.confusion_matrix(y_test, y_pred, labels=[\"low hesitancy\", \"moderate hesitancy\", \"high hesitancy\"])\n",
        "cnf1"
      ],
      "execution_count": 59,
      "outputs": [
        {
          "output_type": "execute_result",
          "data": {
            "text/plain": [
              "array([[ 46,  72,   1],\n",
              "       [ 13, 530,  15],\n",
              "       [  2,  72,  18]])"
            ]
          },
          "metadata": {
            "tags": []
          },
          "execution_count": 59
        }
      ]
    },
    {
      "cell_type": "code",
      "metadata": {
        "colab": {
          "base_uri": "https://localhost:8080/",
          "height": 141
        },
        "id": "hCbOwQvHiGLe",
        "outputId": "946e9f83-4edf-4884-94f1-0113734f145b"
      },
      "source": [
        "# Create a DataFrame from the confusion matrix.\n",
        "cnf1_df = pd.DataFrame(\n",
        "    cnf1, index=[\"Actual Low\", \"Actual Medium\", \"Actual High\"], columns=[\"Predicted Low\", \"Predicted Medium\", \"Predicted High\"])\n",
        "\n",
        "cnf1_df"
      ],
      "execution_count": 60,
      "outputs": [
        {
          "output_type": "execute_result",
          "data": {
            "text/html": [
              "<div>\n",
              "<style scoped>\n",
              "    .dataframe tbody tr th:only-of-type {\n",
              "        vertical-align: middle;\n",
              "    }\n",
              "\n",
              "    .dataframe tbody tr th {\n",
              "        vertical-align: top;\n",
              "    }\n",
              "\n",
              "    .dataframe thead th {\n",
              "        text-align: right;\n",
              "    }\n",
              "</style>\n",
              "<table border=\"1\" class=\"dataframe\">\n",
              "  <thead>\n",
              "    <tr style=\"text-align: right;\">\n",
              "      <th></th>\n",
              "      <th>Predicted Low</th>\n",
              "      <th>Predicted Medium</th>\n",
              "      <th>Predicted High</th>\n",
              "    </tr>\n",
              "  </thead>\n",
              "  <tbody>\n",
              "    <tr>\n",
              "      <th>Actual Low</th>\n",
              "      <td>46</td>\n",
              "      <td>72</td>\n",
              "      <td>1</td>\n",
              "    </tr>\n",
              "    <tr>\n",
              "      <th>Actual Medium</th>\n",
              "      <td>13</td>\n",
              "      <td>530</td>\n",
              "      <td>15</td>\n",
              "    </tr>\n",
              "    <tr>\n",
              "      <th>Actual High</th>\n",
              "      <td>2</td>\n",
              "      <td>72</td>\n",
              "      <td>18</td>\n",
              "    </tr>\n",
              "  </tbody>\n",
              "</table>\n",
              "</div>"
            ],
            "text/plain": [
              "               Predicted Low  Predicted Medium  Predicted High\n",
              "Actual Low                46                72               1\n",
              "Actual Medium             13               530              15\n",
              "Actual High                2                72              18"
            ]
          },
          "metadata": {
            "tags": []
          },
          "execution_count": 60
        }
      ]
    },
    {
      "cell_type": "code",
      "metadata": {
        "colab": {
          "base_uri": "https://localhost:8080/"
        },
        "id": "-rUTAM_DpTIL",
        "outputId": "b2c50e96-bafb-4623-c517-945b7a1612fb"
      },
      "source": [
        "# Print accuracy, precision, recall\n",
        "print(\"Accuracy:\",metrics.accuracy_score(y_test, y_pred))\n",
        "\n",
        "print(\"Precision:\",metrics.precision_score(y_test, y_pred,\n",
        "                                          average='micro'))\n",
        "\n",
        "print(\"Recall:\",metrics.recall_score(y_test, y_pred, \n",
        "                                     average='micro'))"
      ],
      "execution_count": 61,
      "outputs": [
        {
          "output_type": "stream",
          "text": [
            "Accuracy: 0.7724317295188556\n",
            "Precision: 0.7724317295188556\n",
            "Recall: 0.7724317295188556\n"
          ],
          "name": "stdout"
        }
      ]
    },
    {
      "cell_type": "code",
      "metadata": {
        "colab": {
          "base_uri": "https://localhost:8080/"
        },
        "id": "VclSJTBKpTIL",
        "outputId": "e2e7f4ac-2b7d-4b4e-ce58-1b72765c4871"
      },
      "source": [
        "# Print classification \n",
        "from imblearn.metrics import classification_report_imbalanced\n",
        "print(metrics.classification_report(y_test, y_pred))\n",
        "\n",
        "print(classification_report_imbalanced(y_test, y_pred))"
      ],
      "execution_count": 62,
      "outputs": [
        {
          "output_type": "stream",
          "text": [
            "                    precision    recall  f1-score   support\n",
            "\n",
            "    high hesitancy       0.53      0.20      0.29        92\n",
            "     low hesitancy       0.75      0.39      0.51       119\n",
            "moderate hesitancy       0.79      0.95      0.86       558\n",
            "\n",
            "          accuracy                           0.77       769\n",
            "         macro avg       0.69      0.51      0.55       769\n",
            "      weighted avg       0.75      0.77      0.74       769\n",
            "\n",
            "                          pre       rec       spe        f1       geo       iba       sup\n",
            "\n",
            "    high hesitancy       0.53      0.20      0.98      0.29      0.44      0.18        92\n",
            "     low hesitancy       0.75      0.39      0.98      0.51      0.61      0.36       119\n",
            "moderate hesitancy       0.79      0.95      0.32      0.86      0.55      0.32       558\n",
            "\n",
            "       avg / total       0.75      0.77      0.50      0.74      0.55      0.31       769\n",
            "\n"
          ],
          "name": "stdout"
        }
      ]
    },
    {
      "cell_type": "code",
      "metadata": {
        "colab": {
          "base_uri": "https://localhost:8080/"
        },
        "id": "21u_ktug96d0",
        "outputId": "07d07b0d-19ea-4ca5-c2be-696a5e688e27"
      },
      "source": [
        "np.round(logreg.coef_,decimals=2) > 0\n",
        "X.columns"
      ],
      "execution_count": 63,
      "outputs": [
        {
          "output_type": "execute_result",
          "data": {
            "text/plain": [
              "Index(['percent_white', 'percent_hispanic',\n",
              "       'percent_american_indian_alaska_native', 'percent_asian',\n",
              "       'percent_black', 'percent_hawaiian_pacific', 'Poverty', 'ChildPoverty',\n",
              "       'Drive', 'Carpool', 'Transit', 'Walk', 'OtherTransp', 'WorkAtHome',\n",
              "       'PrivateWork', 'PublicWork', 'SelfEmployed', 'FamilyWork',\n",
              "       'Unemployment', 'percentage20_Donald_Trump', 'percentage20_Joe_Biden',\n",
              "       'population_scaled'],\n",
              "      dtype='object')"
            ]
          },
          "metadata": {
            "tags": []
          },
          "execution_count": 63
        }
      ]
    },
    {
      "cell_type": "code",
      "metadata": {
        "colab": {
          "base_uri": "https://localhost:8080/"
        },
        "id": "sS1biM342OUj",
        "outputId": "c24e5bc9-40af-43f4-eadc-f0f6624784c1"
      },
      "source": [
        "from sklearn.feature_selection import RFE\n",
        "predictors = X_train_scaled\n",
        "selector = RFE(logreg, n_features_to_select = 1)\n",
        "selector = selector.fit(predictors, y_train)\n",
        "order = selector.ranking_\n",
        "print(order)\n",
        "feature_ranks = []\n",
        "for index, ranking in enumerate(order):\n",
        "  feature_ranks.append(f\"{ranking}. {X.columns[index]}\")\n",
        "  #print(f\"{ranking}. {X.columns[index]}\")\n",
        "\n",
        "feature_ranks"
      ],
      "execution_count": 64,
      "outputs": [
        {
          "output_type": "stream",
          "text": [
            "[10  9  4  6  3 18  1 16 17 22 12  7 20  8 13 19 11 14 15  5  2 21]\n"
          ],
          "name": "stdout"
        },
        {
          "output_type": "execute_result",
          "data": {
            "text/plain": [
              "['10. percent_white',\n",
              " '9. percent_hispanic',\n",
              " '4. percent_american_indian_alaska_native',\n",
              " '6. percent_asian',\n",
              " '3. percent_black',\n",
              " '18. percent_hawaiian_pacific',\n",
              " '1. Poverty',\n",
              " '16. ChildPoverty',\n",
              " '17. Drive',\n",
              " '22. Carpool',\n",
              " '12. Transit',\n",
              " '7. Walk',\n",
              " '20. OtherTransp',\n",
              " '8. WorkAtHome',\n",
              " '13. PrivateWork',\n",
              " '19. PublicWork',\n",
              " '11. SelfEmployed',\n",
              " '14. FamilyWork',\n",
              " '15. Unemployment',\n",
              " '5. percentage20_Donald_Trump',\n",
              " '2. percentage20_Joe_Biden',\n",
              " '21. population_scaled']"
            ]
          },
          "metadata": {
            "tags": []
          },
          "execution_count": 64
        }
      ]
    },
    {
      "cell_type": "code",
      "metadata": {
        "colab": {
          "base_uri": "https://localhost:8080/",
          "height": 265
        },
        "id": "16e3F5u2d_4v",
        "outputId": "ba76e774-d1f7-4271-9d38-8c3b427deb44"
      },
      "source": [
        "plt.bar([x for x in range(len(order))], order)\n",
        "plt.show()"
      ],
      "execution_count": 65,
      "outputs": [
        {
          "output_type": "display_data",
          "data": {
            "image/png": "[encoded data removed]",
            "text/plain": [
              "<Figure size 432x288 with 1 Axes>"
            ]
          },
          "metadata": {
            "tags": [],
            "needs_background": "light"
          }
        }
      ]
    },
    {
      "cell_type": "markdown",
      "metadata": {
        "id": "wkQ5RrnbpTIL"
      },
      "source": [
        "# Oversampling"
      ]
    },
    {
      "cell_type": "markdown",
      "metadata": {
        "id": "o5650MS3pTIM"
      },
      "source": [
        "### Naive Random Oversampling"
      ]
    },
    {
      "cell_type": "code",
      "metadata": {
        "colab": {
          "base_uri": "https://localhost:8080/"
        },
        "id": "vr1YQ0SXpTIM",
        "outputId": "f9b0b25c-672f-441f-9c9f-f4c406fcfe21"
      },
      "source": [
        "# Resample the training data with the RandomOversampler\n",
        "from imblearn.over_sampling import RandomOverSampler\n",
        "ros = RandomOverSampler(random_state=1)\n",
        "X_resampled, y_resampled = ros.fit_resample(X_train, y_train)\n",
        "Counter(y_resampled)"
      ],
      "execution_count": 66,
      "outputs": [
        {
          "output_type": "execute_result",
          "data": {
            "text/plain": [
              "Counter({'high hesitancy': 1641,\n",
              "         'low hesitancy': 1641,\n",
              "         'moderate hesitancy': 1641})"
            ]
          },
          "metadata": {
            "tags": []
          },
          "execution_count": 66
        }
      ]
    },
    {
      "cell_type": "code",
      "metadata": {
        "colab": {
          "base_uri": "https://localhost:8080/"
        },
        "id": "y20FqBBopTIM",
        "outputId": "6376a0d3-105d-4014-c604-e8a477b08dfc"
      },
      "source": [
        "# Train the Logistic Regression model using the resampled data\n",
        "#from sklearn.linear_model import LogisticRegression\n",
        "model = LogisticRegression(solver='saga', random_state=1)\n",
        "model.fit(X_resampled, y_resampled)"
      ],
      "execution_count": 67,
      "outputs": [
        {
          "output_type": "stream",
          "text": [
            "/usr/local/lib/python3.7/dist-packages/sklearn/linear_model/_sag.py:329: ConvergenceWarning: The max_iter was reached which means the coef_ did not converge\n",
            "  \"the coef_ did not converge\", ConvergenceWarning)\n"
          ],
          "name": "stderr"
        },
        {
          "output_type": "execute_result",
          "data": {
            "text/plain": [
              "LogisticRegression(random_state=1, solver='saga')"
            ]
          },
          "metadata": {
            "tags": []
          },
          "execution_count": 67
        }
      ]
    },
    {
      "cell_type": "code",
      "metadata": {
        "colab": {
          "base_uri": "https://localhost:8080/"
        },
        "id": "fiDcoYi_pTIN",
        "outputId": "2a0987d5-53b0-461e-a794-c1c064305534"
      },
      "source": [
        "# Calculated the balanced accuracy score\n",
        "from sklearn.metrics import balanced_accuracy_score\n",
        "balanced_accuracy_score(y_test, y_pred)"
      ],
      "execution_count": 68,
      "outputs": [
        {
          "output_type": "execute_result",
          "data": {
            "text/plain": [
              "0.5106758614307497"
            ]
          },
          "metadata": {
            "tags": []
          },
          "execution_count": 68
        }
      ]
    },
    {
      "cell_type": "code",
      "metadata": {
        "colab": {
          "base_uri": "https://localhost:8080/"
        },
        "id": "0qIJqx8jpTIN",
        "outputId": "943744ba-9800-450d-9f54-3215cc40a2bf"
      },
      "source": [
        "# Display the confusion matrix\n",
        "from sklearn.metrics import confusion_matrix\n",
        "y_pred = model.predict(X_test)\n",
        "confusion_matrix(y_test, y_pred)"
      ],
      "execution_count": 69,
      "outputs": [
        {
          "output_type": "execute_result",
          "data": {
            "text/plain": [
              "array([[ 61,  15,  16],\n",
              "       [ 14,  75,  30],\n",
              "       [188, 110, 260]])"
            ]
          },
          "metadata": {
            "tags": []
          },
          "execution_count": 69
        }
      ]
    },
    {
      "cell_type": "code",
      "metadata": {
        "colab": {
          "base_uri": "https://localhost:8080/"
        },
        "id": "bxbe7T-wpTIN",
        "outputId": "09bb5101-6398-47f3-bcd1-59e726d85e73"
      },
      "source": [
        "# Print the imbalanced classification report\n",
        "#from imblearn.metrics import classification_report_imbalanced\n",
        "print(classification_report_imbalanced(y_test, y_pred))"
      ],
      "execution_count": 70,
      "outputs": [
        {
          "output_type": "stream",
          "text": [
            "                          pre       rec       spe        f1       geo       iba       sup\n",
            "\n",
            "    high hesitancy       0.23      0.66      0.70      0.34      0.68      0.46        92\n",
            "     low hesitancy       0.38      0.63      0.81      0.47      0.71      0.50       119\n",
            "moderate hesitancy       0.85      0.47      0.78      0.60      0.60      0.35       558\n",
            "\n",
            "       avg / total       0.70      0.51      0.78      0.55      0.63      0.39       769\n",
            "\n"
          ],
          "name": "stdout"
        }
      ]
    },
    {
      "cell_type": "markdown",
      "metadata": {
        "id": "7EvX6awXpTIO"
      },
      "source": [
        "### SMOTE Oversampling"
      ]
    },
    {
      "cell_type": "code",
      "metadata": {
        "colab": {
          "base_uri": "https://localhost:8080/"
        },
        "id": "IEWXNc9ppTIO",
        "outputId": "455ceded-193c-4c58-8da0-288ade483030"
      },
      "source": [
        "# Resample the training data with SMOTE\n",
        "from imblearn.over_sampling import SMOTE\n",
        "X_resampled, y_resampled = SMOTE(random_state=1,\n",
        "sampling_strategy='auto').fit_resample(\n",
        "   X_train, y_train)\n",
        "Counter(y_resampled)"
      ],
      "execution_count": 71,
      "outputs": [
        {
          "output_type": "execute_result",
          "data": {
            "text/plain": [
              "Counter({'high hesitancy': 1641,\n",
              "         'low hesitancy': 1641,\n",
              "         'moderate hesitancy': 1641})"
            ]
          },
          "metadata": {
            "tags": []
          },
          "execution_count": 71
        }
      ]
    },
    {
      "cell_type": "code",
      "metadata": {
        "colab": {
          "base_uri": "https://localhost:8080/"
        },
        "id": "e90gv0vvpTIO",
        "outputId": "130fa85e-9779-436b-d8ad-cab1346d4bd0"
      },
      "source": [
        "# Train the Logistic Regression model using the resampled data\n",
        "model = LogisticRegression(solver='saga', random_state=1)\n",
        "model.fit(X_resampled, y_resampled)"
      ],
      "execution_count": 72,
      "outputs": [
        {
          "output_type": "stream",
          "text": [
            "/usr/local/lib/python3.7/dist-packages/sklearn/linear_model/_sag.py:329: ConvergenceWarning: The max_iter was reached which means the coef_ did not converge\n",
            "  \"the coef_ did not converge\", ConvergenceWarning)\n"
          ],
          "name": "stderr"
        },
        {
          "output_type": "execute_result",
          "data": {
            "text/plain": [
              "LogisticRegression(random_state=1, solver='saga')"
            ]
          },
          "metadata": {
            "tags": []
          },
          "execution_count": 72
        }
      ]
    },
    {
      "cell_type": "code",
      "metadata": {
        "colab": {
          "base_uri": "https://localhost:8080/"
        },
        "id": "S114DksbpTIP",
        "outputId": "47a51f85-2dbe-4ee1-8e64-39902d66e019"
      },
      "source": [
        "# Calculated the balanced accuracy score\n",
        "y_pred = model.predict(X_test)\n",
        "balanced_accuracy_score(y_test, y_pred)"
      ],
      "execution_count": 73,
      "outputs": [
        {
          "output_type": "execute_result",
          "data": {
            "text/plain": [
              "0.5836541722813483"
            ]
          },
          "metadata": {
            "tags": []
          },
          "execution_count": 73
        }
      ]
    },
    {
      "cell_type": "code",
      "metadata": {
        "colab": {
          "base_uri": "https://localhost:8080/"
        },
        "id": "L-NINLGEpTIP",
        "outputId": "3e3d2263-c3bf-4142-a42e-ce9e05e6d589"
      },
      "source": [
        "# Display the confusion matrix\n",
        "confusion_matrix(y_test, y_pred)"
      ],
      "execution_count": 74,
      "outputs": [
        {
          "output_type": "execute_result",
          "data": {
            "text/plain": [
              "array([[ 61,  15,  16],\n",
              "       [ 14,  77,  28],\n",
              "       [195, 117, 246]])"
            ]
          },
          "metadata": {
            "tags": []
          },
          "execution_count": 74
        }
      ]
    },
    {
      "cell_type": "code",
      "metadata": {
        "colab": {
          "base_uri": "https://localhost:8080/"
        },
        "id": "po6g_8L6pTIP",
        "outputId": "574d2784-63fd-467e-9e59-fbb61dc4d67d"
      },
      "source": [
        "# Print the imbalanced classification report\n",
        "print(classification_report_imbalanced(y_test, y_pred))"
      ],
      "execution_count": 75,
      "outputs": [
        {
          "output_type": "stream",
          "text": [
            "                          pre       rec       spe        f1       geo       iba       sup\n",
            "\n",
            "    high hesitancy       0.23      0.66      0.69      0.34      0.68      0.46        92\n",
            "     low hesitancy       0.37      0.65      0.80      0.47      0.72      0.51       119\n",
            "moderate hesitancy       0.85      0.44      0.79      0.58      0.59      0.34       558\n",
            "\n",
            "       avg / total       0.70      0.50      0.78      0.53      0.62      0.38       769\n",
            "\n"
          ],
          "name": "stdout"
        }
      ]
    },
    {
      "cell_type": "markdown",
      "metadata": {
        "id": "Q8fSN-dlpTIP"
      },
      "source": [
        "# Undersampling"
      ]
    },
    {
      "cell_type": "code",
      "metadata": {
        "colab": {
          "base_uri": "https://localhost:8080/"
        },
        "id": "N-N79XhDpTIQ",
        "outputId": "462e4fb2-be54-47d4-86d5-6def4dabf22b"
      },
      "source": [
        "# Resample the data using the ClusterCentroids resampler\n",
        "from imblearn.under_sampling import ClusterCentroids\n",
        "cc = ClusterCentroids(random_state=1)\n",
        "X_resampled, y_resampled = cc.fit_resample(X_train, y_train)\n",
        "Counter(y_resampled)"
      ],
      "execution_count": 76,
      "outputs": [
        {
          "output_type": "execute_result",
          "data": {
            "text/plain": [
              "Counter({'high hesitancy': 285,\n",
              "         'low hesitancy': 285,\n",
              "         'moderate hesitancy': 285})"
            ]
          },
          "metadata": {
            "tags": []
          },
          "execution_count": 76
        }
      ]
    },
    {
      "cell_type": "code",
      "metadata": {
        "colab": {
          "base_uri": "https://localhost:8080/"
        },
        "id": "8qvO9EOGpTIQ",
        "outputId": "dd88f269-073d-47a9-aaef-13e599ba9805"
      },
      "source": [
        "# Train the Logistic Regression model using the resampled data\n",
        "#from sklearn.linear_model import LogisticRegression\n",
        "model = LogisticRegression(solver='saga', random_state=1)\n",
        "model.fit(X_resampled, y_resampled)"
      ],
      "execution_count": 77,
      "outputs": [
        {
          "output_type": "stream",
          "text": [
            "/usr/local/lib/python3.7/dist-packages/sklearn/linear_model/_sag.py:329: ConvergenceWarning: The max_iter was reached which means the coef_ did not converge\n",
            "  \"the coef_ did not converge\", ConvergenceWarning)\n"
          ],
          "name": "stderr"
        },
        {
          "output_type": "execute_result",
          "data": {
            "text/plain": [
              "LogisticRegression(random_state=1, solver='saga')"
            ]
          },
          "metadata": {
            "tags": []
          },
          "execution_count": 77
        }
      ]
    },
    {
      "cell_type": "code",
      "metadata": {
        "colab": {
          "base_uri": "https://localhost:8080/"
        },
        "id": "Yo8TFMw6pTIR",
        "outputId": "ce8a3a5f-ba1b-493e-be26-5abf60a200d5"
      },
      "source": [
        "# Calculated the balanced accuracy score\n",
        "#from sklearn.metrics import balanced_accuracy_score\n",
        "balanced_accuracy_score(y_test, y_pred)"
      ],
      "execution_count": 78,
      "outputs": [
        {
          "output_type": "execute_result",
          "data": {
            "text/plain": [
              "0.5836541722813483"
            ]
          },
          "metadata": {
            "tags": []
          },
          "execution_count": 78
        }
      ]
    },
    {
      "cell_type": "code",
      "metadata": {
        "colab": {
          "base_uri": "https://localhost:8080/"
        },
        "id": "t4VWbX8epTIR",
        "outputId": "ca056ad4-c94f-4267-a4b2-13f969929209"
      },
      "source": [
        "# Display the confusion matrix\n",
        "#from sklearn.metrics import confusion_matrix\n",
        "y_pred = model.predict(X_test)\n",
        "confusion_matrix(y_test, y_pred)"
      ],
      "execution_count": 79,
      "outputs": [
        {
          "output_type": "execute_result",
          "data": {
            "text/plain": [
              "array([[ 70,  11,  11],\n",
              "       [ 19,  79,  21],\n",
              "       [319, 172,  67]])"
            ]
          },
          "metadata": {
            "tags": []
          },
          "execution_count": 79
        }
      ]
    },
    {
      "cell_type": "code",
      "metadata": {
        "colab": {
          "base_uri": "https://localhost:8080/"
        },
        "id": "f5FdnVXwpTIR",
        "outputId": "e8be3820-a58c-40b4-dbbe-59a688e85686"
      },
      "source": [
        "# Print the imbalanced classification report\n",
        "#from imblearn.metrics import classification_report_imbalanced\n",
        "print(classification_report_imbalanced(y_test, y_pred))"
      ],
      "execution_count": 80,
      "outputs": [
        {
          "output_type": "stream",
          "text": [
            "                          pre       rec       spe        f1       geo       iba       sup\n",
            "\n",
            "    high hesitancy       0.17      0.76      0.50      0.28      0.62      0.39        92\n",
            "     low hesitancy       0.30      0.66      0.72      0.41      0.69      0.47       119\n",
            "moderate hesitancy       0.68      0.12      0.85      0.20      0.32      0.09       558\n",
            "\n",
            "       avg / total       0.56      0.28      0.79      0.25      0.41      0.19       769\n",
            "\n"
          ],
          "name": "stdout"
        }
      ]
    },
    {
      "cell_type": "markdown",
      "metadata": {
        "id": "qorZVeOlpTIS"
      },
      "source": [
        "# Combination (Over and Under) Sampling"
      ]
    },
    {
      "cell_type": "code",
      "metadata": {
        "colab": {
          "base_uri": "https://localhost:8080/"
        },
        "id": "E8PxrYBNpTIS",
        "outputId": "36bf610c-cf45-4b24-8382-7967ad370c79"
      },
      "source": [
        "# Resample the training data with SMOTEENN\n",
        "from imblearn.combine import SMOTEENN\n",
        "smote_enn = SMOTEENN(random_state=0)\n",
        "X_resampled, y_resampled = smote_enn.fit_resample(X, y)\n",
        "Counter(y_resampled)"
      ],
      "execution_count": 81,
      "outputs": [
        {
          "output_type": "execute_result",
          "data": {
            "text/plain": [
              "Counter({'high hesitancy': 2063,\n",
              "         'low hesitancy': 2034,\n",
              "         'moderate hesitancy': 826})"
            ]
          },
          "metadata": {
            "tags": []
          },
          "execution_count": 81
        }
      ]
    },
    {
      "cell_type": "code",
      "metadata": {
        "colab": {
          "base_uri": "https://localhost:8080/"
        },
        "id": "FfxmBmDFpTIT",
        "outputId": "cd4bdb8e-ca80-43c0-8fba-adeaee6fdfa5"
      },
      "source": [
        "# Train the Logistic Regression model using the resampled data\n",
        "#from sklearn.linear_model import LogisticRegression\n",
        "model = LogisticRegression(solver='saga', random_state=1)\n",
        "model.fit(X_resampled, y_resampled)"
      ],
      "execution_count": 82,
      "outputs": [
        {
          "output_type": "stream",
          "text": [
            "/usr/local/lib/python3.7/dist-packages/sklearn/linear_model/_sag.py:329: ConvergenceWarning: The max_iter was reached which means the coef_ did not converge\n",
            "  \"the coef_ did not converge\", ConvergenceWarning)\n"
          ],
          "name": "stderr"
        },
        {
          "output_type": "execute_result",
          "data": {
            "text/plain": [
              "LogisticRegression(random_state=1, solver='saga')"
            ]
          },
          "metadata": {
            "tags": []
          },
          "execution_count": 82
        }
      ]
    },
    {
      "cell_type": "code",
      "metadata": {
        "colab": {
          "base_uri": "https://localhost:8080/"
        },
        "id": "-imwKxn9pTIT",
        "outputId": "a992bbfe-8d3c-42bb-ef06-408a94c2f6e2"
      },
      "source": [
        "# Calculated the balanced accuracy score\n",
        "#from sklearn.metrics import balanced_accuracy_score\n",
        "balanced_accuracy_score(y_test, y_pred)"
      ],
      "execution_count": 83,
      "outputs": [
        {
          "output_type": "execute_result",
          "data": {
            "text/plain": [
              "0.5149355986745642"
            ]
          },
          "metadata": {
            "tags": []
          },
          "execution_count": 83
        }
      ]
    },
    {
      "cell_type": "code",
      "metadata": {
        "colab": {
          "base_uri": "https://localhost:8080/"
        },
        "id": "KocMxf6ZpTIT",
        "outputId": "fcbd7401-d8c4-40a8-8623-1c0ab95890c0"
      },
      "source": [
        "# Display the confusion matrix\n",
        "#from sklearn.metrics import confusion_matrix\n",
        "y_pred = model.predict(X_test)\n",
        "confusion_matrix(y_test, y_pred)"
      ],
      "execution_count": 84,
      "outputs": [
        {
          "output_type": "execute_result",
          "data": {
            "text/plain": [
              "array([[ 72,  17,   3],\n",
              "       [ 17,  99,   3],\n",
              "       [314, 178,  66]])"
            ]
          },
          "metadata": {
            "tags": []
          },
          "execution_count": 84
        }
      ]
    },
    {
      "cell_type": "code",
      "metadata": {
        "colab": {
          "base_uri": "https://localhost:8080/"
        },
        "id": "HHrp1w4NpTIU",
        "outputId": "04d974ef-e473-4e97-c7f1-e49572df8721"
      },
      "source": [
        "# Print the imbalanced classification report\n",
        "#from imblearn.metrics import classification_report_imbalanced\n",
        "print(classification_report_imbalanced(y_test, y_pred))"
      ],
      "execution_count": 85,
      "outputs": [
        {
          "output_type": "stream",
          "text": [
            "                          pre       rec       spe        f1       geo       iba       sup\n",
            "\n",
            "    high hesitancy       0.18      0.78      0.51      0.29      0.63      0.41        92\n",
            "     low hesitancy       0.34      0.83      0.70      0.48      0.76      0.59       119\n",
            "moderate hesitancy       0.92      0.12      0.97      0.21      0.34      0.11       558\n",
            "\n",
            "       avg / total       0.74      0.31      0.87      0.26      0.44      0.22       769\n",
            "\n"
          ],
          "name": "stdout"
        }
      ]
    },
    {
      "cell_type": "markdown",
      "metadata": {
        "id": "UzvF-QTF9bPQ"
      },
      "source": [
        "# Balanced Random Forest Classifier"
      ]
    },
    {
      "cell_type": "code",
      "metadata": {
        "id": "_kpdWv5i98ZB"
      },
      "source": [
        "np.random.seed(42)\n",
        "#Specific to Google Collab to ensure the BalancedRandomForestClassifier is working\n",
        "#!pip install -Iv imblearn==0.0"
      ],
      "execution_count": 86,
      "outputs": []
    },
    {
      "cell_type": "code",
      "metadata": {
        "colab": {
          "base_uri": "https://localhost:8080/"
        },
        "id": "g5Rhcccm9F6f",
        "outputId": "4667f3f3-83a9-4357-cfab-a3adcba8f5f5"
      },
      "source": [
        "# Resample the training data with the BalancedRandomForestClassifier\n",
        "from imblearn.ensemble import BalancedRandomForestClassifier\n",
        "brf_model = BalancedRandomForestClassifier(n_estimators=100, criterion = \"entropy\", bootstrap = True, random_state=42) \n",
        "brf_model.fit(X_train, y_train)"
      ],
      "execution_count": 87,
      "outputs": [
        {
          "output_type": "execute_result",
          "data": {
            "text/plain": [
              "BalancedRandomForestClassifier(criterion='entropy', random_state=42)"
            ]
          },
          "metadata": {
            "tags": []
          },
          "execution_count": 87
        }
      ]
    },
    {
      "cell_type": "code",
      "metadata": {
        "colab": {
          "base_uri": "https://localhost:8080/"
        },
        "id": "0Ae_6Hrs_VGy",
        "outputId": "173a6b64-f662-44cd-eda9-2d0719489294"
      },
      "source": [
        "# Calculated the balanced accuracy score\n",
        "y_prediction = brf_model.predict(X_test)\n",
        "balanced_accuracy_score(y_test, y_prediction)"
      ],
      "execution_count": 88,
      "outputs": [
        {
          "output_type": "execute_result",
          "data": {
            "text/plain": [
              "0.7194386715259581"
            ]
          },
          "metadata": {
            "tags": []
          },
          "execution_count": 88
        }
      ]
    },
    {
      "cell_type": "code",
      "metadata": {
        "colab": {
          "base_uri": "https://localhost:8080/",
          "height": 193
        },
        "id": "VaFVpfF__dl2",
        "outputId": "2fe41100-24ce-424c-c54f-02e57b599663"
      },
      "source": [
        "# Display the confusion matrix\n",
        "cm = metrics.confusion_matrix(y_test, y_pred, labels=[\"low hesitancy\", \"moderate hesitancy\", \"high hesitancy\"])\n",
        "print(cm)\n",
        "# Create a DataFrame from the confusion matrix.\n",
        "cm_df = pd.DataFrame(\n",
        "    cm, index=[\"Actual Low\", \"Actual Medium\", \"Actual High\"], columns=[\"Predicted Low\", \"Predicted Medium\", \"Predicted High\"])\n",
        "\n",
        "cm_df"
      ],
      "execution_count": 89,
      "outputs": [
        {
          "output_type": "stream",
          "text": [
            "[[ 99   3  17]\n",
            " [178  66 314]\n",
            " [ 17   3  72]]\n"
          ],
          "name": "stdout"
        },
        {
          "output_type": "execute_result",
          "data": {
            "text/html": [
              "<div>\n",
              "<style scoped>\n",
              "    .dataframe tbody tr th:only-of-type {\n",
              "        vertical-align: middle;\n",
              "    }\n",
              "\n",
              "    .dataframe tbody tr th {\n",
              "        vertical-align: top;\n",
              "    }\n",
              "\n",
              "    .dataframe thead th {\n",
              "        text-align: right;\n",
              "    }\n",
              "</style>\n",
              "<table border=\"1\" class=\"dataframe\">\n",
              "  <thead>\n",
              "    <tr style=\"text-align: right;\">\n",
              "      <th></th>\n",
              "      <th>Predicted Low</th>\n",
              "      <th>Predicted Medium</th>\n",
              "      <th>Predicted High</th>\n",
              "    </tr>\n",
              "  </thead>\n",
              "  <tbody>\n",
              "    <tr>\n",
              "      <th>Actual Low</th>\n",
              "      <td>99</td>\n",
              "      <td>3</td>\n",
              "      <td>17</td>\n",
              "    </tr>\n",
              "    <tr>\n",
              "      <th>Actual Medium</th>\n",
              "      <td>178</td>\n",
              "      <td>66</td>\n",
              "      <td>314</td>\n",
              "    </tr>\n",
              "    <tr>\n",
              "      <th>Actual High</th>\n",
              "      <td>17</td>\n",
              "      <td>3</td>\n",
              "      <td>72</td>\n",
              "    </tr>\n",
              "  </tbody>\n",
              "</table>\n",
              "</div>"
            ],
            "text/plain": [
              "               Predicted Low  Predicted Medium  Predicted High\n",
              "Actual Low                99                 3              17\n",
              "Actual Medium            178                66             314\n",
              "Actual High               17                 3              72"
            ]
          },
          "metadata": {
            "tags": []
          },
          "execution_count": 89
        }
      ]
    },
    {
      "cell_type": "code",
      "metadata": {
        "colab": {
          "base_uri": "https://localhost:8080/"
        },
        "id": "MBYzERtp_7mk",
        "outputId": "ce48f61a-96a7-4926-e9fc-d8e427bcf17f"
      },
      "source": [
        "# Print the imbalanced classification report\n",
        "print(classification_report_imbalanced(y_test, y_prediction))"
      ],
      "execution_count": 90,
      "outputs": [
        {
          "output_type": "stream",
          "text": [
            "                          pre       rec       spe        f1       geo       iba       sup\n",
            "\n",
            "    high hesitancy       0.35      0.75      0.81      0.48      0.78      0.61        92\n",
            "     low hesitancy       0.46      0.82      0.82      0.59      0.82      0.67       119\n",
            "moderate hesitancy       0.91      0.59      0.85      0.72      0.71      0.49       558\n",
            "\n",
            "       avg / total       0.78      0.65      0.84      0.67      0.74      0.53       769\n",
            "\n"
          ],
          "name": "stdout"
        }
      ]
    },
    {
      "cell_type": "code",
      "metadata": {
        "colab": {
          "base_uri": "https://localhost:8080/"
        },
        "id": "tKWGAAZQAu5A",
        "outputId": "2309e8b7-7e24-423b-89b3-a4093d8bafb3"
      },
      "source": [
        "features_ranked = sorted(zip(brf_model.feature_importances_, X.columns), reverse=True)\n",
        "for feature in features_ranked:\n",
        "  print(f\"{feature[1]}: ({feature[0]})\")"
      ],
      "execution_count": 91,
      "outputs": [
        {
          "output_type": "stream",
          "text": [
            "percentage20_Joe_Biden: (0.07449790726840502)\n",
            "Poverty: (0.07258997373823836)\n",
            "ChildPoverty: (0.06682124686426658)\n",
            "percent_black: (0.06682037975756513)\n",
            "percentage20_Donald_Trump: (0.06484673290834526)\n",
            "WorkAtHome: (0.060070676092511974)\n",
            "Transit: (0.057468654527936626)\n",
            "percent_asian: (0.05700446480989741)\n",
            "population_scaled: (0.0553052376809115)\n",
            "Unemployment: (0.04266909481643594)\n",
            "percent_white: (0.04232369233498349)\n",
            "percent_hispanic: (0.041528620997052595)\n",
            "Drive: (0.04121866633762804)\n",
            "percent_american_indian_alaska_native: (0.04011794736637077)\n",
            "PrivateWork: (0.03596472838381788)\n",
            "PublicWork: (0.03218509194651056)\n",
            "Walk: (0.0300431112816284)\n",
            "SelfEmployed: (0.029625559049406777)\n",
            "Carpool: (0.029007839765002204)\n",
            "OtherTransp: (0.024616502560999915)\n",
            "FamilyWork: (0.017941957946933512)\n",
            "percent_hawaiian_pacific: (0.01733191356515197)\n"
          ],
          "name": "stdout"
        }
      ]
    },
    {
      "cell_type": "markdown",
      "metadata": {
        "id": "LCMVd5j0BOrr"
      },
      "source": [
        "# Easy Ensemble AdaBoost Classifier"
      ]
    },
    {
      "cell_type": "code",
      "metadata": {
        "colab": {
          "base_uri": "https://localhost:8080/"
        },
        "id": "0wFz3CRqBJrc",
        "outputId": "c29a5f87-acdb-44ad-f33f-75e689ce6581"
      },
      "source": [
        "# Train the EasyEnsembleClassifier\n",
        "from imblearn.ensemble import EasyEnsembleClassifier\n",
        "eec = EasyEnsembleClassifier(n_estimators=100, random_state=1)\n",
        "eec.fit(X_train, y_train)"
      ],
      "execution_count": 92,
      "outputs": [
        {
          "output_type": "execute_result",
          "data": {
            "text/plain": [
              "EasyEnsembleClassifier(n_estimators=100, random_state=1)"
            ]
          },
          "metadata": {
            "tags": []
          },
          "execution_count": 92
        }
      ]
    },
    {
      "cell_type": "code",
      "metadata": {
        "colab": {
          "base_uri": "https://localhost:8080/"
        },
        "id": "9sQiNr0TBbIi",
        "outputId": "ffeab20c-caae-4eab-f41e-b856277e3bc4"
      },
      "source": [
        "# Calculated the balanced accuracy score\n",
        "y_predict_eec = eec.predict(X_test)\n",
        "balanced_accuracy_score(y_test, y_predict_eec)"
      ],
      "execution_count": 93,
      "outputs": [
        {
          "output_type": "execute_result",
          "data": {
            "text/plain": [
              "0.6770162327047072"
            ]
          },
          "metadata": {
            "tags": []
          },
          "execution_count": 93
        }
      ]
    },
    {
      "cell_type": "code",
      "metadata": {
        "colab": {
          "base_uri": "https://localhost:8080/"
        },
        "id": "acfjzl4FBcI4",
        "outputId": "cf92396b-4157-4750-8b52-83957ae719f0"
      },
      "source": [
        "# Print the imbalanced classification report\n",
        "print(classification_report_imbalanced(y_test, y_predict_eec))"
      ],
      "execution_count": 94,
      "outputs": [
        {
          "output_type": "stream",
          "text": [
            "                          pre       rec       spe        f1       geo       iba       sup\n",
            "\n",
            "    high hesitancy       0.31      0.70      0.79      0.43      0.74      0.54        92\n",
            "     low hesitancy       0.42      0.81      0.80      0.56      0.80      0.65       119\n",
            "moderate hesitancy       0.88      0.53      0.81      0.66      0.65      0.42       558\n",
            "\n",
            "       avg / total       0.74      0.59      0.81      0.62      0.69      0.47       769\n",
            "\n"
          ],
          "name": "stdout"
        }
      ]
    },
    {
      "cell_type": "markdown",
      "metadata": {
        "id": "Kx6hNdfKDrje"
      },
      "source": [
        "# Random Forest Classifier"
      ]
    },
    {
      "cell_type": "code",
      "metadata": {
        "id": "5iKc4SBwBcvq"
      },
      "source": [
        "# Fitting Random Forest Regression to the dataset\n",
        "# import the Random Forest Classifier\n",
        "from sklearn.ensemble import RandomForestClassifier"
      ],
      "execution_count": 95,
      "outputs": []
    },
    {
      "cell_type": "code",
      "metadata": {
        "colab": {
          "base_uri": "https://localhost:8080/"
        },
        "id": "XUmY5N5PEJDF",
        "outputId": "06a090b9-680b-4318-c7a4-4b8b67f0886a"
      },
      "source": [
        "# create regressor object\n",
        "RF = RandomForestClassifier(n_estimators = 100, criterion = \"gini\", random_state = 42)\n",
        "RF.fit(X_train, y_train)"
      ],
      "execution_count": 96,
      "outputs": [
        {
          "output_type": "execute_result",
          "data": {
            "text/plain": [
              "RandomForestClassifier(random_state=42)"
            ]
          },
          "metadata": {
            "tags": []
          },
          "execution_count": 96
        }
      ]
    },
    {
      "cell_type": "code",
      "metadata": {
        "colab": {
          "base_uri": "https://localhost:8080/"
        },
        "id": "j0Mxv9yHEJwk",
        "outputId": "79dcb542-af2e-4a26-f196-154a4e76612e"
      },
      "source": [
        "# Calculated the balanced accuracy score\n",
        "y_prediction = RF.predict(X_test)\n",
        "balanced_accuracy_score(y_test, y_prediction)"
      ],
      "execution_count": 97,
      "outputs": [
        {
          "output_type": "execute_result",
          "data": {
            "text/plain": [
              "0.5876920504838994"
            ]
          },
          "metadata": {
            "tags": []
          },
          "execution_count": 97
        }
      ]
    },
    {
      "cell_type": "code",
      "metadata": {
        "colab": {
          "base_uri": "https://localhost:8080/"
        },
        "id": "d252EZazEKX5",
        "outputId": "4dbdf3b0-5058-4e98-886d-7cc715f58a3f"
      },
      "source": [
        "# Print the imbalanced classification report\n",
        "print(classification_report_imbalanced(y_test, y_prediction))"
      ],
      "execution_count": 98,
      "outputs": [
        {
          "output_type": "stream",
          "text": [
            "                          pre       rec       spe        f1       geo       iba       sup\n",
            "\n",
            "    high hesitancy       0.62      0.28      0.98      0.39      0.53      0.26        92\n",
            "     low hesitancy       0.76      0.54      0.97      0.63      0.72      0.50       119\n",
            "moderate hesitancy       0.82      0.94      0.45      0.88      0.65      0.44       558\n",
            "\n",
            "       avg / total       0.79      0.80      0.59      0.78      0.64      0.43       769\n",
            "\n"
          ],
          "name": "stdout"
        }
      ]
    }
  ]
}