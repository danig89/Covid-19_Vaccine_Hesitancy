{
  "nbformat": 4,
  "nbformat_minor": 0,
  "metadata": {
    "kernelspec": {
      "display_name": "mlenv",
      "language": "python",
      "name": "mlenv"
    },
    "language_info": {
      "codemirror_mode": {
        "name": "ipython",
        "version": 3
      },
      "file_extension": ".py",
      "mimetype": "text/x-python",
      "name": "python",
      "nbconvert_exporter": "python",
      "pygments_lexer": "ipython3",
      "version": "3.8.3"
    },
    "colab": {
      "name": "logistic_regression_model.ipynb",
      "provenance": [],
      "collapsed_sections": [],
      "toc_visible": true
    }
  },
  "cells": [
    {
      "cell_type": "code",
      "metadata": {
        "id": "2yMNNyrTpTIA"
      },
      "source": [
        "# Import dependencies\n",
        "import pandas as pd\n",
        "import numpy as np\n",
        "\n",
        "from pathlib import Path\n",
        "from collections import Counter\n",
        "\n",
        "import matplotlib.pyplot as plt"
      ],
      "execution_count": 1,
      "outputs": []
    },
    {
      "cell_type": "markdown",
      "metadata": {
        "id": "4n4jrfPhpTID"
      },
      "source": [
        "# Import Data File"
      ]
    },
    {
      "cell_type": "code",
      "metadata": {
        "colab": {
          "base_uri": "https://localhost:8080/",
          "height": 482
        },
        "id": "SN1C5cSCpTIE",
        "outputId": "56521f38-371b-4c6a-8132-7bff9176d780"
      },
      "source": [
        "# Import data file\n",
        "county_data_df = pd.read_csv(\"/content/complete_county_data.csv\")\n",
        "\n",
        "county_data_df.head()"
      ],
      "execution_count": 2,
      "outputs": [
        {
          "output_type": "execute_result",
          "data": {
            "text/html": [
              "<div>\n",
              "<style scoped>\n",
              "    .dataframe tbody tr th:only-of-type {\n",
              "        vertical-align: middle;\n",
              "    }\n",
              "\n",
              "    .dataframe tbody tr th {\n",
              "        vertical-align: top;\n",
              "    }\n",
              "\n",
              "    .dataframe thead th {\n",
              "        text-align: right;\n",
              "    }\n",
              "</style>\n",
              "<table border=\"1\" class=\"dataframe\">\n",
              "  <thead>\n",
              "    <tr style=\"text-align: right;\">\n",
              "      <th></th>\n",
              "      <th>fips_code</th>\n",
              "      <th>est_hesitant</th>\n",
              "      <th>est_strongly_hesitant</th>\n",
              "      <th>svi</th>\n",
              "      <th>svi_category</th>\n",
              "      <th>cvac</th>\n",
              "      <th>cvac_category</th>\n",
              "      <th>percent_hispanic</th>\n",
              "      <th>percent_american_indian_alaska_native</th>\n",
              "      <th>percent_asian</th>\n",
              "      <th>percent_black</th>\n",
              "      <th>percent_hawaiian_pacific</th>\n",
              "      <th>percent_white</th>\n",
              "      <th>geographical_point</th>\n",
              "      <th>state_code</th>\n",
              "      <th>county_boundary</th>\n",
              "      <th>state_boundary</th>\n",
              "      <th>State</th>\n",
              "      <th>County</th>\n",
              "      <th>TotalPop</th>\n",
              "      <th>Men</th>\n",
              "      <th>Women</th>\n",
              "      <th>Hispanic</th>\n",
              "      <th>White</th>\n",
              "      <th>Black</th>\n",
              "      <th>Native</th>\n",
              "      <th>Asian</th>\n",
              "      <th>Pacific</th>\n",
              "      <th>VotingAgeCitizen</th>\n",
              "      <th>Income</th>\n",
              "      <th>IncomeErr</th>\n",
              "      <th>IncomePerCap</th>\n",
              "      <th>IncomePerCapErr</th>\n",
              "      <th>Poverty</th>\n",
              "      <th>ChildPoverty</th>\n",
              "      <th>Professional</th>\n",
              "      <th>Service</th>\n",
              "      <th>Office</th>\n",
              "      <th>Construction</th>\n",
              "      <th>Production</th>\n",
              "      <th>Drive</th>\n",
              "      <th>Carpool</th>\n",
              "      <th>Transit</th>\n",
              "      <th>Walk</th>\n",
              "      <th>OtherTransp</th>\n",
              "      <th>WorkAtHome</th>\n",
              "      <th>MeanCommute</th>\n",
              "      <th>Employed</th>\n",
              "      <th>PrivateWork</th>\n",
              "      <th>PublicWork</th>\n",
              "      <th>SelfEmployed</th>\n",
              "      <th>FamilyWork</th>\n",
              "      <th>Unemployment</th>\n",
              "      <th>percentage20_Donald_Trump</th>\n",
              "      <th>percentage20_Joe_Biden</th>\n",
              "      <th>county_y</th>\n",
              "      <th>state_y</th>\n",
              "      <th>population</th>\n",
              "      <th>density</th>\n",
              "      <th>hesitancy</th>\n",
              "      <th>population_scaled</th>\n",
              "      <th>Winning_candidate_2020</th>\n",
              "    </tr>\n",
              "  </thead>\n",
              "  <tbody>\n",
              "    <tr>\n",
              "      <th>0</th>\n",
              "      <td>1001</td>\n",
              "      <td>0.22</td>\n",
              "      <td>0.10</td>\n",
              "      <td>0.44</td>\n",
              "      <td>Moderate Vulnerability</td>\n",
              "      <td>0.61</td>\n",
              "      <td>High Vulnerability</td>\n",
              "      <td>0.0283</td>\n",
              "      <td>0.0025</td>\n",
              "      <td>0.0103</td>\n",
              "      <td>0.1900</td>\n",
              "      <td>0.0001</td>\n",
              "      <td>0.7460</td>\n",
              "      <td>POINT (-86.844516 32.756889)</td>\n",
              "      <td>AL</td>\n",
              "      <td>MULTIPOLYGON (((-86.90309599999999 32.54062599...</td>\n",
              "      <td>MULTIPOLYGON (((-88.139988 34.581703, -88.1352...</td>\n",
              "      <td>Alabama</td>\n",
              "      <td>Autauga County</td>\n",
              "      <td>55036</td>\n",
              "      <td>26899</td>\n",
              "      <td>28137</td>\n",
              "      <td>2.7</td>\n",
              "      <td>75.4</td>\n",
              "      <td>18.9</td>\n",
              "      <td>0.3</td>\n",
              "      <td>0.9</td>\n",
              "      <td>0.0</td>\n",
              "      <td>41016</td>\n",
              "      <td>55317</td>\n",
              "      <td>2838</td>\n",
              "      <td>27824</td>\n",
              "      <td>2024</td>\n",
              "      <td>13.7</td>\n",
              "      <td>20.1</td>\n",
              "      <td>35.3</td>\n",
              "      <td>18.0</td>\n",
              "      <td>23.2</td>\n",
              "      <td>8.1</td>\n",
              "      <td>15.4</td>\n",
              "      <td>86.0</td>\n",
              "      <td>9.6</td>\n",
              "      <td>0.1</td>\n",
              "      <td>0.6</td>\n",
              "      <td>1.3</td>\n",
              "      <td>2.5</td>\n",
              "      <td>25.8</td>\n",
              "      <td>24112</td>\n",
              "      <td>74.1</td>\n",
              "      <td>20.2</td>\n",
              "      <td>5.6</td>\n",
              "      <td>0.1</td>\n",
              "      <td>5.2</td>\n",
              "      <td>0.715</td>\n",
              "      <td>0.270</td>\n",
              "      <td>Autauga County</td>\n",
              "      <td>AL</td>\n",
              "      <td>55514</td>\n",
              "      <td>urban</td>\n",
              "      <td>moderate hesitancy</td>\n",
              "      <td>5.5514</td>\n",
              "      <td>Trump</td>\n",
              "    </tr>\n",
              "    <tr>\n",
              "      <th>1</th>\n",
              "      <td>1003</td>\n",
              "      <td>0.20</td>\n",
              "      <td>0.10</td>\n",
              "      <td>0.22</td>\n",
              "      <td>Low Vulnerability</td>\n",
              "      <td>0.23</td>\n",
              "      <td>Low Vulnerability</td>\n",
              "      <td>0.0456</td>\n",
              "      <td>0.0065</td>\n",
              "      <td>0.0092</td>\n",
              "      <td>0.0917</td>\n",
              "      <td>0.0000</td>\n",
              "      <td>0.8307</td>\n",
              "      <td>POINT (-86.844516 32.756889)</td>\n",
              "      <td>AL</td>\n",
              "      <td>MULTIPOLYGON (((-87.990684 30.55549, -87.98783...</td>\n",
              "      <td>MULTIPOLYGON (((-88.139988 34.581703, -88.1352...</td>\n",
              "      <td>Alabama</td>\n",
              "      <td>Baldwin County</td>\n",
              "      <td>203360</td>\n",
              "      <td>99527</td>\n",
              "      <td>103833</td>\n",
              "      <td>4.4</td>\n",
              "      <td>83.1</td>\n",
              "      <td>9.5</td>\n",
              "      <td>0.8</td>\n",
              "      <td>0.7</td>\n",
              "      <td>0.0</td>\n",
              "      <td>155376</td>\n",
              "      <td>52562</td>\n",
              "      <td>1348</td>\n",
              "      <td>29364</td>\n",
              "      <td>735</td>\n",
              "      <td>11.8</td>\n",
              "      <td>16.1</td>\n",
              "      <td>35.7</td>\n",
              "      <td>18.2</td>\n",
              "      <td>25.6</td>\n",
              "      <td>9.7</td>\n",
              "      <td>10.8</td>\n",
              "      <td>84.7</td>\n",
              "      <td>7.6</td>\n",
              "      <td>0.1</td>\n",
              "      <td>0.8</td>\n",
              "      <td>1.1</td>\n",
              "      <td>5.6</td>\n",
              "      <td>27.0</td>\n",
              "      <td>89527</td>\n",
              "      <td>80.7</td>\n",
              "      <td>12.9</td>\n",
              "      <td>6.3</td>\n",
              "      <td>0.1</td>\n",
              "      <td>5.5</td>\n",
              "      <td>0.762</td>\n",
              "      <td>0.223</td>\n",
              "      <td>Baldwin County</td>\n",
              "      <td>AL</td>\n",
              "      <td>190790</td>\n",
              "      <td>urban</td>\n",
              "      <td>moderate hesitancy</td>\n",
              "      <td>19.0790</td>\n",
              "      <td>Trump</td>\n",
              "    </tr>\n",
              "    <tr>\n",
              "      <th>2</th>\n",
              "      <td>1005</td>\n",
              "      <td>0.23</td>\n",
              "      <td>0.11</td>\n",
              "      <td>1.00</td>\n",
              "      <td>Very High Vulnerability</td>\n",
              "      <td>0.89</td>\n",
              "      <td>Very High Vulnerability</td>\n",
              "      <td>0.0436</td>\n",
              "      <td>0.0029</td>\n",
              "      <td>0.0048</td>\n",
              "      <td>0.4744</td>\n",
              "      <td>0.0000</td>\n",
              "      <td>0.4581</td>\n",
              "      <td>POINT (-86.844516 32.756889)</td>\n",
              "      <td>AL</td>\n",
              "      <td>MULTIPOLYGON (((-85.429819 32.045983, -85.4303...</td>\n",
              "      <td>MULTIPOLYGON (((-88.139988 34.581703, -88.1352...</td>\n",
              "      <td>Alabama</td>\n",
              "      <td>Barbour County</td>\n",
              "      <td>26201</td>\n",
              "      <td>13976</td>\n",
              "      <td>12225</td>\n",
              "      <td>4.2</td>\n",
              "      <td>45.7</td>\n",
              "      <td>47.8</td>\n",
              "      <td>0.2</td>\n",
              "      <td>0.6</td>\n",
              "      <td>0.0</td>\n",
              "      <td>20269</td>\n",
              "      <td>33368</td>\n",
              "      <td>2551</td>\n",
              "      <td>17561</td>\n",
              "      <td>798</td>\n",
              "      <td>27.2</td>\n",
              "      <td>44.9</td>\n",
              "      <td>25.0</td>\n",
              "      <td>16.8</td>\n",
              "      <td>22.6</td>\n",
              "      <td>11.5</td>\n",
              "      <td>24.1</td>\n",
              "      <td>83.4</td>\n",
              "      <td>11.1</td>\n",
              "      <td>0.3</td>\n",
              "      <td>2.2</td>\n",
              "      <td>1.7</td>\n",
              "      <td>1.3</td>\n",
              "      <td>23.4</td>\n",
              "      <td>8878</td>\n",
              "      <td>74.1</td>\n",
              "      <td>19.1</td>\n",
              "      <td>6.5</td>\n",
              "      <td>0.3</td>\n",
              "      <td>12.4</td>\n",
              "      <td>0.536</td>\n",
              "      <td>0.456</td>\n",
              "      <td>Barbour County</td>\n",
              "      <td>AL</td>\n",
              "      <td>27201</td>\n",
              "      <td>rural</td>\n",
              "      <td>moderate hesitancy</td>\n",
              "      <td>2.7201</td>\n",
              "      <td>Trump</td>\n",
              "    </tr>\n",
              "    <tr>\n",
              "      <th>3</th>\n",
              "      <td>1007</td>\n",
              "      <td>0.24</td>\n",
              "      <td>0.12</td>\n",
              "      <td>0.60</td>\n",
              "      <td>High Vulnerability</td>\n",
              "      <td>0.76</td>\n",
              "      <td>High Vulnerability</td>\n",
              "      <td>0.0257</td>\n",
              "      <td>0.0013</td>\n",
              "      <td>0.0012</td>\n",
              "      <td>0.2214</td>\n",
              "      <td>0.0000</td>\n",
              "      <td>0.7453</td>\n",
              "      <td>POINT (-86.844516 32.756889)</td>\n",
              "      <td>AL</td>\n",
              "      <td>MULTIPOLYGON (((-87.312265 33.086219, -87.3121...</td>\n",
              "      <td>MULTIPOLYGON (((-88.139988 34.581703, -88.1352...</td>\n",
              "      <td>Alabama</td>\n",
              "      <td>Bibb County</td>\n",
              "      <td>22580</td>\n",
              "      <td>12251</td>\n",
              "      <td>10329</td>\n",
              "      <td>2.4</td>\n",
              "      <td>74.6</td>\n",
              "      <td>22.0</td>\n",
              "      <td>0.4</td>\n",
              "      <td>0.0</td>\n",
              "      <td>0.0</td>\n",
              "      <td>17662</td>\n",
              "      <td>43404</td>\n",
              "      <td>3431</td>\n",
              "      <td>20911</td>\n",
              "      <td>1889</td>\n",
              "      <td>15.2</td>\n",
              "      <td>26.6</td>\n",
              "      <td>24.4</td>\n",
              "      <td>17.6</td>\n",
              "      <td>19.7</td>\n",
              "      <td>15.9</td>\n",
              "      <td>22.4</td>\n",
              "      <td>86.4</td>\n",
              "      <td>9.5</td>\n",
              "      <td>0.7</td>\n",
              "      <td>0.3</td>\n",
              "      <td>1.7</td>\n",
              "      <td>1.5</td>\n",
              "      <td>30.0</td>\n",
              "      <td>8171</td>\n",
              "      <td>76.0</td>\n",
              "      <td>17.4</td>\n",
              "      <td>6.3</td>\n",
              "      <td>0.3</td>\n",
              "      <td>8.2</td>\n",
              "      <td>0.784</td>\n",
              "      <td>0.207</td>\n",
              "      <td>Bibb County</td>\n",
              "      <td>AL</td>\n",
              "      <td>22597</td>\n",
              "      <td>urban</td>\n",
              "      <td>moderate hesitancy</td>\n",
              "      <td>2.2597</td>\n",
              "      <td>Trump</td>\n",
              "    </tr>\n",
              "    <tr>\n",
              "      <th>4</th>\n",
              "      <td>1009</td>\n",
              "      <td>0.23</td>\n",
              "      <td>0.11</td>\n",
              "      <td>0.42</td>\n",
              "      <td>Moderate Vulnerability</td>\n",
              "      <td>0.80</td>\n",
              "      <td>High Vulnerability</td>\n",
              "      <td>0.0926</td>\n",
              "      <td>0.0007</td>\n",
              "      <td>0.0037</td>\n",
              "      <td>0.0153</td>\n",
              "      <td>0.0004</td>\n",
              "      <td>0.8689</td>\n",
              "      <td>POINT (-86.844516 32.756889)</td>\n",
              "      <td>AL</td>\n",
              "      <td>MULTIPOLYGON (((-86.74918799999999 33.997596, ...</td>\n",
              "      <td>MULTIPOLYGON (((-88.139988 34.581703, -88.1352...</td>\n",
              "      <td>Alabama</td>\n",
              "      <td>Blount County</td>\n",
              "      <td>57667</td>\n",
              "      <td>28490</td>\n",
              "      <td>29177</td>\n",
              "      <td>9.0</td>\n",
              "      <td>87.4</td>\n",
              "      <td>1.5</td>\n",
              "      <td>0.3</td>\n",
              "      <td>0.1</td>\n",
              "      <td>0.0</td>\n",
              "      <td>42513</td>\n",
              "      <td>47412</td>\n",
              "      <td>2630</td>\n",
              "      <td>22021</td>\n",
              "      <td>850</td>\n",
              "      <td>15.6</td>\n",
              "      <td>25.4</td>\n",
              "      <td>28.5</td>\n",
              "      <td>12.9</td>\n",
              "      <td>23.3</td>\n",
              "      <td>15.8</td>\n",
              "      <td>19.5</td>\n",
              "      <td>86.8</td>\n",
              "      <td>10.2</td>\n",
              "      <td>0.1</td>\n",
              "      <td>0.4</td>\n",
              "      <td>0.4</td>\n",
              "      <td>2.1</td>\n",
              "      <td>35.0</td>\n",
              "      <td>21380</td>\n",
              "      <td>83.9</td>\n",
              "      <td>11.9</td>\n",
              "      <td>4.0</td>\n",
              "      <td>0.1</td>\n",
              "      <td>4.9</td>\n",
              "      <td>0.896</td>\n",
              "      <td>0.096</td>\n",
              "      <td>Blount County</td>\n",
              "      <td>AL</td>\n",
              "      <td>57826</td>\n",
              "      <td>urban</td>\n",
              "      <td>moderate hesitancy</td>\n",
              "      <td>5.7826</td>\n",
              "      <td>Trump</td>\n",
              "    </tr>\n",
              "  </tbody>\n",
              "</table>\n",
              "</div>"
            ],
            "text/plain": [
              "   fips_code  est_hesitant  ...  population_scaled  Winning_candidate_2020\n",
              "0       1001          0.22  ...             5.5514                   Trump\n",
              "1       1003          0.20  ...            19.0790                   Trump\n",
              "2       1005          0.23  ...             2.7201                   Trump\n",
              "3       1007          0.24  ...             2.2597                   Trump\n",
              "4       1009          0.23  ...             5.7826                   Trump\n",
              "\n",
              "[5 rows x 62 columns]"
            ]
          },
          "metadata": {
            "tags": []
          },
          "execution_count": 2
        }
      ]
    },
    {
      "cell_type": "code",
      "metadata": {
        "colab": {
          "base_uri": "https://localhost:8080/",
          "height": 309
        },
        "id": "-tBUDI7QpTIH",
        "outputId": "5f26f4e1-fb84-4982-8f98-26f6cdf7e7a7"
      },
      "source": [
        "filtered_county_data_df = county_data_df.drop(columns={\"svi_category\", \"cvac\", \"cvac_category\", \"svi\", \"est_strongly_hesitant\", \"est_hesitant\", \"geographical_point\", \"state_code\", \"county_boundary\", \"state_boundary\", \"State\", \"County\"})\n",
        "filtered_county_data_df.head()"
      ],
      "execution_count": 123,
      "outputs": [
        {
          "output_type": "execute_result",
          "data": {
            "text/html": [
              "<div>\n",
              "<style scoped>\n",
              "    .dataframe tbody tr th:only-of-type {\n",
              "        vertical-align: middle;\n",
              "    }\n",
              "\n",
              "    .dataframe tbody tr th {\n",
              "        vertical-align: top;\n",
              "    }\n",
              "\n",
              "    .dataframe thead th {\n",
              "        text-align: right;\n",
              "    }\n",
              "</style>\n",
              "<table border=\"1\" class=\"dataframe\">\n",
              "  <thead>\n",
              "    <tr style=\"text-align: right;\">\n",
              "      <th></th>\n",
              "      <th>fips_code</th>\n",
              "      <th>percent_hispanic</th>\n",
              "      <th>percent_american_indian_alaska_native</th>\n",
              "      <th>percent_asian</th>\n",
              "      <th>percent_black</th>\n",
              "      <th>percent_hawaiian_pacific</th>\n",
              "      <th>percent_white</th>\n",
              "      <th>TotalPop</th>\n",
              "      <th>Men</th>\n",
              "      <th>Women</th>\n",
              "      <th>Hispanic</th>\n",
              "      <th>White</th>\n",
              "      <th>Black</th>\n",
              "      <th>Native</th>\n",
              "      <th>Asian</th>\n",
              "      <th>Pacific</th>\n",
              "      <th>VotingAgeCitizen</th>\n",
              "      <th>Income</th>\n",
              "      <th>IncomeErr</th>\n",
              "      <th>IncomePerCap</th>\n",
              "      <th>IncomePerCapErr</th>\n",
              "      <th>Poverty</th>\n",
              "      <th>ChildPoverty</th>\n",
              "      <th>Professional</th>\n",
              "      <th>Service</th>\n",
              "      <th>Office</th>\n",
              "      <th>Construction</th>\n",
              "      <th>Production</th>\n",
              "      <th>Drive</th>\n",
              "      <th>Carpool</th>\n",
              "      <th>Transit</th>\n",
              "      <th>Walk</th>\n",
              "      <th>OtherTransp</th>\n",
              "      <th>WorkAtHome</th>\n",
              "      <th>MeanCommute</th>\n",
              "      <th>Employed</th>\n",
              "      <th>PrivateWork</th>\n",
              "      <th>PublicWork</th>\n",
              "      <th>SelfEmployed</th>\n",
              "      <th>FamilyWork</th>\n",
              "      <th>Unemployment</th>\n",
              "      <th>percentage20_Donald_Trump</th>\n",
              "      <th>percentage20_Joe_Biden</th>\n",
              "      <th>county_y</th>\n",
              "      <th>state_y</th>\n",
              "      <th>population</th>\n",
              "      <th>density</th>\n",
              "      <th>hesitancy</th>\n",
              "      <th>population_scaled</th>\n",
              "      <th>Winning_candidate_2020</th>\n",
              "    </tr>\n",
              "  </thead>\n",
              "  <tbody>\n",
              "    <tr>\n",
              "      <th>0</th>\n",
              "      <td>1001</td>\n",
              "      <td>0.0283</td>\n",
              "      <td>0.0025</td>\n",
              "      <td>0.0103</td>\n",
              "      <td>0.1900</td>\n",
              "      <td>0.0001</td>\n",
              "      <td>0.7460</td>\n",
              "      <td>55036</td>\n",
              "      <td>26899</td>\n",
              "      <td>28137</td>\n",
              "      <td>2.7</td>\n",
              "      <td>75.4</td>\n",
              "      <td>18.9</td>\n",
              "      <td>0.3</td>\n",
              "      <td>0.9</td>\n",
              "      <td>0.0</td>\n",
              "      <td>41016</td>\n",
              "      <td>55317</td>\n",
              "      <td>2838</td>\n",
              "      <td>27824</td>\n",
              "      <td>2024</td>\n",
              "      <td>13.7</td>\n",
              "      <td>20.1</td>\n",
              "      <td>35.3</td>\n",
              "      <td>18.0</td>\n",
              "      <td>23.2</td>\n",
              "      <td>8.1</td>\n",
              "      <td>15.4</td>\n",
              "      <td>86.0</td>\n",
              "      <td>9.6</td>\n",
              "      <td>0.1</td>\n",
              "      <td>0.6</td>\n",
              "      <td>1.3</td>\n",
              "      <td>2.5</td>\n",
              "      <td>25.8</td>\n",
              "      <td>24112</td>\n",
              "      <td>74.1</td>\n",
              "      <td>20.2</td>\n",
              "      <td>5.6</td>\n",
              "      <td>0.1</td>\n",
              "      <td>5.2</td>\n",
              "      <td>0.715</td>\n",
              "      <td>0.270</td>\n",
              "      <td>Autauga County</td>\n",
              "      <td>AL</td>\n",
              "      <td>55514</td>\n",
              "      <td>urban</td>\n",
              "      <td>moderate hesitancy</td>\n",
              "      <td>5.5514</td>\n",
              "      <td>Trump</td>\n",
              "    </tr>\n",
              "    <tr>\n",
              "      <th>1</th>\n",
              "      <td>1003</td>\n",
              "      <td>0.0456</td>\n",
              "      <td>0.0065</td>\n",
              "      <td>0.0092</td>\n",
              "      <td>0.0917</td>\n",
              "      <td>0.0000</td>\n",
              "      <td>0.8307</td>\n",
              "      <td>203360</td>\n",
              "      <td>99527</td>\n",
              "      <td>103833</td>\n",
              "      <td>4.4</td>\n",
              "      <td>83.1</td>\n",
              "      <td>9.5</td>\n",
              "      <td>0.8</td>\n",
              "      <td>0.7</td>\n",
              "      <td>0.0</td>\n",
              "      <td>155376</td>\n",
              "      <td>52562</td>\n",
              "      <td>1348</td>\n",
              "      <td>29364</td>\n",
              "      <td>735</td>\n",
              "      <td>11.8</td>\n",
              "      <td>16.1</td>\n",
              "      <td>35.7</td>\n",
              "      <td>18.2</td>\n",
              "      <td>25.6</td>\n",
              "      <td>9.7</td>\n",
              "      <td>10.8</td>\n",
              "      <td>84.7</td>\n",
              "      <td>7.6</td>\n",
              "      <td>0.1</td>\n",
              "      <td>0.8</td>\n",
              "      <td>1.1</td>\n",
              "      <td>5.6</td>\n",
              "      <td>27.0</td>\n",
              "      <td>89527</td>\n",
              "      <td>80.7</td>\n",
              "      <td>12.9</td>\n",
              "      <td>6.3</td>\n",
              "      <td>0.1</td>\n",
              "      <td>5.5</td>\n",
              "      <td>0.762</td>\n",
              "      <td>0.223</td>\n",
              "      <td>Baldwin County</td>\n",
              "      <td>AL</td>\n",
              "      <td>190790</td>\n",
              "      <td>urban</td>\n",
              "      <td>moderate hesitancy</td>\n",
              "      <td>19.0790</td>\n",
              "      <td>Trump</td>\n",
              "    </tr>\n",
              "    <tr>\n",
              "      <th>2</th>\n",
              "      <td>1005</td>\n",
              "      <td>0.0436</td>\n",
              "      <td>0.0029</td>\n",
              "      <td>0.0048</td>\n",
              "      <td>0.4744</td>\n",
              "      <td>0.0000</td>\n",
              "      <td>0.4581</td>\n",
              "      <td>26201</td>\n",
              "      <td>13976</td>\n",
              "      <td>12225</td>\n",
              "      <td>4.2</td>\n",
              "      <td>45.7</td>\n",
              "      <td>47.8</td>\n",
              "      <td>0.2</td>\n",
              "      <td>0.6</td>\n",
              "      <td>0.0</td>\n",
              "      <td>20269</td>\n",
              "      <td>33368</td>\n",
              "      <td>2551</td>\n",
              "      <td>17561</td>\n",
              "      <td>798</td>\n",
              "      <td>27.2</td>\n",
              "      <td>44.9</td>\n",
              "      <td>25.0</td>\n",
              "      <td>16.8</td>\n",
              "      <td>22.6</td>\n",
              "      <td>11.5</td>\n",
              "      <td>24.1</td>\n",
              "      <td>83.4</td>\n",
              "      <td>11.1</td>\n",
              "      <td>0.3</td>\n",
              "      <td>2.2</td>\n",
              "      <td>1.7</td>\n",
              "      <td>1.3</td>\n",
              "      <td>23.4</td>\n",
              "      <td>8878</td>\n",
              "      <td>74.1</td>\n",
              "      <td>19.1</td>\n",
              "      <td>6.5</td>\n",
              "      <td>0.3</td>\n",
              "      <td>12.4</td>\n",
              "      <td>0.536</td>\n",
              "      <td>0.456</td>\n",
              "      <td>Barbour County</td>\n",
              "      <td>AL</td>\n",
              "      <td>27201</td>\n",
              "      <td>rural</td>\n",
              "      <td>moderate hesitancy</td>\n",
              "      <td>2.7201</td>\n",
              "      <td>Trump</td>\n",
              "    </tr>\n",
              "    <tr>\n",
              "      <th>3</th>\n",
              "      <td>1007</td>\n",
              "      <td>0.0257</td>\n",
              "      <td>0.0013</td>\n",
              "      <td>0.0012</td>\n",
              "      <td>0.2214</td>\n",
              "      <td>0.0000</td>\n",
              "      <td>0.7453</td>\n",
              "      <td>22580</td>\n",
              "      <td>12251</td>\n",
              "      <td>10329</td>\n",
              "      <td>2.4</td>\n",
              "      <td>74.6</td>\n",
              "      <td>22.0</td>\n",
              "      <td>0.4</td>\n",
              "      <td>0.0</td>\n",
              "      <td>0.0</td>\n",
              "      <td>17662</td>\n",
              "      <td>43404</td>\n",
              "      <td>3431</td>\n",
              "      <td>20911</td>\n",
              "      <td>1889</td>\n",
              "      <td>15.2</td>\n",
              "      <td>26.6</td>\n",
              "      <td>24.4</td>\n",
              "      <td>17.6</td>\n",
              "      <td>19.7</td>\n",
              "      <td>15.9</td>\n",
              "      <td>22.4</td>\n",
              "      <td>86.4</td>\n",
              "      <td>9.5</td>\n",
              "      <td>0.7</td>\n",
              "      <td>0.3</td>\n",
              "      <td>1.7</td>\n",
              "      <td>1.5</td>\n",
              "      <td>30.0</td>\n",
              "      <td>8171</td>\n",
              "      <td>76.0</td>\n",
              "      <td>17.4</td>\n",
              "      <td>6.3</td>\n",
              "      <td>0.3</td>\n",
              "      <td>8.2</td>\n",
              "      <td>0.784</td>\n",
              "      <td>0.207</td>\n",
              "      <td>Bibb County</td>\n",
              "      <td>AL</td>\n",
              "      <td>22597</td>\n",
              "      <td>urban</td>\n",
              "      <td>moderate hesitancy</td>\n",
              "      <td>2.2597</td>\n",
              "      <td>Trump</td>\n",
              "    </tr>\n",
              "    <tr>\n",
              "      <th>4</th>\n",
              "      <td>1009</td>\n",
              "      <td>0.0926</td>\n",
              "      <td>0.0007</td>\n",
              "      <td>0.0037</td>\n",
              "      <td>0.0153</td>\n",
              "      <td>0.0004</td>\n",
              "      <td>0.8689</td>\n",
              "      <td>57667</td>\n",
              "      <td>28490</td>\n",
              "      <td>29177</td>\n",
              "      <td>9.0</td>\n",
              "      <td>87.4</td>\n",
              "      <td>1.5</td>\n",
              "      <td>0.3</td>\n",
              "      <td>0.1</td>\n",
              "      <td>0.0</td>\n",
              "      <td>42513</td>\n",
              "      <td>47412</td>\n",
              "      <td>2630</td>\n",
              "      <td>22021</td>\n",
              "      <td>850</td>\n",
              "      <td>15.6</td>\n",
              "      <td>25.4</td>\n",
              "      <td>28.5</td>\n",
              "      <td>12.9</td>\n",
              "      <td>23.3</td>\n",
              "      <td>15.8</td>\n",
              "      <td>19.5</td>\n",
              "      <td>86.8</td>\n",
              "      <td>10.2</td>\n",
              "      <td>0.1</td>\n",
              "      <td>0.4</td>\n",
              "      <td>0.4</td>\n",
              "      <td>2.1</td>\n",
              "      <td>35.0</td>\n",
              "      <td>21380</td>\n",
              "      <td>83.9</td>\n",
              "      <td>11.9</td>\n",
              "      <td>4.0</td>\n",
              "      <td>0.1</td>\n",
              "      <td>4.9</td>\n",
              "      <td>0.896</td>\n",
              "      <td>0.096</td>\n",
              "      <td>Blount County</td>\n",
              "      <td>AL</td>\n",
              "      <td>57826</td>\n",
              "      <td>urban</td>\n",
              "      <td>moderate hesitancy</td>\n",
              "      <td>5.7826</td>\n",
              "      <td>Trump</td>\n",
              "    </tr>\n",
              "  </tbody>\n",
              "</table>\n",
              "</div>"
            ],
            "text/plain": [
              "   fips_code  percent_hispanic  ...  population_scaled  Winning_candidate_2020\n",
              "0       1001            0.0283  ...             5.5514                   Trump\n",
              "1       1003            0.0456  ...            19.0790                   Trump\n",
              "2       1005            0.0436  ...             2.7201                   Trump\n",
              "3       1007            0.0257  ...             2.2597                   Trump\n",
              "4       1009            0.0926  ...             5.7826                   Trump\n",
              "\n",
              "[5 rows x 50 columns]"
            ]
          },
          "metadata": {
            "tags": []
          },
          "execution_count": 123
        }
      ]
    },
    {
      "cell_type": "markdown",
      "metadata": {
        "id": "JbGMTHW7pTIH"
      },
      "source": [
        "# Split the Data into Training and Testing"
      ]
    },
    {
      "cell_type": "code",
      "metadata": {
        "colab": {
          "base_uri": "https://localhost:8080/",
          "height": 314
        },
        "id": "azgcS2KopTIH",
        "outputId": "b058850c-d169-4eaa-a005-9fd02f557d41"
      },
      "source": [
        "# Choose Independent variables\n",
        "X = county_data_df[[\"percent_white\",\"percent_hispanic\", \"percent_american_indian_alaska_native\",\n",
        "                        \"percent_asian\", \"percent_black\", \"percent_hawaiian_pacific\", \"Poverty\", \n",
        "                        \"ChildPoverty\", \"Drive\",\"Carpool\", \"Transit\", \"Walk\", \"OtherTransp\",\n",
        "                        \"WorkAtHome\", \"PrivateWork\", \"PublicWork\", \"SelfEmployed\", \"FamilyWork\", \"Unemployment\", \n",
        "                        \"percentage20_Donald_Trump\", \"percentage20_Joe_Biden\", \"population_scaled\"]]\n",
        "\n",
        "# Create our target\n",
        "y = county_data_df['hesitancy']\n",
        "\n",
        "X.describe()"
      ],
      "execution_count": 3,
      "outputs": [
        {
          "output_type": "execute_result",
          "data": {
            "text/html": [
              "<div>\n",
              "<style scoped>\n",
              "    .dataframe tbody tr th:only-of-type {\n",
              "        vertical-align: middle;\n",
              "    }\n",
              "\n",
              "    .dataframe tbody tr th {\n",
              "        vertical-align: top;\n",
              "    }\n",
              "\n",
              "    .dataframe thead th {\n",
              "        text-align: right;\n",
              "    }\n",
              "</style>\n",
              "<table border=\"1\" class=\"dataframe\">\n",
              "  <thead>\n",
              "    <tr style=\"text-align: right;\">\n",
              "      <th></th>\n",
              "      <th>percent_white</th>\n",
              "      <th>percent_hispanic</th>\n",
              "      <th>percent_american_indian_alaska_native</th>\n",
              "      <th>percent_asian</th>\n",
              "      <th>percent_black</th>\n",
              "      <th>percent_hawaiian_pacific</th>\n",
              "      <th>Poverty</th>\n",
              "      <th>ChildPoverty</th>\n",
              "      <th>Drive</th>\n",
              "      <th>Carpool</th>\n",
              "      <th>Transit</th>\n",
              "      <th>Walk</th>\n",
              "      <th>OtherTransp</th>\n",
              "      <th>WorkAtHome</th>\n",
              "      <th>PrivateWork</th>\n",
              "      <th>PublicWork</th>\n",
              "      <th>SelfEmployed</th>\n",
              "      <th>FamilyWork</th>\n",
              "      <th>Unemployment</th>\n",
              "      <th>percentage20_Donald_Trump</th>\n",
              "      <th>percentage20_Joe_Biden</th>\n",
              "      <th>population_scaled</th>\n",
              "    </tr>\n",
              "  </thead>\n",
              "  <tbody>\n",
              "    <tr>\n",
              "      <th>count</th>\n",
              "      <td>3075.000000</td>\n",
              "      <td>3075.000000</td>\n",
              "      <td>3075.000000</td>\n",
              "      <td>3075.000000</td>\n",
              "      <td>3075.000000</td>\n",
              "      <td>3075.000000</td>\n",
              "      <td>3075.000000</td>\n",
              "      <td>3075.000000</td>\n",
              "      <td>3075.000000</td>\n",
              "      <td>3075.000000</td>\n",
              "      <td>3075.000000</td>\n",
              "      <td>3075.000000</td>\n",
              "      <td>3075.000000</td>\n",
              "      <td>3075.000000</td>\n",
              "      <td>3075.000000</td>\n",
              "      <td>3075.000000</td>\n",
              "      <td>3075.000000</td>\n",
              "      <td>3075.000000</td>\n",
              "      <td>3075.000000</td>\n",
              "      <td>3075.000000</td>\n",
              "      <td>3075.000000</td>\n",
              "      <td>3075.000000</td>\n",
              "    </tr>\n",
              "    <tr>\n",
              "      <th>mean</th>\n",
              "      <td>0.765595</td>\n",
              "      <td>0.094774</td>\n",
              "      <td>0.015703</td>\n",
              "      <td>0.013121</td>\n",
              "      <td>0.089487</td>\n",
              "      <td>0.000797</td>\n",
              "      <td>16.016878</td>\n",
              "      <td>22.153821</td>\n",
              "      <td>79.857333</td>\n",
              "      <td>9.895642</td>\n",
              "      <td>0.909626</td>\n",
              "      <td>3.018959</td>\n",
              "      <td>1.521854</td>\n",
              "      <td>4.798081</td>\n",
              "      <td>75.203187</td>\n",
              "      <td>16.743545</td>\n",
              "      <td>7.771089</td>\n",
              "      <td>0.283447</td>\n",
              "      <td>6.326407</td>\n",
              "      <td>0.653608</td>\n",
              "      <td>0.329154</td>\n",
              "      <td>9.977227</td>\n",
              "    </tr>\n",
              "    <tr>\n",
              "      <th>std</th>\n",
              "      <td>0.199056</td>\n",
              "      <td>0.139029</td>\n",
              "      <td>0.065532</td>\n",
              "      <td>0.026105</td>\n",
              "      <td>0.144267</td>\n",
              "      <td>0.003888</td>\n",
              "      <td>6.547258</td>\n",
              "      <td>10.308046</td>\n",
              "      <td>6.661486</td>\n",
              "      <td>2.901009</td>\n",
              "      <td>3.003669</td>\n",
              "      <td>2.875258</td>\n",
              "      <td>1.141899</td>\n",
              "      <td>3.088986</td>\n",
              "      <td>7.343466</td>\n",
              "      <td>5.963499</td>\n",
              "      <td>3.875747</td>\n",
              "      <td>0.453048</td>\n",
              "      <td>2.992911</td>\n",
              "      <td>0.159027</td>\n",
              "      <td>0.157901</td>\n",
              "      <td>32.134315</td>\n",
              "    </tr>\n",
              "    <tr>\n",
              "      <th>min</th>\n",
              "      <td>0.006900</td>\n",
              "      <td>0.000000</td>\n",
              "      <td>0.000000</td>\n",
              "      <td>0.000000</td>\n",
              "      <td>0.000000</td>\n",
              "      <td>0.000000</td>\n",
              "      <td>2.400000</td>\n",
              "      <td>0.000000</td>\n",
              "      <td>6.000000</td>\n",
              "      <td>0.000000</td>\n",
              "      <td>0.000000</td>\n",
              "      <td>0.000000</td>\n",
              "      <td>0.000000</td>\n",
              "      <td>0.000000</td>\n",
              "      <td>31.100000</td>\n",
              "      <td>4.400000</td>\n",
              "      <td>0.000000</td>\n",
              "      <td>0.000000</td>\n",
              "      <td>0.000000</td>\n",
              "      <td>0.088000</td>\n",
              "      <td>0.031000</td>\n",
              "      <td>0.007100</td>\n",
              "    </tr>\n",
              "    <tr>\n",
              "      <th>25%</th>\n",
              "      <td>0.648300</td>\n",
              "      <td>0.022200</td>\n",
              "      <td>0.001200</td>\n",
              "      <td>0.002800</td>\n",
              "      <td>0.006450</td>\n",
              "      <td>0.000000</td>\n",
              "      <td>11.400000</td>\n",
              "      <td>14.900000</td>\n",
              "      <td>77.400000</td>\n",
              "      <td>8.100000</td>\n",
              "      <td>0.100000</td>\n",
              "      <td>1.400000</td>\n",
              "      <td>0.800000</td>\n",
              "      <td>2.900000</td>\n",
              "      <td>71.800000</td>\n",
              "      <td>12.600000</td>\n",
              "      <td>5.200000</td>\n",
              "      <td>0.100000</td>\n",
              "      <td>4.400000</td>\n",
              "      <td>0.565000</td>\n",
              "      <td>0.208000</td>\n",
              "      <td>1.115350</td>\n",
              "    </tr>\n",
              "    <tr>\n",
              "      <th>50%</th>\n",
              "      <td>0.838500</td>\n",
              "      <td>0.042400</td>\n",
              "      <td>0.002800</td>\n",
              "      <td>0.006100</td>\n",
              "      <td>0.022000</td>\n",
              "      <td>0.000100</td>\n",
              "      <td>15.200000</td>\n",
              "      <td>21.200000</td>\n",
              "      <td>81.000000</td>\n",
              "      <td>9.500000</td>\n",
              "      <td>0.300000</td>\n",
              "      <td>2.200000</td>\n",
              "      <td>1.300000</td>\n",
              "      <td>4.100000</td>\n",
              "      <td>76.300000</td>\n",
              "      <td>15.700000</td>\n",
              "      <td>6.800000</td>\n",
              "      <td>0.200000</td>\n",
              "      <td>6.000000</td>\n",
              "      <td>0.686000</td>\n",
              "      <td>0.297000</td>\n",
              "      <td>2.581500</td>\n",
              "    </tr>\n",
              "    <tr>\n",
              "      <th>75%</th>\n",
              "      <td>0.925200</td>\n",
              "      <td>0.097950</td>\n",
              "      <td>0.006600</td>\n",
              "      <td>0.012600</td>\n",
              "      <td>0.099450</td>\n",
              "      <td>0.000600</td>\n",
              "      <td>19.450000</td>\n",
              "      <td>27.800000</td>\n",
              "      <td>84.000000</td>\n",
              "      <td>11.300000</td>\n",
              "      <td>0.700000</td>\n",
              "      <td>3.800000</td>\n",
              "      <td>1.900000</td>\n",
              "      <td>5.800000</td>\n",
              "      <td>80.300000</td>\n",
              "      <td>19.400000</td>\n",
              "      <td>9.200000</td>\n",
              "      <td>0.300000</td>\n",
              "      <td>7.800000</td>\n",
              "      <td>0.775500</td>\n",
              "      <td>0.418000</td>\n",
              "      <td>6.660800</td>\n",
              "    </tr>\n",
              "    <tr>\n",
              "      <th>max</th>\n",
              "      <td>1.000000</td>\n",
              "      <td>0.991700</td>\n",
              "      <td>0.901900</td>\n",
              "      <td>0.417300</td>\n",
              "      <td>0.872300</td>\n",
              "      <td>0.110800</td>\n",
              "      <td>52.000000</td>\n",
              "      <td>76.500000</td>\n",
              "      <td>97.200000</td>\n",
              "      <td>29.300000</td>\n",
              "      <td>61.800000</td>\n",
              "      <td>42.400000</td>\n",
              "      <td>13.800000</td>\n",
              "      <td>33.000000</td>\n",
              "      <td>88.800000</td>\n",
              "      <td>64.800000</td>\n",
              "      <td>38.000000</td>\n",
              "      <td>8.000000</td>\n",
              "      <td>28.700000</td>\n",
              "      <td>0.962000</td>\n",
              "      <td>0.896000</td>\n",
              "      <td>996.278900</td>\n",
              "    </tr>\n",
              "  </tbody>\n",
              "</table>\n",
              "</div>"
            ],
            "text/plain": [
              "       percent_white  ...  population_scaled\n",
              "count    3075.000000  ...        3075.000000\n",
              "mean        0.765595  ...           9.977227\n",
              "std         0.199056  ...          32.134315\n",
              "min         0.006900  ...           0.007100\n",
              "25%         0.648300  ...           1.115350\n",
              "50%         0.838500  ...           2.581500\n",
              "75%         0.925200  ...           6.660800\n",
              "max         1.000000  ...         996.278900\n",
              "\n",
              "[8 rows x 22 columns]"
            ]
          },
          "metadata": {
            "tags": []
          },
          "execution_count": 3
        }
      ]
    },
    {
      "cell_type": "code",
      "metadata": {
        "colab": {
          "base_uri": "https://localhost:8080/"
        },
        "id": "OT1yQCh-pTII",
        "outputId": "1a1057ed-e61a-4252-e8e8-0bc6361e9dd9"
      },
      "source": [
        "from sklearn.model_selection import train_test_split\n",
        "\n",
        "# Data normalization with sklearn\n",
        "from sklearn.preprocessing import MinMaxScaler\n",
        "\n",
        "# Fit scaler on training data\n",
        "#norm = MinMaxScaler().fit(X)\n",
        "\n",
        "X_train, X_test, y_train, y_test = train_test_split(X, y, random_state=1)\n",
        "min_max_scaler = MinMaxScaler()\n",
        "X_train_scaled = min_max_scaler.fit_transform(X_train)\n",
        "X_test_scaled = min_max_scaler.fit_transform(X_test)\n",
        "\n",
        "print(Counter(y_train))\n",
        "print(Counter(y_test))"
      ],
      "execution_count": 4,
      "outputs": [
        {
          "output_type": "stream",
          "text": [
            "Counter({'moderate hesitancy': 1641, 'low hesitancy': 380, 'high hesitancy': 285})\n",
            "Counter({'moderate hesitancy': 558, 'low hesitancy': 119, 'high hesitancy': 92})\n"
          ],
          "name": "stdout"
        }
      ]
    },
    {
      "cell_type": "markdown",
      "metadata": {
        "id": "GecP6PrZpTII"
      },
      "source": [
        "# Logistic Regression Model"
      ]
    },
    {
      "cell_type": "code",
      "metadata": {
        "colab": {
          "base_uri": "https://localhost:8080/"
        },
        "id": "064rjOWWpTIJ",
        "outputId": "52520778-35d7-4064-b244-09feb7f30137"
      },
      "source": [
        "# Import regression model\n",
        "from sklearn.linear_model import LogisticRegression\n",
        "\n",
        "# Instantiate the model (using the default parameters)\n",
        "logreg = LogisticRegression(solver='saga', random_state=1)\n",
        "\n",
        "# Fit the model with data\n",
        "logreg.fit(X_train_scaled, y_train)\n",
        "\n",
        "y_pred = logreg.predict(X_test_scaled)\n",
        "\n",
        "print(y_pred.shape)"
      ],
      "execution_count": 5,
      "outputs": [
        {
          "output_type": "stream",
          "text": [
            "(769,)\n"
          ],
          "name": "stdout"
        }
      ]
    },
    {
      "cell_type": "code",
      "metadata": {
        "colab": {
          "base_uri": "https://localhost:8080/"
        },
        "id": "E5f_WCzppTIJ",
        "outputId": "d2f5375f-8d30-4da8-9e1e-c2c677acf474"
      },
      "source": [
        "# Print coefficients\n",
        "print(logreg.coef_)"
      ],
      "execution_count": 6,
      "outputs": [
        {
          "output_type": "stream",
          "text": [
            "[[-1.46116916 -2.71613215  2.3557057  -0.82048813  3.44350512  0.12201343\n",
            "   2.40099358  0.21221037 -0.25618851 -0.03447955 -0.20576052  1.06750116\n",
            "   0.36998106 -0.48515967 -0.7451212  -0.04763786  1.04031555  0.82378446\n",
            "  -0.78715138  2.08258652 -2.66222262 -0.37468956]\n",
            " [ 0.85540673  1.27813883 -0.72966382  1.87757294 -3.0443312   0.5887336\n",
            "  -3.24053367 -0.83468015 -0.53588843  0.14563458  1.06780697 -1.43757283\n",
            "  -0.52564742  1.26891504 -0.0067022   0.6164534  -0.81629471 -0.82744478\n",
            "  -0.06506592 -2.92425815  2.61269498  0.03250821]\n",
            " [ 0.60576242  1.43799332 -1.62604188 -1.05708482 -0.39917392 -0.71074703\n",
            "   0.83954008  0.62246978  0.79207693 -0.11115503 -0.86204645  0.37007167\n",
            "   0.15566636 -0.78375537  0.7518234  -0.56881553 -0.22402084  0.00366031\n",
            "   0.8522173   0.84167163  0.04952764  0.34218135]]\n"
          ],
          "name": "stdout"
        }
      ]
    },
    {
      "cell_type": "code",
      "metadata": {
        "colab": {
          "base_uri": "https://localhost:8080/"
        },
        "id": "yLJeOWT8pTIK",
        "outputId": "c4e410d0-0941-495f-c675-6a3e03d73531"
      },
      "source": [
        "# Print intercept values\n",
        "print(logreg.intercept_)"
      ],
      "execution_count": 7,
      "outputs": [
        {
          "output_type": "stream",
          "text": [
            "[-0.26469261  1.3820545  -1.11736189]\n"
          ],
          "name": "stdout"
        }
      ]
    },
    {
      "cell_type": "code",
      "metadata": {
        "colab": {
          "base_uri": "https://localhost:8080/",
          "height": 282
        },
        "id": "oUmudK3qpTIK",
        "outputId": "582dca6f-16f0-43ef-c363-41d4575fdd3b"
      },
      "source": [
        "# Test model with predictions\n",
        "import matplotlib.pyplot as plt\n",
        "%matplotlib inline\n",
        "\n",
        "plt.scatter(y_test, y_pred)"
      ],
      "execution_count": 8,
      "outputs": [
        {
          "output_type": "execute_result",
          "data": {
            "text/plain": [
              "<matplotlib.collections.PathCollection at 0x7f52b8ab47d0>"
            ]
          },
          "metadata": {
            "tags": []
          },
          "execution_count": 8
        },
        {
          "output_type": "display_data",
          "data": {
            "image/png": "[encoded data removed]",
            "text/plain": [
              "<Figure size 432x288 with 1 Axes>"
            ]
          },
          "metadata": {
            "tags": [],
            "needs_background": "light"
          }
        }
      ]
    },
    {
      "cell_type": "code",
      "metadata": {
        "colab": {
          "base_uri": "https://localhost:8080/"
        },
        "id": "THGYPoU0pTIK",
        "outputId": "f9259497-82df-4b4f-fcac-d77b5abb9c77"
      },
      "source": [
        "# Import the metrics class\n",
        "from sklearn import metrics\n",
        "cnf_matrix = metrics.confusion_matrix(y_test, y_pred)\n",
        "cnf_matrix"
      ],
      "execution_count": 9,
      "outputs": [
        {
          "output_type": "execute_result",
          "data": {
            "text/plain": [
              "array([[ 18,   2,  72],\n",
              "       [  1,  46,  72],\n",
              "       [ 15,  13, 530]])"
            ]
          },
          "metadata": {
            "tags": []
          },
          "execution_count": 9
        }
      ]
    },
    {
      "cell_type": "code",
      "metadata": {
        "colab": {
          "base_uri": "https://localhost:8080/"
        },
        "id": "-rUTAM_DpTIL",
        "outputId": "2ec08140-60de-445d-c90f-8a824f6c10d5"
      },
      "source": [
        "# Print accuracy, precision, recall\n",
        "print(\"Accuracy:\",metrics.accuracy_score(y_test, y_pred))\n",
        "\n",
        "print(\"Precision:\",metrics.precision_score(y_test, y_pred,\n",
        "                                          average='micro'))\n",
        "\n",
        "print(\"Recall:\",metrics.recall_score(y_test, y_pred, \n",
        "                                     average='micro'))"
      ],
      "execution_count": 10,
      "outputs": [
        {
          "output_type": "stream",
          "text": [
            "Accuracy: 0.7724317295188556\n",
            "Precision: 0.7724317295188556\n",
            "Recall: 0.7724317295188556\n"
          ],
          "name": "stdout"
        }
      ]
    },
    {
      "cell_type": "code",
      "metadata": {
        "colab": {
          "base_uri": "https://localhost:8080/"
        },
        "id": "VclSJTBKpTIL",
        "outputId": "5b08e3c4-89e7-4379-ab6a-032791a8dc1a"
      },
      "source": [
        "# Print classification \n",
        "from imblearn.metrics import classification_report_imbalanced\n",
        "print(metrics.classification_report(y_test, y_pred))\n",
        "\n",
        "print(classification_report_imbalanced(y_test, y_pred))"
      ],
      "execution_count": 11,
      "outputs": [
        {
          "output_type": "stream",
          "text": [
            "                    precision    recall  f1-score   support\n",
            "\n",
            "    high hesitancy       0.53      0.20      0.29        92\n",
            "     low hesitancy       0.75      0.39      0.51       119\n",
            "moderate hesitancy       0.79      0.95      0.86       558\n",
            "\n",
            "          accuracy                           0.77       769\n",
            "         macro avg       0.69      0.51      0.55       769\n",
            "      weighted avg       0.75      0.77      0.74       769\n",
            "\n",
            "                          pre       rec       spe        f1       geo       iba       sup\n",
            "\n",
            "    high hesitancy       0.53      0.20      0.98      0.29      0.44      0.18        92\n",
            "     low hesitancy       0.75      0.39      0.98      0.51      0.61      0.36       119\n",
            "moderate hesitancy       0.79      0.95      0.32      0.86      0.55      0.32       558\n",
            "\n",
            "       avg / total       0.75      0.77      0.50      0.74      0.55      0.31       769\n",
            "\n"
          ],
          "name": "stdout"
        }
      ]
    },
    {
      "cell_type": "code",
      "metadata": {
        "colab": {
          "base_uri": "https://localhost:8080/",
          "height": 442
        },
        "id": "ePnwo7WhRX91",
        "outputId": "8838690c-2b28-4e4f-bc19-d309fcd0cfd5"
      },
      "source": [
        "# get importance\n",
        "importance = logreg.coef_\n",
        "print(importance)\n",
        "# summarize feature importance\n",
        "for i,v in enumerate(importance):\n",
        "\t  print('Feature: %0d, Score: %.5f' % (i,v))\n",
        "# plot feature importance\n",
        "pyplot.bar([x for x in range(len(importance))], importance)\n",
        "pyplot.show()"
      ],
      "execution_count": 73,
      "outputs": [
        {
          "output_type": "stream",
          "text": [
            "[[-1.46116916 -2.71613215  2.3557057  -0.82048813  3.44350512  0.12201343\n",
            "   2.40099358  0.21221037 -0.25618851 -0.03447955 -0.20576052  1.06750116\n",
            "   0.36998106 -0.48515967 -0.7451212  -0.04763786  1.04031555  0.82378446\n",
            "  -0.78715138  2.08258652 -2.66222262 -0.37468956]\n",
            " [ 0.85540673  1.27813883 -0.72966382  1.87757294 -3.0443312   0.5887336\n",
            "  -3.24053367 -0.83468015 -0.53588843  0.14563458  1.06780697 -1.43757283\n",
            "  -0.52564742  1.26891504 -0.0067022   0.6164534  -0.81629471 -0.82744478\n",
            "  -0.06506592 -2.92425815  2.61269498  0.03250821]\n",
            " [ 0.60576242  1.43799332 -1.62604188 -1.05708482 -0.39917392 -0.71074703\n",
            "   0.83954008  0.62246978  0.79207693 -0.11115503 -0.86204645  0.37007167\n",
            "   0.15566636 -0.78375537  0.7518234  -0.56881553 -0.22402084  0.00366031\n",
            "   0.8522173   0.84167163  0.04952764  0.34218135]]\n"
          ],
          "name": "stdout"
        },
        {
          "output_type": "error",
          "ename": "ValueError",
          "evalue": "ignored",
          "traceback": [
            "\u001b[0;31m---------------------------------------------------------------------------\u001b[0m",
            "\u001b[0;31mValueError\u001b[0m                                Traceback (most recent call last)",
            "\u001b[0;32m<ipython-input-73-7bc28691939c>\u001b[0m in \u001b[0;36m<module>\u001b[0;34m()\u001b[0m\n\u001b[1;32m      3\u001b[0m \u001b[0mprint\u001b[0m\u001b[0;34m(\u001b[0m\u001b[0mimportance\u001b[0m\u001b[0;34m)\u001b[0m\u001b[0;34m\u001b[0m\u001b[0;34m\u001b[0m\u001b[0m\n\u001b[1;32m      4\u001b[0m \u001b[0;31m# summarize feature importance\u001b[0m\u001b[0;34m\u001b[0m\u001b[0;34m\u001b[0m\u001b[0;34m\u001b[0m\u001b[0m\n\u001b[0;32m----> 5\u001b[0;31m \u001b[0;32mfor\u001b[0m \u001b[0mi\u001b[0m\u001b[0;34m,\u001b[0m\u001b[0mv\u001b[0m\u001b[0;34m,\u001b[0m\u001b[0md\u001b[0m \u001b[0;32min\u001b[0m \u001b[0menumerate\u001b[0m\u001b[0;34m(\u001b[0m\u001b[0mimportance\u001b[0m\u001b[0;34m)\u001b[0m\u001b[0;34m:\u001b[0m\u001b[0;34m\u001b[0m\u001b[0;34m\u001b[0m\u001b[0m\n\u001b[0m\u001b[1;32m      6\u001b[0m           \u001b[0mprint\u001b[0m\u001b[0;34m(\u001b[0m\u001b[0;34m'Feature: %0d, Score: %.5f'\u001b[0m \u001b[0;34m%\u001b[0m \u001b[0;34m(\u001b[0m\u001b[0mi\u001b[0m\u001b[0;34m,\u001b[0m\u001b[0mv\u001b[0m\u001b[0;34m,\u001b[0m\u001b[0md\u001b[0m\u001b[0;34m)\u001b[0m\u001b[0;34m)\u001b[0m\u001b[0;34m\u001b[0m\u001b[0;34m\u001b[0m\u001b[0m\n\u001b[1;32m      7\u001b[0m \u001b[0;31m# plot feature importance\u001b[0m\u001b[0;34m\u001b[0m\u001b[0;34m\u001b[0m\u001b[0;34m\u001b[0m\u001b[0m\n",
            "\u001b[0;31mValueError\u001b[0m: not enough values to unpack (expected 3, got 2)"
          ]
        }
      ]
    },
    {
      "cell_type": "code",
      "metadata": {
        "colab": {
          "base_uri": "https://localhost:8080/",
          "height": 1000
        },
        "id": "oTsPPUOIxJ-2",
        "outputId": "85ca1ee0-0226-48f9-f1eb-d3e483158ef2"
      },
      "source": [
        "from matplotlib import pyplot\n",
        "importance = logreg.coef_[0]\n",
        "for i,v in enumerate(importance):\n",
        "  print('Feature: %0d, Score: %.5f' % (i,v))\n",
        "  pyplot.bar([x for x in range(len(importance))], importance)\n",
        "  pyplot.show()"
      ],
      "execution_count": 95,
      "outputs": [
        {
          "output_type": "stream",
          "text": [
            "Feature: 0, Score: -1.46117\n"
          ],
          "name": "stdout"
        },
        {
          "output_type": "display_data",
          "data": {
            "image/png": "[encoded data removed]",
            "text/plain": [
              "<Figure size 432x288 with 1 Axes>"
            ]
          },
          "metadata": {
            "tags": [],
            "needs_background": "light"
          }
        },
        {
          "output_type": "stream",
          "text": [
            "Feature: 1, Score: -2.71613\n"
          ],
          "name": "stdout"
        },
        {
          "output_type": "display_data",
          "data": {
            "image/png": "[encoded data removed]",
            "text/plain": [
              "<Figure size 432x288 with 1 Axes>"
            ]
          },
          "metadata": {
            "tags": [],
            "needs_background": "light"
          }
        },
        {
          "output_type": "stream",
          "text": [
            "Feature: 2, Score: 2.35571\n"
          ],
          "name": "stdout"
        },
        {
          "output_type": "display_data",
          "data": {
            "image/png": "[encoded data removed]",
            "text/plain": [
              "<Figure size 432x288 with 1 Axes>"
            ]
          },
          "metadata": {
            "tags": [],
            "needs_background": "light"
          }
        },
        {
          "output_type": "stream",
          "text": [
            "Feature: 3, Score: -0.82049\n"
          ],
          "name": "stdout"
        },
        {
          "output_type": "display_data",
          "data": {
            "image/png": "[encoded data removed]",
            "text/plain": [
              "<Figure size 432x288 with 1 Axes>"
            ]
          },
          "metadata": {
            "tags": [],
            "needs_background": "light"
          }
        },
        {
          "output_type": "stream",
          "text": [
            "Feature: 4, Score: 3.44351\n"
          ],
          "name": "stdout"
        },
        {
          "output_type": "display_data",
          "data": {
            "image/png": "[encoded data removed]",
            "text/plain": [
              "<Figure size 432x288 with 1 Axes>"
            ]
          },
          "metadata": {
            "tags": [],
            "needs_background": "light"
          }
        },
        {
          "output_type": "stream",
          "text": [
            "Feature: 5, Score: 0.12201\n"
          ],
          "name": "stdout"
        },
        {
          "output_type": "display_data",
          "data": {
            "image/png": "[encoded data removed]",
            "text/plain": [
              "<Figure size 432x288 with 1 Axes>"
            ]
          },
          "metadata": {
            "tags": [],
            "needs_background": "light"
          }
        },
        {
          "output_type": "stream",
          "text": [
            "Feature: 6, Score: 2.40099\n"
          ],
          "name": "stdout"
        },
        {
          "output_type": "display_data",
          "data": {
            "image/png": "[encoded data removed]",
            "text/plain": [
              "<Figure size 432x288 with 1 Axes>"
            ]
          },
          "metadata": {
            "tags": [],
            "needs_background": "light"
          }
        },
        {
          "output_type": "stream",
          "text": [
            "Feature: 7, Score: 0.21221\n"
          ],
          "name": "stdout"
        },
        {
          "output_type": "display_data",
          "data": {
            "image/png": "[encoded data removed]",
            "text/plain": [
              "<Figure size 432x288 with 1 Axes>"
            ]
          },
          "metadata": {
            "tags": [],
            "needs_background": "light"
          }
        },
        {
          "output_type": "stream",
          "text": [
            "Feature: 8, Score: -0.25619\n"
          ],
          "name": "stdout"
        },
        {
          "output_type": "display_data",
          "data": {
            "image/png": "[encoded data removed]",
            "text/plain": [
              "<Figure size 432x288 with 1 Axes>"
            ]
          },
          "metadata": {
            "tags": [],
            "needs_background": "light"
          }
        },
        {
          "output_type": "stream",
          "text": [
            "Feature: 9, Score: -0.03448\n"
          ],
          "name": "stdout"
        },
        {
          "output_type": "display_data",
          "data": {
            "image/png": "[encoded data removed]",
            "text/plain": [
              "<Figure size 432x288 with 1 Axes>"
            ]
          },
          "metadata": {
            "tags": [],
            "needs_background": "light"
          }
        },
        {
          "output_type": "stream",
          "text": [
            "Feature: 10, Score: -0.20576\n"
          ],
          "name": "stdout"
        },
        {
          "output_type": "display_data",
          "data": {
            "image/png": "[encoded data removed]",
            "text/plain": [
              "<Figure size 432x288 with 1 Axes>"
            ]
          },
          "metadata": {
            "tags": [],
            "needs_background": "light"
          }
        },
        {
          "output_type": "stream",
          "text": [
            "Feature: 11, Score: 1.06750\n"
          ],
          "name": "stdout"
        },
        {
          "output_type": "display_data",
          "data": {
            "image/png": "[encoded data removed]",
            "text/plain": [
              "<Figure size 432x288 with 1 Axes>"
            ]
          },
          "metadata": {
            "tags": [],
            "needs_background": "light"
          }
        },
        {
          "output_type": "stream",
          "text": [
            "Feature: 12, Score: 0.36998\n"
          ],
          "name": "stdout"
        },
        {
          "output_type": "display_data",
          "data": {
            "image/png": "[encoded data removed]",
            "text/plain": [
              "<Figure size 432x288 with 1 Axes>"
            ]
          },
          "metadata": {
            "tags": [],
            "needs_background": "light"
          }
        },
        {
          "output_type": "stream",
          "text": [
            "Feature: 13, Score: -0.48516\n"
          ],
          "name": "stdout"
        },
        {
          "output_type": "display_data",
          "data": {
            "image/png": "[encoded data removed]",
            "text/plain": [
              "<Figure size 432x288 with 1 Axes>"
            ]
          },
          "metadata": {
            "tags": [],
            "needs_background": "light"
          }
        },
        {
          "output_type": "stream",
          "text": [
            "Feature: 14, Score: -0.74512\n"
          ],
          "name": "stdout"
        },
        {
          "output_type": "display_data",
          "data": {
            "image/png": "[encoded data removed]",
            "text/plain": [
              "<Figure size 432x288 with 1 Axes>"
            ]
          },
          "metadata": {
            "tags": [],
            "needs_background": "light"
          }
        },
        {
          "output_type": "stream",
          "text": [
            "Feature: 15, Score: -0.04764\n"
          ],
          "name": "stdout"
        },
        {
          "output_type": "display_data",
          "data": {
            "image/png": "[encoded data removed]",
            "text/plain": [
              "<Figure size 432x288 with 1 Axes>"
            ]
          },
          "metadata": {
            "tags": [],
            "needs_background": "light"
          }
        },
        {
          "output_type": "stream",
          "text": [
            "Feature: 16, Score: 1.04032\n"
          ],
          "name": "stdout"
        },
        {
          "output_type": "display_data",
          "data": {
            "image/png": "[encoded data removed]",
            "text/plain": [
              "<Figure size 432x288 with 1 Axes>"
            ]
          },
          "metadata": {
            "tags": [],
            "needs_background": "light"
          }
        },
        {
          "output_type": "stream",
          "text": [
            "Feature: 17, Score: 0.82378\n"
          ],
          "name": "stdout"
        },
        {
          "output_type": "display_data",
          "data": {
            "image/png": "[encoded data removed]",
            "text/plain": [
              "<Figure size 432x288 with 1 Axes>"
            ]
          },
          "metadata": {
            "tags": [],
            "needs_background": "light"
          }
        },
        {
          "output_type": "stream",
          "text": [
            "Feature: 18, Score: -0.78715\n"
          ],
          "name": "stdout"
        },
        {
          "output_type": "display_data",
          "data": {
            "image/png": "[encoded data removed]",
            "text/plain": [
              "<Figure size 432x288 with 1 Axes>"
            ]
          },
          "metadata": {
            "tags": [],
            "needs_background": "light"
          }
        },
        {
          "output_type": "stream",
          "text": [
            "Feature: 19, Score: 2.08259\n"
          ],
          "name": "stdout"
        },
        {
          "output_type": "display_data",
          "data": {
            "image/png": "[encoded data removed]",
            "text/plain": [
              "<Figure size 432x288 with 1 Axes>"
            ]
          },
          "metadata": {
            "tags": [],
            "needs_background": "light"
          }
        },
        {
          "output_type": "stream",
          "text": [
            "Feature: 20, Score: -2.66222\n"
          ],
          "name": "stdout"
        },
        {
          "output_type": "display_data",
          "data": {
            "image/png": "[encoded data removed]",
            "text/plain": [
              "<Figure size 432x288 with 1 Axes>"
            ]
          },
          "metadata": {
            "tags": [],
            "needs_background": "light"
          }
        },
        {
          "output_type": "stream",
          "text": [
            "Feature: 21, Score: -0.37469\n"
          ],
          "name": "stdout"
        },
        {
          "output_type": "display_data",
          "data": {
            "image/png": "[encoded data removed]",
            "text/plain": [
              "<Figure size 432x288 with 1 Axes>"
            ]
          },
          "metadata": {
            "tags": [],
            "needs_background": "light"
          }
        }
      ]
    },
    {
      "cell_type": "code",
      "metadata": {
        "colab": {
          "base_uri": "https://localhost:8080/"
        },
        "id": "21u_ktug96d0",
        "outputId": "63d35e2c-b558-4cda-d9cb-1973f5091822"
      },
      "source": [
        "np.round(logreg.coef_,decimals=2) > 0\n",
        "X.columns"
      ],
      "execution_count": 118,
      "outputs": [
        {
          "output_type": "execute_result",
          "data": {
            "text/plain": [
              "Index(['percent_white', 'percent_hispanic',\n",
              "       'percent_american_indian_alaska_native', 'percent_asian',\n",
              "       'percent_black', 'percent_hawaiian_pacific', 'Poverty', 'ChildPoverty',\n",
              "       'Drive', 'Carpool', 'Transit', 'Walk', 'OtherTransp', 'WorkAtHome',\n",
              "       'PrivateWork', 'PublicWork', 'SelfEmployed', 'FamilyWork',\n",
              "       'Unemployment', 'percentage20_Donald_Trump', 'percentage20_Joe_Biden',\n",
              "       'population_scaled'],\n",
              "      dtype='object')"
            ]
          },
          "metadata": {
            "tags": []
          },
          "execution_count": 118
        }
      ]
    },
    {
      "cell_type": "code",
      "metadata": {
        "colab": {
          "base_uri": "https://localhost:8080/"
        },
        "id": "sS1biM342OUj",
        "outputId": "fa9790f3-498f-46cc-c655-8363e4e39284"
      },
      "source": [
        "from sklearn.feature_selection import RFE\n",
        "predictors = X_train_scaled\n",
        "selector = RFE(logreg, n_features_to_select = 1)\n",
        "selector = selector.fit(predictors, y_train)\n",
        "order = selector.ranking_\n",
        "print(order)\n",
        "feature_ranks = []\n",
        "for i in order:\n",
        "  feature_ranks.append(f\"{i}. {filtered_county_data_df.columns[i]}\")\n",
        "\n",
        "feature_ranks"
      ],
      "execution_count": 124,
      "outputs": [
        {
          "output_type": "stream",
          "text": [
            "[10  9  4  6  3 18  1 16 17 22 12  7 20  8 13 19 11 14 15  5  2 21]\n"
          ],
          "name": "stdout"
        },
        {
          "output_type": "execute_result",
          "data": {
            "text/plain": [
              "['10. Hispanic',\n",
              " '9. Women',\n",
              " '4. percent_black',\n",
              " '6. percent_white',\n",
              " '3. percent_asian',\n",
              " '18. IncomeErr',\n",
              " '1. percent_hispanic',\n",
              " '16. VotingAgeCitizen',\n",
              " '17. Income',\n",
              " '22. ChildPoverty',\n",
              " '12. Black',\n",
              " '7. TotalPop',\n",
              " '20. IncomePerCapErr',\n",
              " '8. Men',\n",
              " '13. Native',\n",
              " '19. IncomePerCap',\n",
              " '11. White',\n",
              " '14. Asian',\n",
              " '15. Pacific',\n",
              " '5. percent_hawaiian_pacific',\n",
              " '2. percent_american_indian_alaska_native',\n",
              " '21. Poverty']"
            ]
          },
          "metadata": {
            "tags": []
          },
          "execution_count": 124
        }
      ]
    },
    {
      "cell_type": "code",
      "metadata": {
        "colab": {
          "base_uri": "https://localhost:8080/"
        },
        "id": "ELlPU7Eg8jnl",
        "outputId": "c02e4730-06f8-40f1-9590-f48efbf0edb5"
      },
      "source": [
        "from sklearn.feature_selection import SelectFromModel\n",
        "smf=SelectFromModel(logreg, threshold=-np.inf, max_features=22)\n",
        "smf.fit(X_train, y_train)\n",
        "feature_idx = smf.get_support()\n",
        "feature_name = X.columns[feature_idx]\n",
        "feature_name"
      ],
      "execution_count": 119,
      "outputs": [
        {
          "output_type": "stream",
          "text": [
            "/usr/local/lib/python3.7/dist-packages/sklearn/linear_model/_sag.py:329: ConvergenceWarning: The max_iter was reached which means the coef_ did not converge\n",
            "  \"the coef_ did not converge\", ConvergenceWarning)\n"
          ],
          "name": "stderr"
        },
        {
          "output_type": "execute_result",
          "data": {
            "text/plain": [
              "Index(['percent_white', 'percent_hispanic',\n",
              "       'percent_american_indian_alaska_native', 'percent_asian',\n",
              "       'percent_black', 'percent_hawaiian_pacific', 'Poverty', 'ChildPoverty',\n",
              "       'Drive', 'Carpool', 'Transit', 'Walk', 'OtherTransp', 'WorkAtHome',\n",
              "       'PrivateWork', 'PublicWork', 'SelfEmployed', 'FamilyWork',\n",
              "       'Unemployment', 'percentage20_Donald_Trump', 'percentage20_Joe_Biden',\n",
              "       'population_scaled'],\n",
              "      dtype='object')"
            ]
          },
          "metadata": {
            "tags": []
          },
          "execution_count": 119
        }
      ]
    },
    {
      "cell_type": "markdown",
      "metadata": {
        "id": "wkQ5RrnbpTIL"
      },
      "source": [
        "# Oversampling"
      ]
    },
    {
      "cell_type": "markdown",
      "metadata": {
        "id": "o5650MS3pTIM"
      },
      "source": [
        "### Naive Random Oversampling"
      ]
    },
    {
      "cell_type": "code",
      "metadata": {
        "colab": {
          "base_uri": "https://localhost:8080/"
        },
        "id": "vr1YQ0SXpTIM",
        "outputId": "9c97e23d-6c25-43be-815c-bb91423bd7ab"
      },
      "source": [
        "# Resample the training data with the RandomOversampler\n",
        "from imblearn.over_sampling import RandomOverSampler\n",
        "ros = RandomOverSampler(random_state=1)\n",
        "X_resampled, y_resampled = ros.fit_resample(X_train, y_train)\n",
        "Counter(y_resampled)"
      ],
      "execution_count": 12,
      "outputs": [
        {
          "output_type": "execute_result",
          "data": {
            "text/plain": [
              "Counter({'high hesitancy': 1641,\n",
              "         'low hesitancy': 1641,\n",
              "         'moderate hesitancy': 1641})"
            ]
          },
          "metadata": {
            "tags": []
          },
          "execution_count": 12
        }
      ]
    },
    {
      "cell_type": "code",
      "metadata": {
        "colab": {
          "base_uri": "https://localhost:8080/"
        },
        "id": "y20FqBBopTIM",
        "outputId": "78c3b023-4a04-4a86-86e0-ed493f44be06"
      },
      "source": [
        "# Train the Logistic Regression model using the resampled data\n",
        "#from sklearn.linear_model import LogisticRegression\n",
        "model = LogisticRegression(solver='saga', random_state=1)\n",
        "model.fit(X_resampled, y_resampled)"
      ],
      "execution_count": 13,
      "outputs": [
        {
          "output_type": "stream",
          "text": [
            "/usr/local/lib/python3.7/dist-packages/sklearn/linear_model/_sag.py:329: ConvergenceWarning: The max_iter was reached which means the coef_ did not converge\n",
            "  \"the coef_ did not converge\", ConvergenceWarning)\n"
          ],
          "name": "stderr"
        },
        {
          "output_type": "execute_result",
          "data": {
            "text/plain": [
              "LogisticRegression(random_state=1, solver='saga')"
            ]
          },
          "metadata": {
            "tags": []
          },
          "execution_count": 13
        }
      ]
    },
    {
      "cell_type": "code",
      "metadata": {
        "colab": {
          "base_uri": "https://localhost:8080/"
        },
        "id": "fiDcoYi_pTIN",
        "outputId": "4fede81c-9fc3-4737-fc77-5ecc35ef6ac4"
      },
      "source": [
        "# Calculated the balanced accuracy score\n",
        "from sklearn.metrics import balanced_accuracy_score\n",
        "balanced_accuracy_score(y_test, y_pred)"
      ],
      "execution_count": 15,
      "outputs": [
        {
          "output_type": "execute_result",
          "data": {
            "text/plain": [
              "0.5106758614307497"
            ]
          },
          "metadata": {
            "tags": []
          },
          "execution_count": 15
        }
      ]
    },
    {
      "cell_type": "code",
      "metadata": {
        "colab": {
          "base_uri": "https://localhost:8080/"
        },
        "id": "0qIJqx8jpTIN",
        "outputId": "51261fec-674d-4f49-d521-d74152a4de71"
      },
      "source": [
        "# Display the confusion matrix\n",
        "from sklearn.metrics import confusion_matrix\n",
        "y_pred = model.predict(X_test)\n",
        "confusion_matrix(y_test, y_pred)"
      ],
      "execution_count": 17,
      "outputs": [
        {
          "output_type": "execute_result",
          "data": {
            "text/plain": [
              "array([[ 61,  15,  16],\n",
              "       [ 14,  75,  30],\n",
              "       [188, 110, 260]])"
            ]
          },
          "metadata": {
            "tags": []
          },
          "execution_count": 17
        }
      ]
    },
    {
      "cell_type": "code",
      "metadata": {
        "colab": {
          "base_uri": "https://localhost:8080/"
        },
        "id": "bxbe7T-wpTIN",
        "outputId": "869bdbb2-f0f8-4e3e-e703-b75ebbc376a7"
      },
      "source": [
        "# Print the imbalanced classification report\n",
        "#from imblearn.metrics import classification_report_imbalanced\n",
        "print(classification_report_imbalanced(y_test, y_pred))"
      ],
      "execution_count": 18,
      "outputs": [
        {
          "output_type": "stream",
          "text": [
            "                          pre       rec       spe        f1       geo       iba       sup\n",
            "\n",
            "    high hesitancy       0.23      0.66      0.70      0.34      0.68      0.46        92\n",
            "     low hesitancy       0.38      0.63      0.81      0.47      0.71      0.50       119\n",
            "moderate hesitancy       0.85      0.47      0.78      0.60      0.60      0.35       558\n",
            "\n",
            "       avg / total       0.70      0.51      0.78      0.55      0.63      0.39       769\n",
            "\n"
          ],
          "name": "stdout"
        }
      ]
    },
    {
      "cell_type": "markdown",
      "metadata": {
        "id": "7EvX6awXpTIO"
      },
      "source": [
        "### SMOTE Oversampling"
      ]
    },
    {
      "cell_type": "code",
      "metadata": {
        "colab": {
          "base_uri": "https://localhost:8080/"
        },
        "id": "IEWXNc9ppTIO",
        "outputId": "5c04ded7-5615-41d5-acde-63fcf2fb827f"
      },
      "source": [
        "# Resample the training data with SMOTE\n",
        "from imblearn.over_sampling import SMOTE\n",
        "X_resampled, y_resampled = SMOTE(random_state=1,\n",
        "sampling_strategy='auto').fit_resample(\n",
        "   X_train, y_train)\n",
        "Counter(y_resampled)"
      ],
      "execution_count": 19,
      "outputs": [
        {
          "output_type": "execute_result",
          "data": {
            "text/plain": [
              "Counter({'high hesitancy': 1641,\n",
              "         'low hesitancy': 1641,\n",
              "         'moderate hesitancy': 1641})"
            ]
          },
          "metadata": {
            "tags": []
          },
          "execution_count": 19
        }
      ]
    },
    {
      "cell_type": "code",
      "metadata": {
        "colab": {
          "base_uri": "https://localhost:8080/"
        },
        "id": "e90gv0vvpTIO",
        "outputId": "b28324f4-e998-40d6-8c50-1f462d9a0900"
      },
      "source": [
        "# Train the Logistic Regression model using the resampled data\n",
        "model = LogisticRegression(solver='lbfgs', random_state=1)\n",
        "model.fit(X_resampled, y_resampled)"
      ],
      "execution_count": 20,
      "outputs": [
        {
          "output_type": "stream",
          "text": [
            "/usr/local/lib/python3.7/dist-packages/sklearn/linear_model/_logistic.py:765: ConvergenceWarning: lbfgs failed to converge (status=1):\n",
            "STOP: TOTAL NO. of ITERATIONS REACHED LIMIT.\n",
            "\n",
            "Increase the number of iterations (max_iter) or scale the data as shown in:\n",
            "    https://scikit-learn.org/stable/modules/preprocessing.html\n",
            "Please also refer to the documentation for alternative solver options:\n",
            "    https://scikit-learn.org/stable/modules/linear_model.html#logistic-regression\n",
            "  extra_warning_msg=_LOGISTIC_SOLVER_CONVERGENCE_MSG)\n"
          ],
          "name": "stderr"
        },
        {
          "output_type": "execute_result",
          "data": {
            "text/plain": [
              "LogisticRegression(random_state=1)"
            ]
          },
          "metadata": {
            "tags": []
          },
          "execution_count": 20
        }
      ]
    },
    {
      "cell_type": "code",
      "metadata": {
        "colab": {
          "base_uri": "https://localhost:8080/"
        },
        "id": "S114DksbpTIP",
        "outputId": "aad0a259-c715-4222-80c5-4376b513724c"
      },
      "source": [
        "# Calculated the balanced accuracy score\n",
        "y_pred = model.predict(X_test)\n",
        "balanced_accuracy_score(y_test, y_pred)"
      ],
      "execution_count": 21,
      "outputs": [
        {
          "output_type": "execute_result",
          "data": {
            "text/plain": [
              "0.5980611505939449"
            ]
          },
          "metadata": {
            "tags": []
          },
          "execution_count": 21
        }
      ]
    },
    {
      "cell_type": "code",
      "metadata": {
        "colab": {
          "base_uri": "https://localhost:8080/"
        },
        "id": "L-NINLGEpTIP",
        "outputId": "654887b5-84b0-420d-b0d6-bcadbb387391"
      },
      "source": [
        "# Display the confusion matrix\n",
        "confusion_matrix(y_test, y_pred)"
      ],
      "execution_count": 22,
      "outputs": [
        {
          "output_type": "execute_result",
          "data": {
            "text/plain": [
              "array([[ 57,  14,  21],\n",
              "       [ 14,  79,  26],\n",
              "       [176,  97, 285]])"
            ]
          },
          "metadata": {
            "tags": []
          },
          "execution_count": 22
        }
      ]
    },
    {
      "cell_type": "code",
      "metadata": {
        "colab": {
          "base_uri": "https://localhost:8080/"
        },
        "id": "po6g_8L6pTIP",
        "outputId": "6acb3d19-ff3d-4e41-8d02-c338f5061f50"
      },
      "source": [
        "# Print the imbalanced classification report\n",
        "print(classification_report_imbalanced(y_test, y_pred))"
      ],
      "execution_count": 23,
      "outputs": [
        {
          "output_type": "stream",
          "text": [
            "                          pre       rec       spe        f1       geo       iba       sup\n",
            "\n",
            "    high hesitancy       0.23      0.62      0.72      0.34      0.67      0.44        92\n",
            "     low hesitancy       0.42      0.66      0.83      0.51      0.74      0.54       119\n",
            "moderate hesitancy       0.86      0.51      0.78      0.64      0.63      0.39       558\n",
            "\n",
            "       avg / total       0.71      0.55      0.78      0.58      0.65      0.42       769\n",
            "\n"
          ],
          "name": "stdout"
        }
      ]
    },
    {
      "cell_type": "markdown",
      "metadata": {
        "id": "Q8fSN-dlpTIP"
      },
      "source": [
        "# Undersampling"
      ]
    },
    {
      "cell_type": "code",
      "metadata": {
        "colab": {
          "base_uri": "https://localhost:8080/"
        },
        "id": "N-N79XhDpTIQ",
        "outputId": "1f6f79a3-1431-4da7-fb37-a772ee3a1aed"
      },
      "source": [
        "# Resample the data using the ClusterCentroids resampler\n",
        "from imblearn.under_sampling import ClusterCentroids\n",
        "cc = ClusterCentroids(random_state=1)\n",
        "X_resampled, y_resampled = cc.fit_resample(X_train, y_train)\n",
        "Counter(y_resampled)"
      ],
      "execution_count": 24,
      "outputs": [
        {
          "output_type": "execute_result",
          "data": {
            "text/plain": [
              "Counter({'high hesitancy': 285,\n",
              "         'low hesitancy': 285,\n",
              "         'moderate hesitancy': 285})"
            ]
          },
          "metadata": {
            "tags": []
          },
          "execution_count": 24
        }
      ]
    },
    {
      "cell_type": "code",
      "metadata": {
        "colab": {
          "base_uri": "https://localhost:8080/"
        },
        "id": "8qvO9EOGpTIQ",
        "outputId": "d9901e4e-96bc-4f1c-92c6-073d43c667a5"
      },
      "source": [
        "# Train the Logistic Regression model using the resampled data\n",
        "#from sklearn.linear_model import LogisticRegression\n",
        "model = LogisticRegression(solver='saga', random_state=1)\n",
        "model.fit(X_resampled, y_resampled)"
      ],
      "execution_count": 25,
      "outputs": [
        {
          "output_type": "stream",
          "text": [
            "/usr/local/lib/python3.7/dist-packages/sklearn/linear_model/_sag.py:329: ConvergenceWarning: The max_iter was reached which means the coef_ did not converge\n",
            "  \"the coef_ did not converge\", ConvergenceWarning)\n"
          ],
          "name": "stderr"
        },
        {
          "output_type": "execute_result",
          "data": {
            "text/plain": [
              "LogisticRegression(random_state=1, solver='saga')"
            ]
          },
          "metadata": {
            "tags": []
          },
          "execution_count": 25
        }
      ]
    },
    {
      "cell_type": "code",
      "metadata": {
        "colab": {
          "base_uri": "https://localhost:8080/"
        },
        "id": "Yo8TFMw6pTIR",
        "outputId": "eb1b0854-4547-43af-9709-ef744662ddeb"
      },
      "source": [
        "# Calculated the balanced accuracy score\n",
        "#from sklearn.metrics import balanced_accuracy_score\n",
        "balanced_accuracy_score(y_test, y_pred)"
      ],
      "execution_count": 26,
      "outputs": [
        {
          "output_type": "execute_result",
          "data": {
            "text/plain": [
              "0.5980611505939449"
            ]
          },
          "metadata": {
            "tags": []
          },
          "execution_count": 26
        }
      ]
    },
    {
      "cell_type": "code",
      "metadata": {
        "colab": {
          "base_uri": "https://localhost:8080/"
        },
        "id": "t4VWbX8epTIR",
        "outputId": "9dbe0fc2-fa32-4133-8f8c-b57a4277925b"
      },
      "source": [
        "# Display the confusion matrix\n",
        "#from sklearn.metrics import confusion_matrix\n",
        "y_pred = model.predict(X_test)\n",
        "confusion_matrix(y_test, y_pred)"
      ],
      "execution_count": 27,
      "outputs": [
        {
          "output_type": "execute_result",
          "data": {
            "text/plain": [
              "array([[ 70,  11,  11],\n",
              "       [ 19,  79,  21],\n",
              "       [319, 172,  67]])"
            ]
          },
          "metadata": {
            "tags": []
          },
          "execution_count": 27
        }
      ]
    },
    {
      "cell_type": "code",
      "metadata": {
        "colab": {
          "base_uri": "https://localhost:8080/"
        },
        "id": "f5FdnVXwpTIR",
        "outputId": "6d77cb2b-8834-4f2a-b60a-124bac119e9d"
      },
      "source": [
        "# Print the imbalanced classification report\n",
        "#from imblearn.metrics import classification_report_imbalanced\n",
        "print(classification_report_imbalanced(y_test, y_pred))"
      ],
      "execution_count": 28,
      "outputs": [
        {
          "output_type": "stream",
          "text": [
            "                          pre       rec       spe        f1       geo       iba       sup\n",
            "\n",
            "    high hesitancy       0.17      0.76      0.50      0.28      0.62      0.39        92\n",
            "     low hesitancy       0.30      0.66      0.72      0.41      0.69      0.47       119\n",
            "moderate hesitancy       0.68      0.12      0.85      0.20      0.32      0.09       558\n",
            "\n",
            "       avg / total       0.56      0.28      0.79      0.25      0.41      0.19       769\n",
            "\n"
          ],
          "name": "stdout"
        }
      ]
    },
    {
      "cell_type": "markdown",
      "metadata": {
        "id": "qorZVeOlpTIS"
      },
      "source": [
        "# Combination (Over and Under) Sampling"
      ]
    },
    {
      "cell_type": "code",
      "metadata": {
        "colab": {
          "base_uri": "https://localhost:8080/"
        },
        "id": "E8PxrYBNpTIS",
        "outputId": "a8d410b0-364b-4a7a-d331-7933647dac64"
      },
      "source": [
        "# Resample the training data with SMOTEENN\n",
        "from imblearn.combine import SMOTEENN\n",
        "smote_enn = SMOTEENN(random_state=0)\n",
        "X_resampled, y_resampled = smote_enn.fit_resample(X, y)\n",
        "Counter(y_resampled)"
      ],
      "execution_count": 29,
      "outputs": [
        {
          "output_type": "execute_result",
          "data": {
            "text/plain": [
              "Counter({'high hesitancy': 2063,\n",
              "         'low hesitancy': 2034,\n",
              "         'moderate hesitancy': 826})"
            ]
          },
          "metadata": {
            "tags": []
          },
          "execution_count": 29
        }
      ]
    },
    {
      "cell_type": "code",
      "metadata": {
        "colab": {
          "base_uri": "https://localhost:8080/"
        },
        "id": "FfxmBmDFpTIT",
        "outputId": "5da5caa0-940d-4e7c-ca28-09d696c47bfd"
      },
      "source": [
        "# Train the Logistic Regression model using the resampled data\n",
        "#from sklearn.linear_model import LogisticRegression\n",
        "model = LogisticRegression(solver='saga', random_state=1)\n",
        "model.fit(X_resampled, y_resampled)"
      ],
      "execution_count": 30,
      "outputs": [
        {
          "output_type": "stream",
          "text": [
            "/usr/local/lib/python3.7/dist-packages/sklearn/linear_model/_sag.py:329: ConvergenceWarning: The max_iter was reached which means the coef_ did not converge\n",
            "  \"the coef_ did not converge\", ConvergenceWarning)\n"
          ],
          "name": "stderr"
        },
        {
          "output_type": "execute_result",
          "data": {
            "text/plain": [
              "LogisticRegression(random_state=1, solver='saga')"
            ]
          },
          "metadata": {
            "tags": []
          },
          "execution_count": 30
        }
      ]
    },
    {
      "cell_type": "code",
      "metadata": {
        "colab": {
          "base_uri": "https://localhost:8080/"
        },
        "id": "-imwKxn9pTIT",
        "outputId": "31020d59-234d-4704-8a71-14776ff84242"
      },
      "source": [
        "# Calculated the balanced accuracy score\n",
        "#from sklearn.metrics import balanced_accuracy_score\n",
        "balanced_accuracy_score(y_test, y_pred)"
      ],
      "execution_count": 32,
      "outputs": [
        {
          "output_type": "execute_result",
          "data": {
            "text/plain": [
              "0.5149355986745642"
            ]
          },
          "metadata": {
            "tags": []
          },
          "execution_count": 32
        }
      ]
    },
    {
      "cell_type": "code",
      "metadata": {
        "colab": {
          "base_uri": "https://localhost:8080/"
        },
        "id": "KocMxf6ZpTIT",
        "outputId": "ad3ff0e1-711a-48bd-ef23-7b3233f4b35a"
      },
      "source": [
        "# Display the confusion matrix\n",
        "#from sklearn.metrics import confusion_matrix\n",
        "y_pred = model.predict(X_test)\n",
        "confusion_matrix(y_test, y_pred)"
      ],
      "execution_count": 33,
      "outputs": [
        {
          "output_type": "execute_result",
          "data": {
            "text/plain": [
              "array([[ 72,  17,   3],\n",
              "       [ 17,  99,   3],\n",
              "       [314, 178,  66]])"
            ]
          },
          "metadata": {
            "tags": []
          },
          "execution_count": 33
        }
      ]
    },
    {
      "cell_type": "code",
      "metadata": {
        "colab": {
          "base_uri": "https://localhost:8080/"
        },
        "id": "HHrp1w4NpTIU",
        "outputId": "2e9d28a6-8855-4d2e-ca0d-6c0742b08497"
      },
      "source": [
        "# Print the imbalanced classification report\n",
        "#from imblearn.metrics import classification_report_imbalanced\n",
        "print(classification_report_imbalanced(y_test, y_pred))"
      ],
      "execution_count": 34,
      "outputs": [
        {
          "output_type": "stream",
          "text": [
            "                          pre       rec       spe        f1       geo       iba       sup\n",
            "\n",
            "    high hesitancy       0.18      0.78      0.51      0.29      0.63      0.41        92\n",
            "     low hesitancy       0.34      0.83      0.70      0.48      0.76      0.59       119\n",
            "moderate hesitancy       0.92      0.12      0.97      0.21      0.34      0.11       558\n",
            "\n",
            "       avg / total       0.74      0.31      0.87      0.26      0.44      0.22       769\n",
            "\n"
          ],
          "name": "stdout"
        }
      ]
    },
    {
      "cell_type": "markdown",
      "metadata": {
        "id": "UzvF-QTF9bPQ"
      },
      "source": [
        "# Balanced Random Forest Classifier"
      ]
    },
    {
      "cell_type": "code",
      "metadata": {
        "id": "_kpdWv5i98ZB"
      },
      "source": [
        "np.random.seed(42)\n",
        "#Specific to Google Collab to ensure the BalancedRandomForestClassifier is working\n",
        "!pip install -Iv imblearn==0.0"
      ],
      "execution_count": null,
      "outputs": []
    },
    {
      "cell_type": "code",
      "metadata": {
        "colab": {
          "base_uri": "https://localhost:8080/"
        },
        "id": "g5Rhcccm9F6f",
        "outputId": "c4e7b477-601c-4233-e2f8-a0a09a3cc63c"
      },
      "source": [
        "# Resample the training data with the BalancedRandomForestClassifier\n",
        "from imblearn.ensemble import BalancedRandomForestClassifier\n",
        "brf_model = BalancedRandomForestClassifier(n_estimators=100, criterion = \"entropy\", bootstrap = True, random_state=42) \n",
        "brf_model.fit(X_train, y_train)"
      ],
      "execution_count": 53,
      "outputs": [
        {
          "output_type": "execute_result",
          "data": {
            "text/plain": [
              "BalancedRandomForestClassifier(criterion='entropy', random_state=42)"
            ]
          },
          "metadata": {
            "tags": []
          },
          "execution_count": 53
        }
      ]
    },
    {
      "cell_type": "code",
      "metadata": {
        "colab": {
          "base_uri": "https://localhost:8080/"
        },
        "id": "0Ae_6Hrs_VGy",
        "outputId": "767f69b8-0b4c-439f-c4d4-3df1211f2f6c"
      },
      "source": [
        "# Calculated the balanced accuracy score\n",
        "y_prediction = brf_model.predict(X_test)\n",
        "balanced_accuracy_score(y_test, y_prediction)"
      ],
      "execution_count": 54,
      "outputs": [
        {
          "output_type": "execute_result",
          "data": {
            "text/plain": [
              "0.7194386715259581"
            ]
          },
          "metadata": {
            "tags": []
          },
          "execution_count": 54
        }
      ]
    },
    {
      "cell_type": "code",
      "metadata": {
        "colab": {
          "base_uri": "https://localhost:8080/",
          "height": 141
        },
        "id": "VaFVpfF__dl2",
        "outputId": "0bc57411-fc1a-4be1-a638-a09c41ec7e57"
      },
      "source": [
        "# Display the confusion matrix\n",
        "cm = confusion_matrix(y_test, y_prediction)\n",
        "# Create a DataFrame from the confusion matrix.\n",
        "cm_df = pd.DataFrame(\n",
        "    cm, index=[\"Actual Low\", \"Actual Medium\", \"Actual High\"], columns=[\"Predicted Low\", \"Predicted Medium\", \"Predicted High\"])\n",
        "\n",
        "cm_df"
      ],
      "execution_count": 55,
      "outputs": [
        {
          "output_type": "execute_result",
          "data": {
            "text/html": [
              "<div>\n",
              "<style scoped>\n",
              "    .dataframe tbody tr th:only-of-type {\n",
              "        vertical-align: middle;\n",
              "    }\n",
              "\n",
              "    .dataframe tbody tr th {\n",
              "        vertical-align: top;\n",
              "    }\n",
              "\n",
              "    .dataframe thead th {\n",
              "        text-align: right;\n",
              "    }\n",
              "</style>\n",
              "<table border=\"1\" class=\"dataframe\">\n",
              "  <thead>\n",
              "    <tr style=\"text-align: right;\">\n",
              "      <th></th>\n",
              "      <th>Predicted Low</th>\n",
              "      <th>Predicted Medium</th>\n",
              "      <th>Predicted High</th>\n",
              "    </tr>\n",
              "  </thead>\n",
              "  <tbody>\n",
              "    <tr>\n",
              "      <th>Actual Low</th>\n",
              "      <td>69</td>\n",
              "      <td>9</td>\n",
              "      <td>14</td>\n",
              "    </tr>\n",
              "    <tr>\n",
              "      <th>Actual Medium</th>\n",
              "      <td>4</td>\n",
              "      <td>97</td>\n",
              "      <td>18</td>\n",
              "    </tr>\n",
              "    <tr>\n",
              "      <th>Actual High</th>\n",
              "      <td>122</td>\n",
              "      <td>105</td>\n",
              "      <td>331</td>\n",
              "    </tr>\n",
              "  </tbody>\n",
              "</table>\n",
              "</div>"
            ],
            "text/plain": [
              "               Predicted Low  Predicted Medium  Predicted High\n",
              "Actual Low                69                 9              14\n",
              "Actual Medium              4                97              18\n",
              "Actual High              122               105             331"
            ]
          },
          "metadata": {
            "tags": []
          },
          "execution_count": 55
        }
      ]
    },
    {
      "cell_type": "code",
      "metadata": {
        "colab": {
          "base_uri": "https://localhost:8080/"
        },
        "id": "MBYzERtp_7mk",
        "outputId": "6ee2a220-8241-4081-e9b4-5cd7ca1b05bd"
      },
      "source": [
        "# Print the imbalanced classification report\n",
        "print(classification_report_imbalanced(y_test, y_prediction))"
      ],
      "execution_count": 56,
      "outputs": [
        {
          "output_type": "stream",
          "text": [
            "                          pre       rec       spe        f1       geo       iba       sup\n",
            "\n",
            "    high hesitancy       0.35      0.75      0.81      0.48      0.78      0.61        92\n",
            "     low hesitancy       0.46      0.82      0.82      0.59      0.82      0.67       119\n",
            "moderate hesitancy       0.91      0.59      0.85      0.72      0.71      0.49       558\n",
            "\n",
            "       avg / total       0.78      0.65      0.84      0.67      0.74      0.53       769\n",
            "\n"
          ],
          "name": "stdout"
        }
      ]
    },
    {
      "cell_type": "code",
      "metadata": {
        "colab": {
          "base_uri": "https://localhost:8080/"
        },
        "id": "tKWGAAZQAu5A",
        "outputId": "5e3775e7-fd97-476a-aaf5-e86531ffdc1f"
      },
      "source": [
        "features_ranked = sorted(zip(brf_model.feature_importances_, X.columns), reverse=True)\n",
        "for feature in features_ranked:\n",
        "  print(f\"{feature[1]}: ({feature[0]})\")"
      ],
      "execution_count": 57,
      "outputs": [
        {
          "output_type": "stream",
          "text": [
            "percentage20_Joe_Biden: (0.07449790726840502)\n",
            "Poverty: (0.07258997373823836)\n",
            "ChildPoverty: (0.06682124686426658)\n",
            "percent_black: (0.06682037975756513)\n",
            "percentage20_Donald_Trump: (0.06484673290834526)\n",
            "WorkAtHome: (0.060070676092511974)\n",
            "Transit: (0.057468654527936626)\n",
            "percent_asian: (0.05700446480989741)\n",
            "population_scaled: (0.0553052376809115)\n",
            "Unemployment: (0.04266909481643594)\n",
            "percent_white: (0.04232369233498349)\n",
            "percent_hispanic: (0.041528620997052595)\n",
            "Drive: (0.04121866633762804)\n",
            "percent_american_indian_alaska_native: (0.04011794736637077)\n",
            "PrivateWork: (0.03596472838381788)\n",
            "PublicWork: (0.03218509194651056)\n",
            "Walk: (0.0300431112816284)\n",
            "SelfEmployed: (0.029625559049406777)\n",
            "Carpool: (0.029007839765002204)\n",
            "OtherTransp: (0.024616502560999915)\n",
            "FamilyWork: (0.017941957946933512)\n",
            "percent_hawaiian_pacific: (0.01733191356515197)\n"
          ],
          "name": "stdout"
        }
      ]
    },
    {
      "cell_type": "markdown",
      "metadata": {
        "id": "LCMVd5j0BOrr"
      },
      "source": [
        "# Easy Ensemble AdaBoost Classifier"
      ]
    },
    {
      "cell_type": "code",
      "metadata": {
        "colab": {
          "base_uri": "https://localhost:8080/"
        },
        "id": "0wFz3CRqBJrc",
        "outputId": "44e9975b-891f-4ce1-ca30-6a101d32f0eb"
      },
      "source": [
        "# Train the EasyEnsembleClassifier\n",
        "from imblearn.ensemble import EasyEnsembleClassifier\n",
        "eec = EasyEnsembleClassifier(n_estimators=100, random_state=1)\n",
        "eec.fit(X_train, y_train)"
      ],
      "execution_count": 41,
      "outputs": [
        {
          "output_type": "execute_result",
          "data": {
            "text/plain": [
              "EasyEnsembleClassifier(n_estimators=100, random_state=1)"
            ]
          },
          "metadata": {
            "tags": []
          },
          "execution_count": 41
        }
      ]
    },
    {
      "cell_type": "code",
      "metadata": {
        "colab": {
          "base_uri": "https://localhost:8080/"
        },
        "id": "9sQiNr0TBbIi",
        "outputId": "8ab8c06f-418f-4984-ecee-3824d372f98d"
      },
      "source": [
        "# Calculated the balanced accuracy score\n",
        "y_predict_eec = eec.predict(X_test)\n",
        "balanced_accuracy_score(y_test, y_predict_eec)"
      ],
      "execution_count": 42,
      "outputs": [
        {
          "output_type": "execute_result",
          "data": {
            "text/plain": [
              "0.6770162327047072"
            ]
          },
          "metadata": {
            "tags": []
          },
          "execution_count": 42
        }
      ]
    },
    {
      "cell_type": "code",
      "metadata": {
        "colab": {
          "base_uri": "https://localhost:8080/"
        },
        "id": "acfjzl4FBcI4",
        "outputId": "4195abc3-4b7c-4c4d-8a6b-fef89fd39827"
      },
      "source": [
        "# Print the imbalanced classification report\n",
        "print(classification_report_imbalanced(y_test, y_predict_eec))"
      ],
      "execution_count": 43,
      "outputs": [
        {
          "output_type": "stream",
          "text": [
            "                          pre       rec       spe        f1       geo       iba       sup\n",
            "\n",
            "    high hesitancy       0.31      0.70      0.79      0.43      0.74      0.54        92\n",
            "     low hesitancy       0.42      0.81      0.80      0.56      0.80      0.65       119\n",
            "moderate hesitancy       0.88      0.53      0.81      0.66      0.65      0.42       558\n",
            "\n",
            "       avg / total       0.74      0.59      0.81      0.62      0.69      0.47       769\n",
            "\n"
          ],
          "name": "stdout"
        }
      ]
    },
    {
      "cell_type": "markdown",
      "metadata": {
        "id": "Kx6hNdfKDrje"
      },
      "source": [
        "# Random Forest Classifier"
      ]
    },
    {
      "cell_type": "code",
      "metadata": {
        "id": "5iKc4SBwBcvq"
      },
      "source": [
        "# Fitting Random Forest Regression to the dataset\n",
        "# import the Random Forest Classifier\n",
        "from sklearn.ensemble import RandomForestClassifier"
      ],
      "execution_count": 59,
      "outputs": []
    },
    {
      "cell_type": "code",
      "metadata": {
        "colab": {
          "base_uri": "https://localhost:8080/"
        },
        "id": "XUmY5N5PEJDF",
        "outputId": "4e2a2cdc-8855-426c-9426-121dd7b47b3d"
      },
      "source": [
        "# create regressor object\n",
        "RF = RandomForestClassifier(n_estimators = 100, criterion = \"gini\", random_state = 42)\n",
        "RF.fit(X_train, y_train)"
      ],
      "execution_count": 65,
      "outputs": [
        {
          "output_type": "execute_result",
          "data": {
            "text/plain": [
              "RandomForestClassifier(random_state=42)"
            ]
          },
          "metadata": {
            "tags": []
          },
          "execution_count": 65
        }
      ]
    },
    {
      "cell_type": "code",
      "metadata": {
        "colab": {
          "base_uri": "https://localhost:8080/"
        },
        "id": "j0Mxv9yHEJwk",
        "outputId": "e3c035e6-f50e-46ae-8cd7-7016e7cc77fb"
      },
      "source": [
        "# Calculated the balanced accuracy score\n",
        "y_prediction = RF.predict(X_test)\n",
        "balanced_accuracy_score(y_test, y_prediction)"
      ],
      "execution_count": 66,
      "outputs": [
        {
          "output_type": "execute_result",
          "data": {
            "text/plain": [
              "0.5876920504838994"
            ]
          },
          "metadata": {
            "tags": []
          },
          "execution_count": 66
        }
      ]
    },
    {
      "cell_type": "code",
      "metadata": {
        "colab": {
          "base_uri": "https://localhost:8080/"
        },
        "id": "d252EZazEKX5",
        "outputId": "aa2aa2e3-4ff5-4383-dbde-fb46fd2e2ed7"
      },
      "source": [
        "# Print the imbalanced classification report\n",
        "print(classification_report_imbalanced(y_test, y_prediction))"
      ],
      "execution_count": 67,
      "outputs": [
        {
          "output_type": "stream",
          "text": [
            "                          pre       rec       spe        f1       geo       iba       sup\n",
            "\n",
            "    high hesitancy       0.62      0.28      0.98      0.39      0.53      0.26        92\n",
            "     low hesitancy       0.76      0.54      0.97      0.63      0.72      0.50       119\n",
            "moderate hesitancy       0.82      0.94      0.45      0.88      0.65      0.44       558\n",
            "\n",
            "       avg / total       0.79      0.80      0.59      0.78      0.64      0.43       769\n",
            "\n"
          ],
          "name": "stdout"
        }
      ]
    }
  ]
}