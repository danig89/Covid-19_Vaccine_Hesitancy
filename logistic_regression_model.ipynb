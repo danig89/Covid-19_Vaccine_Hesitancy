{
 "cells": [
  {
   "cell_type": "code",
   "execution_count": 53,
   "metadata": {},
   "outputs": [],
   "source": [
    "# Import dependencies\n",
    "import pandas as pd\n",
    "import numpy as np\n",
    "\n",
    "from pathlib import Path\n",
    "from collections import Counter\n",
    "\n",
    "import matplotlib.pyplot as plt"
   ]
  },
  {
   "cell_type": "markdown",
   "metadata": {},
   "source": [
    "# Import Data File"
   ]
  },
  {
   "cell_type": "code",
   "execution_count": 2,
   "metadata": {},
   "outputs": [
    {
     "data": {
      "text/html": [
       "<div>\n",
       "<style scoped>\n",
       "    .dataframe tbody tr th:only-of-type {\n",
       "        vertical-align: middle;\n",
       "    }\n",
       "\n",
       "    .dataframe tbody tr th {\n",
       "        vertical-align: top;\n",
       "    }\n",
       "\n",
       "    .dataframe thead th {\n",
       "        text-align: right;\n",
       "    }\n",
       "</style>\n",
       "<table border=\"1\" class=\"dataframe\">\n",
       "  <thead>\n",
       "    <tr style=\"text-align: right;\">\n",
       "      <th></th>\n",
       "      <th>fips_code</th>\n",
       "      <th>est_hesitant</th>\n",
       "      <th>est_strongly_hesitant</th>\n",
       "      <th>svi</th>\n",
       "      <th>svi_category</th>\n",
       "      <th>cvac</th>\n",
       "      <th>cvac_category</th>\n",
       "      <th>percent_hispanic</th>\n",
       "      <th>percent_american_indian_alaska_native</th>\n",
       "      <th>percent_asian</th>\n",
       "      <th>...</th>\n",
       "      <th>Unemployment</th>\n",
       "      <th>percentage20_Donald_Trump</th>\n",
       "      <th>percentage20_Joe_Biden</th>\n",
       "      <th>county_y</th>\n",
       "      <th>state_y</th>\n",
       "      <th>population</th>\n",
       "      <th>density</th>\n",
       "      <th>hesitancy</th>\n",
       "      <th>population_scaled</th>\n",
       "      <th>Winning_candidate_2020</th>\n",
       "    </tr>\n",
       "  </thead>\n",
       "  <tbody>\n",
       "    <tr>\n",
       "      <th>0</th>\n",
       "      <td>1001</td>\n",
       "      <td>0.22</td>\n",
       "      <td>0.10</td>\n",
       "      <td>0.44</td>\n",
       "      <td>Moderate Vulnerability</td>\n",
       "      <td>0.61</td>\n",
       "      <td>High Vulnerability</td>\n",
       "      <td>0.0283</td>\n",
       "      <td>0.0025</td>\n",
       "      <td>0.0103</td>\n",
       "      <td>...</td>\n",
       "      <td>5.2</td>\n",
       "      <td>0.715</td>\n",
       "      <td>0.270</td>\n",
       "      <td>Autauga County</td>\n",
       "      <td>AL</td>\n",
       "      <td>55514</td>\n",
       "      <td>urban</td>\n",
       "      <td>moderate hesitancy</td>\n",
       "      <td>5.5514</td>\n",
       "      <td>Trump</td>\n",
       "    </tr>\n",
       "    <tr>\n",
       "      <th>1</th>\n",
       "      <td>1003</td>\n",
       "      <td>0.20</td>\n",
       "      <td>0.10</td>\n",
       "      <td>0.22</td>\n",
       "      <td>Low Vulnerability</td>\n",
       "      <td>0.23</td>\n",
       "      <td>Low Vulnerability</td>\n",
       "      <td>0.0456</td>\n",
       "      <td>0.0065</td>\n",
       "      <td>0.0092</td>\n",
       "      <td>...</td>\n",
       "      <td>5.5</td>\n",
       "      <td>0.762</td>\n",
       "      <td>0.223</td>\n",
       "      <td>Baldwin County</td>\n",
       "      <td>AL</td>\n",
       "      <td>190790</td>\n",
       "      <td>urban</td>\n",
       "      <td>moderate hesitancy</td>\n",
       "      <td>19.0790</td>\n",
       "      <td>Trump</td>\n",
       "    </tr>\n",
       "    <tr>\n",
       "      <th>2</th>\n",
       "      <td>1005</td>\n",
       "      <td>0.23</td>\n",
       "      <td>0.11</td>\n",
       "      <td>1.00</td>\n",
       "      <td>Very High Vulnerability</td>\n",
       "      <td>0.89</td>\n",
       "      <td>Very High Vulnerability</td>\n",
       "      <td>0.0436</td>\n",
       "      <td>0.0029</td>\n",
       "      <td>0.0048</td>\n",
       "      <td>...</td>\n",
       "      <td>12.4</td>\n",
       "      <td>0.536</td>\n",
       "      <td>0.456</td>\n",
       "      <td>Barbour County</td>\n",
       "      <td>AL</td>\n",
       "      <td>27201</td>\n",
       "      <td>rural</td>\n",
       "      <td>moderate hesitancy</td>\n",
       "      <td>2.7201</td>\n",
       "      <td>Trump</td>\n",
       "    </tr>\n",
       "    <tr>\n",
       "      <th>3</th>\n",
       "      <td>1007</td>\n",
       "      <td>0.24</td>\n",
       "      <td>0.12</td>\n",
       "      <td>0.60</td>\n",
       "      <td>High Vulnerability</td>\n",
       "      <td>0.76</td>\n",
       "      <td>High Vulnerability</td>\n",
       "      <td>0.0257</td>\n",
       "      <td>0.0013</td>\n",
       "      <td>0.0012</td>\n",
       "      <td>...</td>\n",
       "      <td>8.2</td>\n",
       "      <td>0.784</td>\n",
       "      <td>0.207</td>\n",
       "      <td>Bibb County</td>\n",
       "      <td>AL</td>\n",
       "      <td>22597</td>\n",
       "      <td>urban</td>\n",
       "      <td>moderate hesitancy</td>\n",
       "      <td>2.2597</td>\n",
       "      <td>Trump</td>\n",
       "    </tr>\n",
       "    <tr>\n",
       "      <th>4</th>\n",
       "      <td>1009</td>\n",
       "      <td>0.23</td>\n",
       "      <td>0.11</td>\n",
       "      <td>0.42</td>\n",
       "      <td>Moderate Vulnerability</td>\n",
       "      <td>0.80</td>\n",
       "      <td>High Vulnerability</td>\n",
       "      <td>0.0926</td>\n",
       "      <td>0.0007</td>\n",
       "      <td>0.0037</td>\n",
       "      <td>...</td>\n",
       "      <td>4.9</td>\n",
       "      <td>0.896</td>\n",
       "      <td>0.096</td>\n",
       "      <td>Blount County</td>\n",
       "      <td>AL</td>\n",
       "      <td>57826</td>\n",
       "      <td>urban</td>\n",
       "      <td>moderate hesitancy</td>\n",
       "      <td>5.7826</td>\n",
       "      <td>Trump</td>\n",
       "    </tr>\n",
       "  </tbody>\n",
       "</table>\n",
       "<p>5 rows × 62 columns</p>\n",
       "</div>"
      ],
      "text/plain": [
       "   fips_code  est_hesitant  est_strongly_hesitant   svi  \\\n",
       "0       1001          0.22                   0.10  0.44   \n",
       "1       1003          0.20                   0.10  0.22   \n",
       "2       1005          0.23                   0.11  1.00   \n",
       "3       1007          0.24                   0.12  0.60   \n",
       "4       1009          0.23                   0.11  0.42   \n",
       "\n",
       "              svi_category  cvac            cvac_category  percent_hispanic  \\\n",
       "0   Moderate Vulnerability  0.61       High Vulnerability            0.0283   \n",
       "1        Low Vulnerability  0.23        Low Vulnerability            0.0456   \n",
       "2  Very High Vulnerability  0.89  Very High Vulnerability            0.0436   \n",
       "3       High Vulnerability  0.76       High Vulnerability            0.0257   \n",
       "4   Moderate Vulnerability  0.80       High Vulnerability            0.0926   \n",
       "\n",
       "   percent_american_indian_alaska_native  percent_asian  ...  Unemployment  \\\n",
       "0                                 0.0025         0.0103  ...           5.2   \n",
       "1                                 0.0065         0.0092  ...           5.5   \n",
       "2                                 0.0029         0.0048  ...          12.4   \n",
       "3                                 0.0013         0.0012  ...           8.2   \n",
       "4                                 0.0007         0.0037  ...           4.9   \n",
       "\n",
       "   percentage20_Donald_Trump  percentage20_Joe_Biden        county_y state_y  \\\n",
       "0                      0.715                   0.270  Autauga County      AL   \n",
       "1                      0.762                   0.223  Baldwin County      AL   \n",
       "2                      0.536                   0.456  Barbour County      AL   \n",
       "3                      0.784                   0.207     Bibb County      AL   \n",
       "4                      0.896                   0.096   Blount County      AL   \n",
       "\n",
       "  population density           hesitancy population_scaled  \\\n",
       "0      55514   urban  moderate hesitancy            5.5514   \n",
       "1     190790   urban  moderate hesitancy           19.0790   \n",
       "2      27201   rural  moderate hesitancy            2.7201   \n",
       "3      22597   urban  moderate hesitancy            2.2597   \n",
       "4      57826   urban  moderate hesitancy            5.7826   \n",
       "\n",
       "   Winning_candidate_2020  \n",
       "0                   Trump  \n",
       "1                   Trump  \n",
       "2                   Trump  \n",
       "3                   Trump  \n",
       "4                   Trump  \n",
       "\n",
       "[5 rows x 62 columns]"
      ]
     },
     "execution_count": 2,
     "metadata": {},
     "output_type": "execute_result"
    }
   ],
   "source": [
    "# Import data file\n",
    "county_data_df = pd.read_csv(\"complete_county_data.csv\")\n",
    "\n",
    "county_data_df.head()"
   ]
  },
  {
   "cell_type": "code",
   "execution_count": null,
   "metadata": {},
   "outputs": [],
   "source": []
  },
  {
   "cell_type": "markdown",
   "metadata": {},
   "source": [
    "# Split the Data into Training and Testing"
   ]
  },
  {
   "cell_type": "code",
   "execution_count": 3,
   "metadata": {},
   "outputs": [
    {
     "data": {
      "text/html": [
       "<div>\n",
       "<style scoped>\n",
       "    .dataframe tbody tr th:only-of-type {\n",
       "        vertical-align: middle;\n",
       "    }\n",
       "\n",
       "    .dataframe tbody tr th {\n",
       "        vertical-align: top;\n",
       "    }\n",
       "\n",
       "    .dataframe thead th {\n",
       "        text-align: right;\n",
       "    }\n",
       "</style>\n",
       "<table border=\"1\" class=\"dataframe\">\n",
       "  <thead>\n",
       "    <tr style=\"text-align: right;\">\n",
       "      <th></th>\n",
       "      <th>percent_white</th>\n",
       "      <th>percent_hispanic</th>\n",
       "      <th>percent_american_indian_alaska_native</th>\n",
       "      <th>percent_asian</th>\n",
       "      <th>percent_black</th>\n",
       "      <th>percent_hawaiian_pacific</th>\n",
       "      <th>Poverty</th>\n",
       "      <th>ChildPoverty</th>\n",
       "      <th>Drive</th>\n",
       "      <th>Carpool</th>\n",
       "      <th>...</th>\n",
       "      <th>OtherTransp</th>\n",
       "      <th>WorkAtHome</th>\n",
       "      <th>PrivateWork</th>\n",
       "      <th>PublicWork</th>\n",
       "      <th>SelfEmployed</th>\n",
       "      <th>FamilyWork</th>\n",
       "      <th>Unemployment</th>\n",
       "      <th>percentage20_Donald_Trump</th>\n",
       "      <th>percentage20_Joe_Biden</th>\n",
       "      <th>population_scaled</th>\n",
       "    </tr>\n",
       "  </thead>\n",
       "  <tbody>\n",
       "    <tr>\n",
       "      <th>count</th>\n",
       "      <td>3075.000000</td>\n",
       "      <td>3075.000000</td>\n",
       "      <td>3075.000000</td>\n",
       "      <td>3075.000000</td>\n",
       "      <td>3075.000000</td>\n",
       "      <td>3075.000000</td>\n",
       "      <td>3075.000000</td>\n",
       "      <td>3075.000000</td>\n",
       "      <td>3075.000000</td>\n",
       "      <td>3075.000000</td>\n",
       "      <td>...</td>\n",
       "      <td>3075.000000</td>\n",
       "      <td>3075.000000</td>\n",
       "      <td>3075.000000</td>\n",
       "      <td>3075.000000</td>\n",
       "      <td>3075.000000</td>\n",
       "      <td>3075.000000</td>\n",
       "      <td>3075.000000</td>\n",
       "      <td>3075.000000</td>\n",
       "      <td>3075.000000</td>\n",
       "      <td>3075.000000</td>\n",
       "    </tr>\n",
       "    <tr>\n",
       "      <th>mean</th>\n",
       "      <td>0.765595</td>\n",
       "      <td>0.094774</td>\n",
       "      <td>0.015703</td>\n",
       "      <td>0.013121</td>\n",
       "      <td>0.089487</td>\n",
       "      <td>0.000797</td>\n",
       "      <td>16.016878</td>\n",
       "      <td>22.153821</td>\n",
       "      <td>79.857333</td>\n",
       "      <td>9.895642</td>\n",
       "      <td>...</td>\n",
       "      <td>1.521854</td>\n",
       "      <td>4.798081</td>\n",
       "      <td>75.203187</td>\n",
       "      <td>16.743545</td>\n",
       "      <td>7.771089</td>\n",
       "      <td>0.283447</td>\n",
       "      <td>6.326407</td>\n",
       "      <td>0.653608</td>\n",
       "      <td>0.329154</td>\n",
       "      <td>9.977227</td>\n",
       "    </tr>\n",
       "    <tr>\n",
       "      <th>std</th>\n",
       "      <td>0.199056</td>\n",
       "      <td>0.139029</td>\n",
       "      <td>0.065532</td>\n",
       "      <td>0.026105</td>\n",
       "      <td>0.144267</td>\n",
       "      <td>0.003888</td>\n",
       "      <td>6.547258</td>\n",
       "      <td>10.308046</td>\n",
       "      <td>6.661486</td>\n",
       "      <td>2.901009</td>\n",
       "      <td>...</td>\n",
       "      <td>1.141899</td>\n",
       "      <td>3.088986</td>\n",
       "      <td>7.343466</td>\n",
       "      <td>5.963499</td>\n",
       "      <td>3.875747</td>\n",
       "      <td>0.453048</td>\n",
       "      <td>2.992911</td>\n",
       "      <td>0.159027</td>\n",
       "      <td>0.157901</td>\n",
       "      <td>32.134315</td>\n",
       "    </tr>\n",
       "    <tr>\n",
       "      <th>min</th>\n",
       "      <td>0.006900</td>\n",
       "      <td>0.000000</td>\n",
       "      <td>0.000000</td>\n",
       "      <td>0.000000</td>\n",
       "      <td>0.000000</td>\n",
       "      <td>0.000000</td>\n",
       "      <td>2.400000</td>\n",
       "      <td>0.000000</td>\n",
       "      <td>6.000000</td>\n",
       "      <td>0.000000</td>\n",
       "      <td>...</td>\n",
       "      <td>0.000000</td>\n",
       "      <td>0.000000</td>\n",
       "      <td>31.100000</td>\n",
       "      <td>4.400000</td>\n",
       "      <td>0.000000</td>\n",
       "      <td>0.000000</td>\n",
       "      <td>0.000000</td>\n",
       "      <td>0.088000</td>\n",
       "      <td>0.031000</td>\n",
       "      <td>0.007100</td>\n",
       "    </tr>\n",
       "    <tr>\n",
       "      <th>25%</th>\n",
       "      <td>0.648300</td>\n",
       "      <td>0.022200</td>\n",
       "      <td>0.001200</td>\n",
       "      <td>0.002800</td>\n",
       "      <td>0.006450</td>\n",
       "      <td>0.000000</td>\n",
       "      <td>11.400000</td>\n",
       "      <td>14.900000</td>\n",
       "      <td>77.400000</td>\n",
       "      <td>8.100000</td>\n",
       "      <td>...</td>\n",
       "      <td>0.800000</td>\n",
       "      <td>2.900000</td>\n",
       "      <td>71.800000</td>\n",
       "      <td>12.600000</td>\n",
       "      <td>5.200000</td>\n",
       "      <td>0.100000</td>\n",
       "      <td>4.400000</td>\n",
       "      <td>0.565000</td>\n",
       "      <td>0.208000</td>\n",
       "      <td>1.115350</td>\n",
       "    </tr>\n",
       "    <tr>\n",
       "      <th>50%</th>\n",
       "      <td>0.838500</td>\n",
       "      <td>0.042400</td>\n",
       "      <td>0.002800</td>\n",
       "      <td>0.006100</td>\n",
       "      <td>0.022000</td>\n",
       "      <td>0.000100</td>\n",
       "      <td>15.200000</td>\n",
       "      <td>21.200000</td>\n",
       "      <td>81.000000</td>\n",
       "      <td>9.500000</td>\n",
       "      <td>...</td>\n",
       "      <td>1.300000</td>\n",
       "      <td>4.100000</td>\n",
       "      <td>76.300000</td>\n",
       "      <td>15.700000</td>\n",
       "      <td>6.800000</td>\n",
       "      <td>0.200000</td>\n",
       "      <td>6.000000</td>\n",
       "      <td>0.686000</td>\n",
       "      <td>0.297000</td>\n",
       "      <td>2.581500</td>\n",
       "    </tr>\n",
       "    <tr>\n",
       "      <th>75%</th>\n",
       "      <td>0.925200</td>\n",
       "      <td>0.097950</td>\n",
       "      <td>0.006600</td>\n",
       "      <td>0.012600</td>\n",
       "      <td>0.099450</td>\n",
       "      <td>0.000600</td>\n",
       "      <td>19.450000</td>\n",
       "      <td>27.800000</td>\n",
       "      <td>84.000000</td>\n",
       "      <td>11.300000</td>\n",
       "      <td>...</td>\n",
       "      <td>1.900000</td>\n",
       "      <td>5.800000</td>\n",
       "      <td>80.300000</td>\n",
       "      <td>19.400000</td>\n",
       "      <td>9.200000</td>\n",
       "      <td>0.300000</td>\n",
       "      <td>7.800000</td>\n",
       "      <td>0.775500</td>\n",
       "      <td>0.418000</td>\n",
       "      <td>6.660800</td>\n",
       "    </tr>\n",
       "    <tr>\n",
       "      <th>max</th>\n",
       "      <td>1.000000</td>\n",
       "      <td>0.991700</td>\n",
       "      <td>0.901900</td>\n",
       "      <td>0.417300</td>\n",
       "      <td>0.872300</td>\n",
       "      <td>0.110800</td>\n",
       "      <td>52.000000</td>\n",
       "      <td>76.500000</td>\n",
       "      <td>97.200000</td>\n",
       "      <td>29.300000</td>\n",
       "      <td>...</td>\n",
       "      <td>13.800000</td>\n",
       "      <td>33.000000</td>\n",
       "      <td>88.800000</td>\n",
       "      <td>64.800000</td>\n",
       "      <td>38.000000</td>\n",
       "      <td>8.000000</td>\n",
       "      <td>28.700000</td>\n",
       "      <td>0.962000</td>\n",
       "      <td>0.896000</td>\n",
       "      <td>996.278900</td>\n",
       "    </tr>\n",
       "  </tbody>\n",
       "</table>\n",
       "<p>8 rows × 22 columns</p>\n",
       "</div>"
      ],
      "text/plain": [
       "       percent_white  percent_hispanic  percent_american_indian_alaska_native  \\\n",
       "count    3075.000000       3075.000000                            3075.000000   \n",
       "mean        0.765595          0.094774                               0.015703   \n",
       "std         0.199056          0.139029                               0.065532   \n",
       "min         0.006900          0.000000                               0.000000   \n",
       "25%         0.648300          0.022200                               0.001200   \n",
       "50%         0.838500          0.042400                               0.002800   \n",
       "75%         0.925200          0.097950                               0.006600   \n",
       "max         1.000000          0.991700                               0.901900   \n",
       "\n",
       "       percent_asian  percent_black  percent_hawaiian_pacific      Poverty  \\\n",
       "count    3075.000000    3075.000000               3075.000000  3075.000000   \n",
       "mean        0.013121       0.089487                  0.000797    16.016878   \n",
       "std         0.026105       0.144267                  0.003888     6.547258   \n",
       "min         0.000000       0.000000                  0.000000     2.400000   \n",
       "25%         0.002800       0.006450                  0.000000    11.400000   \n",
       "50%         0.006100       0.022000                  0.000100    15.200000   \n",
       "75%         0.012600       0.099450                  0.000600    19.450000   \n",
       "max         0.417300       0.872300                  0.110800    52.000000   \n",
       "\n",
       "       ChildPoverty        Drive      Carpool  ...  OtherTransp   WorkAtHome  \\\n",
       "count   3075.000000  3075.000000  3075.000000  ...  3075.000000  3075.000000   \n",
       "mean      22.153821    79.857333     9.895642  ...     1.521854     4.798081   \n",
       "std       10.308046     6.661486     2.901009  ...     1.141899     3.088986   \n",
       "min        0.000000     6.000000     0.000000  ...     0.000000     0.000000   \n",
       "25%       14.900000    77.400000     8.100000  ...     0.800000     2.900000   \n",
       "50%       21.200000    81.000000     9.500000  ...     1.300000     4.100000   \n",
       "75%       27.800000    84.000000    11.300000  ...     1.900000     5.800000   \n",
       "max       76.500000    97.200000    29.300000  ...    13.800000    33.000000   \n",
       "\n",
       "       PrivateWork   PublicWork  SelfEmployed   FamilyWork  Unemployment  \\\n",
       "count  3075.000000  3075.000000   3075.000000  3075.000000   3075.000000   \n",
       "mean     75.203187    16.743545      7.771089     0.283447      6.326407   \n",
       "std       7.343466     5.963499      3.875747     0.453048      2.992911   \n",
       "min      31.100000     4.400000      0.000000     0.000000      0.000000   \n",
       "25%      71.800000    12.600000      5.200000     0.100000      4.400000   \n",
       "50%      76.300000    15.700000      6.800000     0.200000      6.000000   \n",
       "75%      80.300000    19.400000      9.200000     0.300000      7.800000   \n",
       "max      88.800000    64.800000     38.000000     8.000000     28.700000   \n",
       "\n",
       "       percentage20_Donald_Trump  percentage20_Joe_Biden  population_scaled  \n",
       "count                3075.000000             3075.000000        3075.000000  \n",
       "mean                    0.653608                0.329154           9.977227  \n",
       "std                     0.159027                0.157901          32.134315  \n",
       "min                     0.088000                0.031000           0.007100  \n",
       "25%                     0.565000                0.208000           1.115350  \n",
       "50%                     0.686000                0.297000           2.581500  \n",
       "75%                     0.775500                0.418000           6.660800  \n",
       "max                     0.962000                0.896000         996.278900  \n",
       "\n",
       "[8 rows x 22 columns]"
      ]
     },
     "execution_count": 3,
     "metadata": {},
     "output_type": "execute_result"
    }
   ],
   "source": [
    "# Choose Independent variables\n",
    "X = county_data_df[[\"percent_white\",\"percent_hispanic\", \"percent_american_indian_alaska_native\",\n",
    "                        \"percent_asian\", \"percent_black\", \"percent_hawaiian_pacific\", \"Poverty\", \n",
    "                        \"ChildPoverty\", \"Drive\",\"Carpool\", \"Transit\", \"Walk\", \"OtherTransp\",\n",
    "                        \"WorkAtHome\", \"PrivateWork\", \"PublicWork\", \"SelfEmployed\", \"FamilyWork\", \"Unemployment\", \n",
    "                        \"percentage20_Donald_Trump\", \"percentage20_Joe_Biden\", \"population_scaled\"]]\n",
    "\n",
    "# Create our target\n",
    "y = county_data_df['hesitancy']\n",
    "\n",
    "X.describe()"
   ]
  },
  {
   "cell_type": "code",
   "execution_count": 4,
   "metadata": {},
   "outputs": [
    {
     "name": "stdout",
     "output_type": "stream",
     "text": [
      "Counter({'moderate hesitancy': 1641, 'low hesitancy': 380, 'high hesitancy': 285})\n",
      "Counter({'moderate hesitancy': 558, 'low hesitancy': 119, 'high hesitancy': 92})\n"
     ]
    }
   ],
   "source": [
    "from sklearn.model_selection import train_test_split\n",
    "\n",
    "# Data normalization with sklearn\n",
    "from sklearn.preprocessing import MinMaxScaler\n",
    "\n",
    "# Fit scaler on training data\n",
    "#norm = MinMaxScaler().fit(X)\n",
    "\n",
    "X_train, X_test, y_train, y_test = train_test_split(X, y, random_state=1)\n",
    "min_max_scaler = MinMaxScaler()\n",
    "X_train_scaled = min_max_scaler.fit_transform(X_train)\n",
    "X_test_scaled = min_max_scaler.fit_transform(X_test)\n",
    "\n",
    "print(Counter(y_train))\n",
    "print(Counter(y_test))"
   ]
  },
  {
   "cell_type": "markdown",
   "metadata": {},
   "source": [
    "# Logistic Regression Model"
   ]
  },
  {
   "cell_type": "code",
   "execution_count": 9,
   "metadata": {},
   "outputs": [
    {
     "name": "stdout",
     "output_type": "stream",
     "text": [
      "(769,)\n"
     ]
    }
   ],
   "source": [
    "# Import regression model\n",
    "from sklearn.linear_model import LogisticRegression\n",
    "\n",
    "# Instantiate the model (using the default parameters)\n",
    "logreg = LogisticRegression(solver='saga', random_state=1)\n",
    "\n",
    "# Fit the model with data\n",
    "logreg.fit(X_train_scaled, y_train)\n",
    "\n",
    "y_pred = logreg.predict(X_test_scaled)\n",
    "\n",
    "print(y_pred.shape)"
   ]
  },
  {
   "cell_type": "code",
   "execution_count": 10,
   "metadata": {},
   "outputs": [
    {
     "name": "stdout",
     "output_type": "stream",
     "text": [
      "[[-1.46116916 -2.71613215  2.3557057  -0.82048813  3.44350512  0.12201343\n",
      "   2.40099358  0.21221037 -0.25618851 -0.03447955 -0.20576052  1.06750116\n",
      "   0.36998106 -0.48515967 -0.7451212  -0.04763786  1.04031555  0.82378446\n",
      "  -0.78715138  2.08258652 -2.66222262 -0.37468956]\n",
      " [ 0.85540673  1.27813883 -0.72966382  1.87757294 -3.0443312   0.5887336\n",
      "  -3.24053367 -0.83468015 -0.53588843  0.14563458  1.06780697 -1.43757283\n",
      "  -0.52564742  1.26891504 -0.0067022   0.6164534  -0.81629471 -0.82744478\n",
      "  -0.06506592 -2.92425815  2.61269498  0.03250821]\n",
      " [ 0.60576242  1.43799332 -1.62604188 -1.05708482 -0.39917392 -0.71074703\n",
      "   0.83954008  0.62246978  0.79207693 -0.11115503 -0.86204645  0.37007167\n",
      "   0.15566636 -0.78375537  0.7518234  -0.56881553 -0.22402084  0.00366031\n",
      "   0.8522173   0.84167163  0.04952764  0.34218135]]\n"
     ]
    }
   ],
   "source": [
    "# Print coefficients\n",
    "print(logreg.coef_)"
   ]
  },
  {
   "cell_type": "code",
   "execution_count": 11,
   "metadata": {},
   "outputs": [
    {
     "name": "stdout",
     "output_type": "stream",
     "text": [
      "[-0.26469261  1.3820545  -1.11736189]\n"
     ]
    }
   ],
   "source": [
    "# Print intercept values\n",
    "print(logreg.intercept_)"
   ]
  },
  {
   "cell_type": "code",
   "execution_count": 44,
   "metadata": {},
   "outputs": [
    {
     "data": {
      "text/plain": [
       "<matplotlib.collections.PathCollection at 0x27388500888>"
      ]
     },
     "execution_count": 44,
     "metadata": {},
     "output_type": "execute_result"
    },
    {
     "data": {
      "image/png": "[encoded data removed]",
      "text/plain": [
       "<Figure size 432x288 with 1 Axes>"
      ]
     },
     "metadata": {
      "needs_background": "light"
     },
     "output_type": "display_data"
    }
   ],
   "source": [
    "# Test model with predictions\n",
    "import matplotlib.pyplot as plt\n",
    "%matplotlib inline\n",
    "\n",
    "plt.scatter(y_test, y_pred)"
   ]
  },
  {
   "cell_type": "code",
   "execution_count": 28,
   "metadata": {},
   "outputs": [
    {
     "data": {
      "text/plain": [
       "array([[ 56,  14,  22],\n",
       "       [ 14,  79,  26],\n",
       "       [175,  95, 288]], dtype=int64)"
      ]
     },
     "execution_count": 28,
     "metadata": {},
     "output_type": "execute_result"
    }
   ],
   "source": [
    "# Import the metrics class\n",
    "from sklearn import metrics\n",
    "cnf_matrix = metrics.confusion_matrix(y_test, y_pred)\n",
    "cnf_matrix"
   ]
  },
  {
   "cell_type": "code",
   "execution_count": 29,
   "metadata": {},
   "outputs": [
    {
     "name": "stdout",
     "output_type": "stream",
     "text": [
      "Accuracy: 0.5500650195058517\n",
      "Precision: 0.5500650195058517\n",
      "Recall: 0.5500650195058517\n"
     ]
    }
   ],
   "source": [
    "# Print accuracy, precision, recall\n",
    "print(\"Accuracy:\",metrics.accuracy_score(y_test, y_pred))\n",
    "\n",
    "print(\"Precision:\",metrics.precision_score(y_test, y_pred,\n",
    "                                          average='micro'))\n",
    "\n",
    "print(\"Recall:\",metrics.recall_score(y_test, y_pred, \n",
    "                                     average='micro'))"
   ]
  },
  {
   "cell_type": "code",
   "execution_count": 31,
   "metadata": {},
   "outputs": [
    {
     "name": "stdout",
     "output_type": "stream",
     "text": [
      "                    precision    recall  f1-score   support\n",
      "\n",
      "    high hesitancy       0.23      0.61      0.33        92\n",
      "     low hesitancy       0.42      0.66      0.51       119\n",
      "moderate hesitancy       0.86      0.52      0.64       558\n",
      "\n",
      "          accuracy                           0.55       769\n",
      "         macro avg       0.50      0.60      0.50       769\n",
      "      weighted avg       0.71      0.55      0.59       769\n",
      "\n",
      "                          pre       rec       spe        f1       geo       iba       sup\n",
      "\n",
      "    high hesitancy       0.23      0.61      0.72      0.33      0.66      0.43        92\n",
      "     low hesitancy       0.42      0.66      0.83      0.51      0.74      0.54       119\n",
      "moderate hesitancy       0.86      0.52      0.77      0.64      0.63      0.39       558\n",
      "\n",
      "       avg / total       0.71      0.55      0.78      0.59      0.65      0.42       769\n",
      "\n"
     ]
    }
   ],
   "source": [
    "# Print classification report\n",
    "print(metrics.classification_report(y_test, y_pred))\n",
    "\n",
    "print(classification_report_imbalanced(y_test, y_pred))"
   ]
  },
  {
   "cell_type": "markdown",
   "metadata": {},
   "source": [
    "# Oversampling"
   ]
  },
  {
   "cell_type": "markdown",
   "metadata": {},
   "source": [
    "### Naive Random Oversampling"
   ]
  },
  {
   "cell_type": "code",
   "execution_count": 55,
   "metadata": {},
   "outputs": [
    {
     "data": {
      "text/plain": [
       "Counter({'high hesitancy': 1641,\n",
       "         'moderate hesitancy': 1641,\n",
       "         'low hesitancy': 1641})"
      ]
     },
     "execution_count": 55,
     "metadata": {},
     "output_type": "execute_result"
    }
   ],
   "source": [
    "# Resample the training data with the RandomOversampler\n",
    "from imblearn.over_sampling import RandomOverSampler\n",
    "ros = RandomOverSampler(random_state=1)\n",
    "X_resampled, y_resampled = ros.fit_resample(X_train, y_train)\n",
    "Counter(y_resampled)"
   ]
  },
  {
   "cell_type": "code",
   "execution_count": 18,
   "metadata": {},
   "outputs": [
    {
     "name": "stderr",
     "output_type": "stream",
     "text": [
      "C:\\Users\\Dani-PC\\anaconda3\\envs\\PythonData\\lib\\site-packages\\sklearn\\linear_model\\_logistic.py:765: ConvergenceWarning: lbfgs failed to converge (status=1):\n",
      "STOP: TOTAL NO. of ITERATIONS REACHED LIMIT.\n",
      "\n",
      "Increase the number of iterations (max_iter) or scale the data as shown in:\n",
      "    https://scikit-learn.org/stable/modules/preprocessing.html\n",
      "Please also refer to the documentation for alternative solver options:\n",
      "    https://scikit-learn.org/stable/modules/linear_model.html#logistic-regression\n",
      "  extra_warning_msg=_LOGISTIC_SOLVER_CONVERGENCE_MSG)\n"
     ]
    },
    {
     "data": {
      "text/plain": [
       "LogisticRegression(random_state=1)"
      ]
     },
     "execution_count": 18,
     "metadata": {},
     "output_type": "execute_result"
    }
   ],
   "source": [
    "# Train the Logistic Regression model using the resampled data\n",
    "from sklearn.linear_model import LogisticRegression\n",
    "model = LogisticRegression(solver='lbfgs', random_state=1)\n",
    "model.fit(X_resampled, y_resampled)"
   ]
  },
  {
   "cell_type": "code",
   "execution_count": 48,
   "metadata": {},
   "outputs": [
    {
     "data": {
      "text/plain": [
       "0.5990332707806513"
      ]
     },
     "execution_count": 48,
     "metadata": {},
     "output_type": "execute_result"
    }
   ],
   "source": [
    "# Calculated the balanced accuracy score\n",
    "from sklearn.metrics import balanced_accuracy_score\n",
    "balanced_accuracy_score(y_test, y_pred)"
   ]
  },
  {
   "cell_type": "code",
   "execution_count": 49,
   "metadata": {},
   "outputs": [
    {
     "data": {
      "text/plain": [
       "array([[ 71,  15,   6],\n",
       "       [ 20,  96,   3],\n",
       "       [291, 145, 122]], dtype=int64)"
      ]
     },
     "execution_count": 49,
     "metadata": {},
     "output_type": "execute_result"
    }
   ],
   "source": [
    "# Display the confusion matrix\n",
    "from sklearn.metrics import confusion_matrix\n",
    "y_pred = model.predict(X_test)\n",
    "confusion_matrix(y_test, y_pred)"
   ]
  },
  {
   "cell_type": "code",
   "execution_count": 50,
   "metadata": {},
   "outputs": [
    {
     "name": "stdout",
     "output_type": "stream",
     "text": [
      "                          pre       rec       spe        f1       geo       iba       sup\n",
      "\n",
      "    high hesitancy       0.19      0.77      0.54      0.30      0.65      0.43        92\n",
      "     low hesitancy       0.38      0.81      0.75      0.51      0.78      0.61       119\n",
      "moderate hesitancy       0.93      0.22      0.96      0.35      0.46      0.19       558\n",
      "\n",
      "       avg / total       0.76      0.38      0.88      0.37      0.53      0.29       769\n",
      "\n"
     ]
    }
   ],
   "source": [
    "# Print the imbalanced classification report\n",
    "from imblearn.metrics import classification_report_imbalanced\n",
    "print(classification_report_imbalanced(y_test, y_pred))"
   ]
  },
  {
   "cell_type": "markdown",
   "metadata": {},
   "source": [
    "### SMOTE Oversampling"
   ]
  },
  {
   "cell_type": "code",
   "execution_count": 22,
   "metadata": {},
   "outputs": [
    {
     "data": {
      "text/plain": [
       "Counter({'high hesitancy': 1641,\n",
       "         'moderate hesitancy': 1641,\n",
       "         'low hesitancy': 1641})"
      ]
     },
     "execution_count": 22,
     "metadata": {},
     "output_type": "execute_result"
    }
   ],
   "source": [
    "# Resample the training data with SMOTE\n",
    "from imblearn.over_sampling import SMOTE\n",
    "X_resampled, y_resampled = SMOTE(random_state=1,\n",
    "sampling_strategy='auto').fit_resample(\n",
    "   X_train, y_train)\n",
    "Counter(y_resampled)"
   ]
  },
  {
   "cell_type": "code",
   "execution_count": 23,
   "metadata": {},
   "outputs": [
    {
     "name": "stderr",
     "output_type": "stream",
     "text": [
      "C:\\Users\\Dani-PC\\anaconda3\\envs\\PythonData\\lib\\site-packages\\sklearn\\linear_model\\_logistic.py:765: ConvergenceWarning: lbfgs failed to converge (status=1):\n",
      "STOP: TOTAL NO. of ITERATIONS REACHED LIMIT.\n",
      "\n",
      "Increase the number of iterations (max_iter) or scale the data as shown in:\n",
      "    https://scikit-learn.org/stable/modules/preprocessing.html\n",
      "Please also refer to the documentation for alternative solver options:\n",
      "    https://scikit-learn.org/stable/modules/linear_model.html#logistic-regression\n",
      "  extra_warning_msg=_LOGISTIC_SOLVER_CONVERGENCE_MSG)\n"
     ]
    },
    {
     "data": {
      "text/plain": [
       "LogisticRegression(random_state=1)"
      ]
     },
     "execution_count": 23,
     "metadata": {},
     "output_type": "execute_result"
    }
   ],
   "source": [
    "# Train the Logistic Regression model using the resampled data\n",
    "model = LogisticRegression(solver='lbfgs', random_state=1)\n",
    "model.fit(X_resampled, y_resampled)"
   ]
  },
  {
   "cell_type": "code",
   "execution_count": 24,
   "metadata": {},
   "outputs": [
    {
     "data": {
      "text/plain": [
       "0.5962300768834883"
      ]
     },
     "execution_count": 24,
     "metadata": {},
     "output_type": "execute_result"
    }
   ],
   "source": [
    "# Calculated the balanced accuracy score\n",
    "y_pred = model.predict(X_test)\n",
    "balanced_accuracy_score(y_test, y_pred)"
   ]
  },
  {
   "cell_type": "code",
   "execution_count": 25,
   "metadata": {},
   "outputs": [
    {
     "data": {
      "text/plain": [
       "array([[ 56,  14,  22],\n",
       "       [ 14,  79,  26],\n",
       "       [175,  95, 288]], dtype=int64)"
      ]
     },
     "execution_count": 25,
     "metadata": {},
     "output_type": "execute_result"
    }
   ],
   "source": [
    "# Display the confusion matrix\n",
    "confusion_matrix(y_test, y_pred)"
   ]
  },
  {
   "cell_type": "code",
   "execution_count": 26,
   "metadata": {},
   "outputs": [
    {
     "name": "stdout",
     "output_type": "stream",
     "text": [
      "                          pre       rec       spe        f1       geo       iba       sup\n",
      "\n",
      "    high hesitancy       0.23      0.61      0.72      0.33      0.66      0.43        92\n",
      "     low hesitancy       0.42      0.66      0.83      0.51      0.74      0.54       119\n",
      "moderate hesitancy       0.86      0.52      0.77      0.64      0.63      0.39       558\n",
      "\n",
      "       avg / total       0.71      0.55      0.78      0.59      0.65      0.42       769\n",
      "\n"
     ]
    }
   ],
   "source": [
    "# Print the imbalanced classification report\n",
    "print(classification_report_imbalanced(y_test, y_pred))"
   ]
  },
  {
   "cell_type": "markdown",
   "metadata": {},
   "source": [
    "# Undersampling"
   ]
  },
  {
   "cell_type": "code",
   "execution_count": 32,
   "metadata": {},
   "outputs": [
    {
     "data": {
      "text/plain": [
       "Counter({'high hesitancy': 285,\n",
       "         'low hesitancy': 285,\n",
       "         'moderate hesitancy': 285})"
      ]
     },
     "execution_count": 32,
     "metadata": {},
     "output_type": "execute_result"
    }
   ],
   "source": [
    "# Resample the data using the ClusterCentroids resampler\n",
    "from imblearn.under_sampling import ClusterCentroids\n",
    "cc = ClusterCentroids(random_state=1)\n",
    "X_resampled, y_resampled = cc.fit_resample(X_train, y_train)\n",
    "Counter(y_resampled)"
   ]
  },
  {
   "cell_type": "code",
   "execution_count": 33,
   "metadata": {},
   "outputs": [
    {
     "name": "stderr",
     "output_type": "stream",
     "text": [
      "C:\\Users\\Dani-PC\\anaconda3\\envs\\PythonData\\lib\\site-packages\\sklearn\\linear_model\\_logistic.py:765: ConvergenceWarning: lbfgs failed to converge (status=1):\n",
      "STOP: TOTAL NO. of ITERATIONS REACHED LIMIT.\n",
      "\n",
      "Increase the number of iterations (max_iter) or scale the data as shown in:\n",
      "    https://scikit-learn.org/stable/modules/preprocessing.html\n",
      "Please also refer to the documentation for alternative solver options:\n",
      "    https://scikit-learn.org/stable/modules/linear_model.html#logistic-regression\n",
      "  extra_warning_msg=_LOGISTIC_SOLVER_CONVERGENCE_MSG)\n"
     ]
    },
    {
     "data": {
      "text/plain": [
       "LogisticRegression(random_state=1)"
      ]
     },
     "execution_count": 33,
     "metadata": {},
     "output_type": "execute_result"
    }
   ],
   "source": [
    "# Train the Logistic Regression model using the resampled data\n",
    "from sklearn.linear_model import LogisticRegression\n",
    "model = LogisticRegression(solver='lbfgs', random_state=1)\n",
    "model.fit(X_resampled, y_resampled)"
   ]
  },
  {
   "cell_type": "code",
   "execution_count": 34,
   "metadata": {},
   "outputs": [
    {
     "data": {
      "text/plain": [
       "0.5962300768834883"
      ]
     },
     "execution_count": 34,
     "metadata": {},
     "output_type": "execute_result"
    }
   ],
   "source": [
    "# Calculated the balanced accuracy score\n",
    "from sklearn.metrics import balanced_accuracy_score\n",
    "balanced_accuracy_score(y_test, y_pred)"
   ]
  },
  {
   "cell_type": "code",
   "execution_count": 35,
   "metadata": {},
   "outputs": [
    {
     "data": {
      "text/plain": [
       "array([[ 70,  10,  12],\n",
       "       [ 12,  80,  27],\n",
       "       [291, 148, 119]], dtype=int64)"
      ]
     },
     "execution_count": 35,
     "metadata": {},
     "output_type": "execute_result"
    }
   ],
   "source": [
    "# Display the confusion matrix\n",
    "from sklearn.metrics import confusion_matrix\n",
    "y_pred = model.predict(X_test)\n",
    "confusion_matrix(y_test, y_pred)"
   ]
  },
  {
   "cell_type": "code",
   "execution_count": 37,
   "metadata": {},
   "outputs": [
    {
     "name": "stdout",
     "output_type": "stream",
     "text": [
      "                          pre       rec       spe        f1       geo       iba       sup\n",
      "\n",
      "    high hesitancy       0.19      0.76      0.55      0.30      0.65      0.43        92\n",
      "     low hesitancy       0.34      0.67      0.76      0.45      0.71      0.50       119\n",
      "moderate hesitancy       0.75      0.21      0.82      0.33      0.42      0.16       558\n",
      "\n",
      "       avg / total       0.62      0.35      0.77      0.35      0.49      0.25       769\n",
      "\n"
     ]
    }
   ],
   "source": [
    "# Print the imbalanced classification report\n",
    "from imblearn.metrics import classification_report_imbalanced\n",
    "print(classification_report_imbalanced(y_test, y_pred))"
   ]
  },
  {
   "cell_type": "markdown",
   "metadata": {},
   "source": [
    "# Combination (Over and Under) Sampling"
   ]
  },
  {
   "cell_type": "code",
   "execution_count": 38,
   "metadata": {},
   "outputs": [
    {
     "data": {
      "text/plain": [
       "Counter({'high hesitancy': 2063,\n",
       "         'low hesitancy': 2034,\n",
       "         'moderate hesitancy': 826})"
      ]
     },
     "execution_count": 38,
     "metadata": {},
     "output_type": "execute_result"
    }
   ],
   "source": [
    "# Resample the training data with SMOTEENN\n",
    "from imblearn.combine import SMOTEENN\n",
    "smote_enn = SMOTEENN(random_state=0)\n",
    "X_resampled, y_resampled = smote_enn.fit_resample(X, y)\n",
    "Counter(y_resampled)"
   ]
  },
  {
   "cell_type": "code",
   "execution_count": 39,
   "metadata": {},
   "outputs": [
    {
     "name": "stderr",
     "output_type": "stream",
     "text": [
      "C:\\Users\\Dani-PC\\anaconda3\\envs\\PythonData\\lib\\site-packages\\sklearn\\linear_model\\_logistic.py:765: ConvergenceWarning: lbfgs failed to converge (status=1):\n",
      "STOP: TOTAL NO. of ITERATIONS REACHED LIMIT.\n",
      "\n",
      "Increase the number of iterations (max_iter) or scale the data as shown in:\n",
      "    https://scikit-learn.org/stable/modules/preprocessing.html\n",
      "Please also refer to the documentation for alternative solver options:\n",
      "    https://scikit-learn.org/stable/modules/linear_model.html#logistic-regression\n",
      "  extra_warning_msg=_LOGISTIC_SOLVER_CONVERGENCE_MSG)\n"
     ]
    },
    {
     "data": {
      "text/plain": [
       "LogisticRegression(random_state=1)"
      ]
     },
     "execution_count": 39,
     "metadata": {},
     "output_type": "execute_result"
    }
   ],
   "source": [
    "# Train the Logistic Regression model using the resampled data\n",
    "from sklearn.linear_model import LogisticRegression\n",
    "model = LogisticRegression(solver='lbfgs', random_state=1)\n",
    "model.fit(X_resampled, y_resampled)"
   ]
  },
  {
   "cell_type": "code",
   "execution_count": 40,
   "metadata": {},
   "outputs": [
    {
     "data": {
      "text/plain": [
       "0.5488000405086454"
      ]
     },
     "execution_count": 40,
     "metadata": {},
     "output_type": "execute_result"
    }
   ],
   "source": [
    "# Calculated the balanced accuracy score\n",
    "from sklearn.metrics import balanced_accuracy_score\n",
    "balanced_accuracy_score(y_test, y_pred)"
   ]
  },
  {
   "cell_type": "code",
   "execution_count": 41,
   "metadata": {},
   "outputs": [
    {
     "data": {
      "text/plain": [
       "array([[ 71,  15,   6],\n",
       "       [ 20,  96,   3],\n",
       "       [291, 145, 122]], dtype=int64)"
      ]
     },
     "execution_count": 41,
     "metadata": {},
     "output_type": "execute_result"
    }
   ],
   "source": [
    "# Display the confusion matrix\n",
    "from sklearn.metrics import confusion_matrix\n",
    "y_pred = model.predict(X_test)\n",
    "confusion_matrix(y_test, y_pred)"
   ]
  },
  {
   "cell_type": "code",
   "execution_count": 42,
   "metadata": {},
   "outputs": [
    {
     "name": "stdout",
     "output_type": "stream",
     "text": [
      "                          pre       rec       spe        f1       geo       iba       sup\n",
      "\n",
      "    high hesitancy       0.19      0.77      0.54      0.30      0.65      0.43        92\n",
      "     low hesitancy       0.38      0.81      0.75      0.51      0.78      0.61       119\n",
      "moderate hesitancy       0.93      0.22      0.96      0.35      0.46      0.19       558\n",
      "\n",
      "       avg / total       0.76      0.38      0.88      0.37      0.53      0.29       769\n",
      "\n"
     ]
    }
   ],
   "source": [
    "# Print the imbalanced classification report\n",
    "from imblearn.metrics import classification_report_imbalanced\n",
    "print(classification_report_imbalanced(y_test, y_pred))"
   ]
  }
 ],
 "metadata": {
  "kernelspec": {
   "display_name": "mlenv",
   "language": "python",
   "name": "mlenv"
  },
  "language_info": {
   "codemirror_mode": {
    "name": "ipython",
    "version": 3
   },
   "file_extension": ".py",
   "mimetype": "text/x-python",
   "name": "python",
   "nbconvert_exporter": "python",
   "pygments_lexer": "ipython3",
   "version": "3.7.6"
  }
 },
 "nbformat": 4,
 "nbformat_minor": 4
}
